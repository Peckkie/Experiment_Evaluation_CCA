{
  "nbformat": 4,
  "nbformat_minor": 0,
  "metadata": {
    "colab": {
      "name": "Evaluation_each_case.ipynb",
      "provenance": [],
      "authorship_tag": "ABX9TyOrty7HdiofdmmRWFiwSz5t",
      "include_colab_link": true
    },
    "kernelspec": {
      "name": "python3",
      "display_name": "Python 3"
    },
    "language_info": {
      "name": "python"
    }
  },
  "cells": [
    {
      "cell_type": "markdown",
      "metadata": {
        "id": "view-in-github",
        "colab_type": "text"
      },
      "source": [
        "<a href=\"https://colab.research.google.com/github/Peckkie/Experiment_Evaluation_CCA/blob/main/Evaluation_each_case.ipynb\" target=\"_parent\"><img src=\"https://colab.research.google.com/assets/colab-badge.svg\" alt=\"Open In Colab\"/></a>"
      ]
    },
    {
      "cell_type": "code",
      "metadata": {
        "colab": {
          "base_uri": "https://localhost:8080/"
        },
        "id": "m8HZQ1IaYycb",
        "outputId": "81d03903-3c51-4e57-b6c4-5d9bb34ea8b0"
      },
      "source": [
        "# คำสั่ง  drive.mount : เป็นผูก google drive กับ colab\n",
        "from google.colab import drive\n",
        "drive.mount('/content/drive')"
      ],
      "execution_count": 1,
      "outputs": [
        {
          "output_type": "stream",
          "text": [
            "Mounted at /content/drive\n"
          ],
          "name": "stdout"
        }
      ]
    },
    {
      "cell_type": "code",
      "metadata": {
        "colab": {
          "base_uri": "https://localhost:8080/"
        },
        "id": "3_VTvVHgYzC6",
        "outputId": "bee64a50-9ccd-4ba0-ec69-89eadfb23c20"
      },
      "source": [
        "import os\n",
        "os.chdir( '/content/drive/MyDrive/CCA_Project')\n",
        "!pwd "
      ],
      "execution_count": 2,
      "outputs": [
        {
          "output_type": "stream",
          "text": [
            "/content/drive/MyDrive/CCA_Project\n"
          ],
          "name": "stdout"
        }
      ]
    },
    {
      "cell_type": "code",
      "metadata": {
        "colab": {
          "base_uri": "https://localhost:8080/",
          "height": 284
        },
        "id": "4x_G62vWY3EJ",
        "outputId": "a84c97dc-cecc-4bf2-ab3c-48004de1bd14"
      },
      "source": [
        "import pandas as pd\n",
        "RFdf = pd.read_csv( '/content/drive/MyDrive/CCA_Project/result_csv/Testdf_15ABrf.csv')\n",
        "RFdf.head(3)"
      ],
      "execution_count": 7,
      "outputs": [
        {
          "output_type": "execute_result",
          "data": {
            "text/html": [
              "<div>\n",
              "<style scoped>\n",
              "    .dataframe tbody tr th:only-of-type {\n",
              "        vertical-align: middle;\n",
              "    }\n",
              "\n",
              "    .dataframe tbody tr th {\n",
              "        vertical-align: top;\n",
              "    }\n",
              "\n",
              "    .dataframe thead th {\n",
              "        text-align: right;\n",
              "    }\n",
              "</style>\n",
              "<table border=\"1\" class=\"dataframe\">\n",
              "  <thead>\n",
              "    <tr style=\"text-align: right;\">\n",
              "      <th></th>\n",
              "      <th>Unnamed: 0</th>\n",
              "      <th>Case</th>\n",
              "      <th>Abs Position</th>\n",
              "      <th>Sub Position</th>\n",
              "      <th>Class</th>\n",
              "      <th>Sub_class</th>\n",
              "      <th>Path Full</th>\n",
              "      <th>Path Crop</th>\n",
              "      <th>Views</th>\n",
              "      <th>fold</th>\n",
              "      <th>tagName</th>\n",
              "      <th>originalImage</th>\n",
              "      <th>left</th>\n",
              "      <th>top</th>\n",
              "      <th>width</th>\n",
              "      <th>height</th>\n",
              "      <th>Rleft</th>\n",
              "      <th>Rtop</th>\n",
              "      <th>Rwidth</th>\n",
              "      <th>Rheight</th>\n",
              "      <th>filename</th>\n",
              "      <th>15AB_category</th>\n",
              "      <th>15AB_Prob</th>\n",
              "      <th>15AB_ProbAll</th>\n",
              "      <th>Predict_15AB</th>\n",
              "    </tr>\n",
              "  </thead>\n",
              "  <tbody>\n",
              "    <tr>\n",
              "      <th>0</th>\n",
              "      <td>0</td>\n",
              "      <td>40</td>\n",
              "      <td>P1</td>\n",
              "      <td>P1</td>\n",
              "      <td>Abnormal</td>\n",
              "      <td>AB01</td>\n",
              "      <td>/media/tohn/HDD/VISION_dataset/USAI/ABnormal01...</td>\n",
              "      <td>/media/tohn/HDD/VISION_dataset/USAI/ABnormal01...</td>\n",
              "      <td>FP-A</td>\n",
              "      <td>2</td>\n",
              "      <td>MildFattyLiver</td>\n",
              "      <td>https://irisprodseatraining.blob.core.windows....</td>\n",
              "      <td>86.0</td>\n",
              "      <td>133.0</td>\n",
              "      <td>477.0</td>\n",
              "      <td>311.0</td>\n",
              "      <td>0.092664</td>\n",
              "      <td>0.148873</td>\n",
              "      <td>0.513514</td>\n",
              "      <td>0.346614</td>\n",
              "      <td>AB01 P1 C040.JPG</td>\n",
              "      <td>Normal</td>\n",
              "      <td>0.413035</td>\n",
              "      <td>[0.21054949660106018, 0.15272910155885105, 0.0...</td>\n",
              "      <td>Incorrect</td>\n",
              "    </tr>\n",
              "    <tr>\n",
              "      <th>1</th>\n",
              "      <td>1</td>\n",
              "      <td>40</td>\n",
              "      <td>P2</td>\n",
              "      <td>P2</td>\n",
              "      <td>Abnormal</td>\n",
              "      <td>AB01</td>\n",
              "      <td>/media/tohn/HDD/VISION_dataset/USAI/ABnormal01...</td>\n",
              "      <td>/media/tohn/HDD/VISION_dataset/USAI/ABnormal01...</td>\n",
              "      <td>FP-A</td>\n",
              "      <td>2</td>\n",
              "      <td>MildFattyLiver</td>\n",
              "      <td>https://irisprodseatraining.blob.core.windows....</td>\n",
              "      <td>163.0</td>\n",
              "      <td>139.0</td>\n",
              "      <td>532.0</td>\n",
              "      <td>385.0</td>\n",
              "      <td>0.171698</td>\n",
              "      <td>0.154849</td>\n",
              "      <td>0.560377</td>\n",
              "      <td>0.428287</td>\n",
              "      <td>AB01 P2 C040.JPG</td>\n",
              "      <td>AB01</td>\n",
              "      <td>0.741650</td>\n",
              "      <td>[0.741650235419515, 0.07765986354655634, 0.003...</td>\n",
              "      <td>Correct</td>\n",
              "    </tr>\n",
              "    <tr>\n",
              "      <th>2</th>\n",
              "      <td>2</td>\n",
              "      <td>40</td>\n",
              "      <td>P4</td>\n",
              "      <td>P41</td>\n",
              "      <td>Abnormal</td>\n",
              "      <td>AB01</td>\n",
              "      <td>/media/tohn/HDD/VISION_dataset/USAI/ABnormal01...</td>\n",
              "      <td>/media/tohn/HDD/VISION_dataset/USAI/ABnormal01...</td>\n",
              "      <td>FP-B</td>\n",
              "      <td>2</td>\n",
              "      <td>MildFattyLiver</td>\n",
              "      <td>https://irisprodseatraining.blob.core.windows....</td>\n",
              "      <td>127.0</td>\n",
              "      <td>135.0</td>\n",
              "      <td>605.0</td>\n",
              "      <td>640.0</td>\n",
              "      <td>0.140316</td>\n",
              "      <td>0.150865</td>\n",
              "      <td>0.667984</td>\n",
              "      <td>0.711155</td>\n",
              "      <td>AB01 P4-1 C040.JPG</td>\n",
              "      <td>AB02</td>\n",
              "      <td>0.432403</td>\n",
              "      <td>[0.34931351731971466, 0.43240273685662617, 0.0...</td>\n",
              "      <td>Incorrect</td>\n",
              "    </tr>\n",
              "  </tbody>\n",
              "</table>\n",
              "</div>"
            ],
            "text/plain": [
              "   Unnamed: 0  ...  Predict_15AB\n",
              "0           0  ...     Incorrect\n",
              "1           1  ...       Correct\n",
              "2           2  ...     Incorrect\n",
              "\n",
              "[3 rows x 25 columns]"
            ]
          },
          "metadata": {},
          "execution_count": 7
        }
      ]
    },
    {
      "cell_type": "code",
      "metadata": {
        "id": "NSM_MXlWY3Nh"
      },
      "source": [
        "Suspected_CCA = ['AB05', 'AB06', 'AB07', 'AB081', 'AB082', 'AB083']\n",
        "Non_Suspected_CCA = ['AB01','AB02','AB03', 'AB04','AB09', 'AB10', 'AB11','AB12']"
      ],
      "execution_count": 8,
      "outputs": []
    },
    {
      "cell_type": "code",
      "metadata": {
        "id": "qVHgB5VOZQVk"
      },
      "source": [
        "a_ = RFdf['15AB_category'].tolist()\n",
        "\n",
        "AI_Predic =[]\n",
        "for  i in range(len(a_)):\n",
        "    if a_[i] in Suspected_CCA:\n",
        "        a = 'SuspectedCCA'\n",
        "        AI_Predic.append(a)\n",
        "    elif a_[i] in Non_Suspected_CCA:\n",
        "        a = 'Non_SuspectedCCA'\n",
        "        AI_Predic.append(a)\n",
        "    else:\n",
        "        a = 'Normal'\n",
        "        AI_Predic.append(a) \n",
        "\n",
        "a_ = RFdf['Sub_class'].tolist()\n",
        "\n",
        "Act_Predic =[]\n",
        "for  i in range(len(a_)):\n",
        "    if a_[i] in Suspected_CCA:\n",
        "        a = 'SuspectedCCA'\n",
        "        Act_Predic.append(a)\n",
        "    elif a_[i] in Non_Suspected_CCA:\n",
        "        a = 'Non_SuspectedCCA'\n",
        "        Act_Predic.append(a)\n",
        "    else:\n",
        "        a = 'Normal'\n",
        "        Act_Predic.append(a) \n",
        "\n",
        "RFdf['AI_Predic_CCA'] = AI_Predic\n",
        "RFdf['Act_Predic_CCA'] = Act_Predic"
      ],
      "execution_count": 9,
      "outputs": []
    },
    {
      "cell_type": "code",
      "metadata": {
        "id": "mKZlP3QzZTwd"
      },
      "source": [
        "# set(RFdf['Case'])"
      ],
      "execution_count": 14,
      "outputs": []
    },
    {
      "cell_type": "code",
      "metadata": {
        "colab": {
          "base_uri": "https://localhost:8080/",
          "height": 459
        },
        "id": "socgJLl1ZWGB",
        "outputId": "c5145932-70a4-4f82-fff5-6a45a7795cac"
      },
      "source": [
        "G_sus = RFdf.groupby(['Case', 'AI_Predic_CCA']).count()\n",
        "G_sus0 = G_sus.reset_index(level=['Case', 'AI_Predic_CCA'])\n",
        "G_sus0"
      ],
      "execution_count": 19,
      "outputs": [
        {
          "output_type": "execute_result",
          "data": {
            "text/html": [
              "<div>\n",
              "<style scoped>\n",
              "    .dataframe tbody tr th:only-of-type {\n",
              "        vertical-align: middle;\n",
              "    }\n",
              "\n",
              "    .dataframe tbody tr th {\n",
              "        vertical-align: top;\n",
              "    }\n",
              "\n",
              "    .dataframe thead th {\n",
              "        text-align: right;\n",
              "    }\n",
              "</style>\n",
              "<table border=\"1\" class=\"dataframe\">\n",
              "  <thead>\n",
              "    <tr style=\"text-align: right;\">\n",
              "      <th></th>\n",
              "      <th>Case</th>\n",
              "      <th>AI_Predic_CCA</th>\n",
              "      <th>Unnamed: 0</th>\n",
              "      <th>Abs Position</th>\n",
              "      <th>Sub Position</th>\n",
              "      <th>Class</th>\n",
              "      <th>Sub_class</th>\n",
              "      <th>Path Full</th>\n",
              "      <th>Path Crop</th>\n",
              "      <th>Views</th>\n",
              "      <th>fold</th>\n",
              "      <th>tagName</th>\n",
              "      <th>originalImage</th>\n",
              "      <th>left</th>\n",
              "      <th>top</th>\n",
              "      <th>width</th>\n",
              "      <th>height</th>\n",
              "      <th>Rleft</th>\n",
              "      <th>Rtop</th>\n",
              "      <th>Rwidth</th>\n",
              "      <th>Rheight</th>\n",
              "      <th>filename</th>\n",
              "      <th>15AB_category</th>\n",
              "      <th>15AB_Prob</th>\n",
              "      <th>15AB_ProbAll</th>\n",
              "      <th>Predict_15AB</th>\n",
              "      <th>Act_Predic_CCA</th>\n",
              "    </tr>\n",
              "  </thead>\n",
              "  <tbody>\n",
              "    <tr>\n",
              "      <th>0</th>\n",
              "      <td>1</td>\n",
              "      <td>Non_SuspectedCCA</td>\n",
              "      <td>18</td>\n",
              "      <td>18</td>\n",
              "      <td>18</td>\n",
              "      <td>18</td>\n",
              "      <td>18</td>\n",
              "      <td>18</td>\n",
              "      <td>18</td>\n",
              "      <td>18</td>\n",
              "      <td>18</td>\n",
              "      <td>18</td>\n",
              "      <td>18</td>\n",
              "      <td>18</td>\n",
              "      <td>18</td>\n",
              "      <td>18</td>\n",
              "      <td>18</td>\n",
              "      <td>18</td>\n",
              "      <td>18</td>\n",
              "      <td>18</td>\n",
              "      <td>18</td>\n",
              "      <td>18</td>\n",
              "      <td>18</td>\n",
              "      <td>18</td>\n",
              "      <td>18</td>\n",
              "      <td>18</td>\n",
              "      <td>18</td>\n",
              "    </tr>\n",
              "    <tr>\n",
              "      <th>1</th>\n",
              "      <td>1</td>\n",
              "      <td>Normal</td>\n",
              "      <td>27</td>\n",
              "      <td>27</td>\n",
              "      <td>27</td>\n",
              "      <td>27</td>\n",
              "      <td>27</td>\n",
              "      <td>27</td>\n",
              "      <td>27</td>\n",
              "      <td>27</td>\n",
              "      <td>27</td>\n",
              "      <td>27</td>\n",
              "      <td>14</td>\n",
              "      <td>14</td>\n",
              "      <td>14</td>\n",
              "      <td>14</td>\n",
              "      <td>14</td>\n",
              "      <td>14</td>\n",
              "      <td>14</td>\n",
              "      <td>14</td>\n",
              "      <td>14</td>\n",
              "      <td>27</td>\n",
              "      <td>27</td>\n",
              "      <td>27</td>\n",
              "      <td>27</td>\n",
              "      <td>27</td>\n",
              "      <td>27</td>\n",
              "    </tr>\n",
              "    <tr>\n",
              "      <th>2</th>\n",
              "      <td>1</td>\n",
              "      <td>SuspectedCCA</td>\n",
              "      <td>4</td>\n",
              "      <td>4</td>\n",
              "      <td>4</td>\n",
              "      <td>4</td>\n",
              "      <td>4</td>\n",
              "      <td>4</td>\n",
              "      <td>4</td>\n",
              "      <td>4</td>\n",
              "      <td>4</td>\n",
              "      <td>4</td>\n",
              "      <td>4</td>\n",
              "      <td>4</td>\n",
              "      <td>4</td>\n",
              "      <td>4</td>\n",
              "      <td>4</td>\n",
              "      <td>4</td>\n",
              "      <td>4</td>\n",
              "      <td>4</td>\n",
              "      <td>4</td>\n",
              "      <td>4</td>\n",
              "      <td>4</td>\n",
              "      <td>4</td>\n",
              "      <td>4</td>\n",
              "      <td>4</td>\n",
              "      <td>4</td>\n",
              "    </tr>\n",
              "    <tr>\n",
              "      <th>3</th>\n",
              "      <td>2</td>\n",
              "      <td>Non_SuspectedCCA</td>\n",
              "      <td>17</td>\n",
              "      <td>17</td>\n",
              "      <td>17</td>\n",
              "      <td>17</td>\n",
              "      <td>17</td>\n",
              "      <td>17</td>\n",
              "      <td>17</td>\n",
              "      <td>17</td>\n",
              "      <td>17</td>\n",
              "      <td>17</td>\n",
              "      <td>17</td>\n",
              "      <td>17</td>\n",
              "      <td>17</td>\n",
              "      <td>17</td>\n",
              "      <td>17</td>\n",
              "      <td>17</td>\n",
              "      <td>17</td>\n",
              "      <td>17</td>\n",
              "      <td>17</td>\n",
              "      <td>17</td>\n",
              "      <td>17</td>\n",
              "      <td>17</td>\n",
              "      <td>17</td>\n",
              "      <td>17</td>\n",
              "      <td>17</td>\n",
              "    </tr>\n",
              "    <tr>\n",
              "      <th>4</th>\n",
              "      <td>2</td>\n",
              "      <td>Normal</td>\n",
              "      <td>24</td>\n",
              "      <td>24</td>\n",
              "      <td>24</td>\n",
              "      <td>24</td>\n",
              "      <td>24</td>\n",
              "      <td>24</td>\n",
              "      <td>24</td>\n",
              "      <td>24</td>\n",
              "      <td>24</td>\n",
              "      <td>24</td>\n",
              "      <td>12</td>\n",
              "      <td>12</td>\n",
              "      <td>12</td>\n",
              "      <td>12</td>\n",
              "      <td>12</td>\n",
              "      <td>12</td>\n",
              "      <td>12</td>\n",
              "      <td>12</td>\n",
              "      <td>12</td>\n",
              "      <td>24</td>\n",
              "      <td>24</td>\n",
              "      <td>24</td>\n",
              "      <td>24</td>\n",
              "      <td>24</td>\n",
              "      <td>24</td>\n",
              "    </tr>\n",
              "    <tr>\n",
              "      <th>...</th>\n",
              "      <td>...</td>\n",
              "      <td>...</td>\n",
              "      <td>...</td>\n",
              "      <td>...</td>\n",
              "      <td>...</td>\n",
              "      <td>...</td>\n",
              "      <td>...</td>\n",
              "      <td>...</td>\n",
              "      <td>...</td>\n",
              "      <td>...</td>\n",
              "      <td>...</td>\n",
              "      <td>...</td>\n",
              "      <td>...</td>\n",
              "      <td>...</td>\n",
              "      <td>...</td>\n",
              "      <td>...</td>\n",
              "      <td>...</td>\n",
              "      <td>...</td>\n",
              "      <td>...</td>\n",
              "      <td>...</td>\n",
              "      <td>...</td>\n",
              "      <td>...</td>\n",
              "      <td>...</td>\n",
              "      <td>...</td>\n",
              "      <td>...</td>\n",
              "      <td>...</td>\n",
              "      <td>...</td>\n",
              "    </tr>\n",
              "    <tr>\n",
              "      <th>202</th>\n",
              "      <td>440</td>\n",
              "      <td>Non_SuspectedCCA</td>\n",
              "      <td>1</td>\n",
              "      <td>1</td>\n",
              "      <td>1</td>\n",
              "      <td>1</td>\n",
              "      <td>1</td>\n",
              "      <td>1</td>\n",
              "      <td>1</td>\n",
              "      <td>1</td>\n",
              "      <td>1</td>\n",
              "      <td>1</td>\n",
              "      <td>1</td>\n",
              "      <td>1</td>\n",
              "      <td>1</td>\n",
              "      <td>1</td>\n",
              "      <td>1</td>\n",
              "      <td>1</td>\n",
              "      <td>1</td>\n",
              "      <td>1</td>\n",
              "      <td>1</td>\n",
              "      <td>1</td>\n",
              "      <td>1</td>\n",
              "      <td>1</td>\n",
              "      <td>1</td>\n",
              "      <td>1</td>\n",
              "      <td>1</td>\n",
              "    </tr>\n",
              "    <tr>\n",
              "      <th>203</th>\n",
              "      <td>441</td>\n",
              "      <td>Non_SuspectedCCA</td>\n",
              "      <td>1</td>\n",
              "      <td>1</td>\n",
              "      <td>1</td>\n",
              "      <td>1</td>\n",
              "      <td>1</td>\n",
              "      <td>1</td>\n",
              "      <td>1</td>\n",
              "      <td>1</td>\n",
              "      <td>1</td>\n",
              "      <td>1</td>\n",
              "      <td>1</td>\n",
              "      <td>1</td>\n",
              "      <td>1</td>\n",
              "      <td>1</td>\n",
              "      <td>1</td>\n",
              "      <td>1</td>\n",
              "      <td>1</td>\n",
              "      <td>1</td>\n",
              "      <td>1</td>\n",
              "      <td>1</td>\n",
              "      <td>1</td>\n",
              "      <td>1</td>\n",
              "      <td>1</td>\n",
              "      <td>1</td>\n",
              "      <td>1</td>\n",
              "    </tr>\n",
              "    <tr>\n",
              "      <th>204</th>\n",
              "      <td>442</td>\n",
              "      <td>Non_SuspectedCCA</td>\n",
              "      <td>1</td>\n",
              "      <td>1</td>\n",
              "      <td>1</td>\n",
              "      <td>1</td>\n",
              "      <td>1</td>\n",
              "      <td>1</td>\n",
              "      <td>1</td>\n",
              "      <td>1</td>\n",
              "      <td>1</td>\n",
              "      <td>1</td>\n",
              "      <td>1</td>\n",
              "      <td>1</td>\n",
              "      <td>1</td>\n",
              "      <td>1</td>\n",
              "      <td>1</td>\n",
              "      <td>1</td>\n",
              "      <td>1</td>\n",
              "      <td>1</td>\n",
              "      <td>1</td>\n",
              "      <td>1</td>\n",
              "      <td>1</td>\n",
              "      <td>1</td>\n",
              "      <td>1</td>\n",
              "      <td>1</td>\n",
              "      <td>1</td>\n",
              "    </tr>\n",
              "    <tr>\n",
              "      <th>205</th>\n",
              "      <td>443</td>\n",
              "      <td>Non_SuspectedCCA</td>\n",
              "      <td>1</td>\n",
              "      <td>1</td>\n",
              "      <td>1</td>\n",
              "      <td>1</td>\n",
              "      <td>1</td>\n",
              "      <td>1</td>\n",
              "      <td>1</td>\n",
              "      <td>1</td>\n",
              "      <td>1</td>\n",
              "      <td>1</td>\n",
              "      <td>1</td>\n",
              "      <td>1</td>\n",
              "      <td>1</td>\n",
              "      <td>1</td>\n",
              "      <td>1</td>\n",
              "      <td>1</td>\n",
              "      <td>1</td>\n",
              "      <td>1</td>\n",
              "      <td>1</td>\n",
              "      <td>1</td>\n",
              "      <td>1</td>\n",
              "      <td>1</td>\n",
              "      <td>1</td>\n",
              "      <td>1</td>\n",
              "      <td>1</td>\n",
              "    </tr>\n",
              "    <tr>\n",
              "      <th>206</th>\n",
              "      <td>458</td>\n",
              "      <td>Non_SuspectedCCA</td>\n",
              "      <td>1</td>\n",
              "      <td>1</td>\n",
              "      <td>1</td>\n",
              "      <td>1</td>\n",
              "      <td>1</td>\n",
              "      <td>1</td>\n",
              "      <td>1</td>\n",
              "      <td>1</td>\n",
              "      <td>1</td>\n",
              "      <td>1</td>\n",
              "      <td>1</td>\n",
              "      <td>1</td>\n",
              "      <td>1</td>\n",
              "      <td>1</td>\n",
              "      <td>1</td>\n",
              "      <td>1</td>\n",
              "      <td>1</td>\n",
              "      <td>1</td>\n",
              "      <td>1</td>\n",
              "      <td>1</td>\n",
              "      <td>1</td>\n",
              "      <td>1</td>\n",
              "      <td>1</td>\n",
              "      <td>1</td>\n",
              "      <td>1</td>\n",
              "    </tr>\n",
              "  </tbody>\n",
              "</table>\n",
              "<p>207 rows × 27 columns</p>\n",
              "</div>"
            ],
            "text/plain": [
              "     Case     AI_Predic_CCA  ...  Predict_15AB  Act_Predic_CCA\n",
              "0       1  Non_SuspectedCCA  ...            18              18\n",
              "1       1            Normal  ...            27              27\n",
              "2       1      SuspectedCCA  ...             4               4\n",
              "3       2  Non_SuspectedCCA  ...            17              17\n",
              "4       2            Normal  ...            24              24\n",
              "..    ...               ...  ...           ...             ...\n",
              "202   440  Non_SuspectedCCA  ...             1               1\n",
              "203   441  Non_SuspectedCCA  ...             1               1\n",
              "204   442  Non_SuspectedCCA  ...             1               1\n",
              "205   443  Non_SuspectedCCA  ...             1               1\n",
              "206   458  Non_SuspectedCCA  ...             1               1\n",
              "\n",
              "[207 rows x 27 columns]"
            ]
          },
          "metadata": {},
          "execution_count": 19
        }
      ]
    },
    {
      "cell_type": "code",
      "metadata": {
        "id": "nDVcNz2Qbz5S"
      },
      "source": [
        "case = list(set(G_sus0['Case']))\n",
        "result_clas = []\n",
        "for i in range(len(case)):\n",
        "    a = G_sus0[G_sus0['Case'] ==case[i]]\n",
        "    res = set(a.AI_Predic_CCA)\n",
        "    if len(res) == 1:\n",
        "        aa = a.AI_Predic_CCA.iloc[0]\n",
        "        result_clas.append(aa)\n",
        "    elif res =={'Non_SuspectedCCA', 'Normal', 'SuspectedCCA'}:\n",
        "        aa = 'SuspectedCCA'\n",
        "        result_clas.append(aa)\n",
        "    elif res == {'Non_SuspectedCCA', 'SuspectedCCA'}:\n",
        "        aa = 'SuspectedCCA'\n",
        "        result_clas.append(aa)        \n",
        "    elif res == {'Normal', 'SuspectedCCA'}:\n",
        "        aa = 'SuspectedCCA'\n",
        "        result_clas.append(aa)\n",
        "    elif res == {'Non_SuspectedCCA', 'Normal'}:\n",
        "        aa = 'Non_SuspectedCCA'       #*********************     \n",
        "        result_clas.append(aa)"
      ],
      "execution_count": 60,
      "outputs": []
    },
    {
      "cell_type": "code",
      "metadata": {
        "colab": {
          "base_uri": "https://localhost:8080/"
        },
        "id": "9b7ye6EkZ7T9",
        "outputId": "1a598a9c-b2c1-4035-d56d-26ffaf6880cd"
      },
      "source": [
        "len(result_clas)"
      ],
      "execution_count": 61,
      "outputs": [
        {
          "output_type": "execute_result",
          "data": {
            "text/plain": [
              "144"
            ]
          },
          "metadata": {},
          "execution_count": 61
        }
      ]
    },
    {
      "cell_type": "code",
      "metadata": {
        "colab": {
          "base_uri": "https://localhost:8080/"
        },
        "id": "MPGdhWKdjcJS",
        "outputId": "77b539a8-d13b-4785-9c94-d7a078dbe2a0"
      },
      "source": [
        "G_sus = RFdf.groupby(['Case', 'Act_Predic_CCA']).count()\n",
        "G_sus0 = G_sus.reset_index(level=['Case', 'Act_Predic_CCA'])\n",
        "case = list(set(G_sus0['Case']))\n",
        "print(len(case))"
      ],
      "execution_count": 68,
      "outputs": [
        {
          "output_type": "stream",
          "text": [
            "144\n"
          ],
          "name": "stdout"
        }
      ]
    },
    {
      "cell_type": "code",
      "metadata": {
        "id": "NH-ovXqwg9sc"
      },
      "source": [
        "G_sus = RFdf.groupby(['Case', 'Act_Predic_CCA']).count()\n",
        "G_sus0 = G_sus.reset_index(level=['Case', 'Act_Predic_CCA'])\n",
        "case = list(set(G_sus0['Case']))\n",
        "result_clas_act = []\n",
        "for i in range(len(case)):\n",
        "    a = G_sus0[G_sus0['Case'] ==case[i]]\n",
        "    res = set(a.Act_Predic_CCA)\n",
        "    if len(res) == 1:\n",
        "        aa = a.Act_Predic_CCA.iloc[0]\n",
        "        result_clas_act.append(aa)\n",
        "    elif res =={'Non_SuspectedCCA', 'Normal', 'SuspectedCCA'}:\n",
        "        aa = 'SuspectedCCA'\n",
        "        result_clas_act.append(aa)\n",
        "    elif res == {'Non_SuspectedCCA', 'SuspectedCCA'}:\n",
        "        aa = 'SuspectedCCA'\n",
        "        result_clas_act.append(aa)        \n",
        "    elif res == {'Normal', 'SuspectedCCA'}:\n",
        "        aa = 'SuspectedCCA'\n",
        "        result_clas_act.append(aa)\n",
        "    elif res == {'Non_SuspectedCCA', 'Normal'}:\n",
        "        aa = 'Non_SuspectedCCA'       #*********************     \n",
        "        result_clas_act.append(aa)"
      ],
      "execution_count": 69,
      "outputs": []
    },
    {
      "cell_type": "code",
      "metadata": {
        "colab": {
          "base_uri": "https://localhost:8080/"
        },
        "id": "TObfkhmXjQv8",
        "outputId": "ab481665-bb4f-428b-faee-49d7c428d77e"
      },
      "source": [
        "len(result_clas_act)"
      ],
      "execution_count": 70,
      "outputs": [
        {
          "output_type": "execute_result",
          "data": {
            "text/plain": [
              "144"
            ]
          },
          "metadata": {},
          "execution_count": 70
        }
      ]
    },
    {
      "cell_type": "code",
      "metadata": {
        "colab": {
          "base_uri": "https://localhost:8080/"
        },
        "id": "5QVNYjhRa4-Q",
        "outputId": "6b1961d8-e4d8-4aee-b47e-5ab2f1de66da"
      },
      "source": [
        "#วัดผล \n",
        "import numpy as np\n",
        "from sklearn.metrics import confusion_matrix\n",
        "\n",
        "act= result_clas_act\n",
        "pred = result_clas\n",
        "cmat = confusion_matrix(act, pred)\n",
        "print('classifier accuracy = {}%'.format((100.*np.trace(cmat))/(np.sum(cmat))))\n",
        "\n",
        "from sklearn.metrics import classification_report,confusion_matrix\n",
        "print(classification_report(act, pred))#performance"
      ],
      "execution_count": 71,
      "outputs": [
        {
          "output_type": "stream",
          "text": [
            "classifier accuracy = 92.36111111111111%\n",
            "                  precision    recall  f1-score   support\n",
            "\n",
            "Non_SuspectedCCA       0.96      0.88      0.92        59\n",
            "          Normal       0.88      0.94      0.91        53\n",
            "    SuspectedCCA       0.94      0.97      0.95        32\n",
            "\n",
            "        accuracy                           0.92       144\n",
            "       macro avg       0.93      0.93      0.93       144\n",
            "    weighted avg       0.93      0.92      0.92       144\n",
            "\n"
          ],
          "name": "stdout"
        }
      ]
    },
    {
      "cell_type": "code",
      "metadata": {
        "colab": {
          "base_uri": "https://localhost:8080/",
          "height": 435
        },
        "id": "J5eUaUoxjMt4",
        "outputId": "432fcbb0-ff17-4433-d59c-7fae8bed3989"
      },
      "source": [
        "#create CF \n",
        "data = {'Actual': act,'Predicted' : pred,}\n",
        "df = pd.DataFrame(data, columns=['Actual','Predicted'])\n",
        "conf_mat = pd.crosstab(df['Actual'],df['Predicted'],rownames=['Actual'],colnames=['Predicted'])\n",
        "\n",
        "#Confusion matrix\n",
        "from sklearn.metrics import confusion_matrix\n",
        "import matplotlib.pyplot as plt\n",
        "cm = confusion_matrix(act, pred)\n",
        "print(cm)\n",
        "#plot Confusion matrix\n",
        "import seaborn as sns\n",
        "sns.set()\n",
        "fig, ax = plt.subplots(figsize=(8, 5))\n",
        "\n",
        "ax = sns.heatmap(conf_mat, annot=True, fmt=\"d\", cmap=\"YlGnBu\") #Blues,Oranges,Reds\n",
        "ax.set_title('Confusion matrix',fontsize=20)\n",
        "ax.set_ylabel('True label',fontsize=18)\n",
        "ax.set_xlabel('Predicted label',fontsize=18)"
      ],
      "execution_count": 72,
      "outputs": [
        {
          "output_type": "stream",
          "text": [
            "[[52  6  1]\n",
            " [ 2 50  1]\n",
            " [ 0  1 31]]\n"
          ],
          "name": "stdout"
        },
        {
          "output_type": "execute_result",
          "data": {
            "text/plain": [
              "Text(0.5, 20.59375, 'Predicted label')"
            ]
          },
          "metadata": {},
          "execution_count": 72
        },
        {
          "output_type": "display_data",
          "data": {
            "image/png": "[encoded data removed]",
            "text/plain": [
              "<Figure size 576x360 with 2 Axes>"
            ]
          },
          "metadata": {}
        }
      ]
    },
    {
      "cell_type": "code",
      "metadata": {
        "id": "2s7SbDtWj3nk"
      },
      "source": [
        ""
      ],
      "execution_count": null,
      "outputs": []
    }
  ]
}