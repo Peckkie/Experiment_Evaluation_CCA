{
 "cells": [
  {
   "cell_type": "code",
   "execution_count": 1,
   "metadata": {},
   "outputs": [],
   "source": [
    "import os\n",
    "import numpy as np\n",
    "import pandas as pd"
   ]
  },
  {
   "cell_type": "code",
   "execution_count": 2,
   "metadata": {},
   "outputs": [
    {
     "name": "stderr",
     "output_type": "stream",
     "text": [
      "/home/yupaporn/miniconda3/envs/usai/lib/python3.6/site-packages/sklearn/base.py:334: UserWarning: Trying to unpickle estimator DecisionTreeClassifier from version 0.23.2 when using version 0.23.1. This might lead to breaking code or invalid results. Use at your own risk.\n",
      "  UserWarning)\n",
      "/home/yupaporn/miniconda3/envs/usai/lib/python3.6/site-packages/sklearn/base.py:334: UserWarning: Trying to unpickle estimator RandomForestClassifier from version 0.23.2 when using version 0.23.1. This might lead to breaking code or invalid results. Use at your own risk.\n",
      "  UserWarning)\n"
     ]
    }
   ],
   "source": [
    "#load model\n",
    "import pickle\n",
    "os.chdir('/media/tohn/SSD/ModelTrainByImages/R2_1/models/')\n",
    "filename = \"modelrf_EffNet5_b5_1FC_cross_15AB_15AB.pkl\"\n",
    "with open(filename, 'rb') as file:\n",
    "    model = pickle.load(file)"
   ]
  },
  {
   "cell_type": "code",
   "execution_count": 19,
   "metadata": {},
   "outputs": [],
   "source": [
    "dataframe = pd.read_csv( '/home/yupaporn/codes/USAI/FeaturesVector_Test_Experimaent.csv')\n",
    "# X_test = dataframe.iloc[:,1:2049]\n",
    "# y_test = dataframe.iloc[:,2052]\n",
    "# print(X_test.shape)\n",
    "# print(y_test.shape)"
   ]
  },
  {
   "cell_type": "code",
   "execution_count": 20,
   "metadata": {},
   "outputs": [],
   "source": [
    "Normal=dataframe[dataframe['Class']=='Normal']\n",
    "Abnormal=dataframe[dataframe['Class']=='Abnormal']"
   ]
  },
  {
   "cell_type": "markdown",
   "metadata": {},
   "source": [
    "### Abnormal"
   ]
  },
  {
   "cell_type": "code",
   "execution_count": 21,
   "metadata": {},
   "outputs": [
    {
     "data": {
      "text/html": [
       "<div>\n",
       "<style scoped>\n",
       "    .dataframe tbody tr th:only-of-type {\n",
       "        vertical-align: middle;\n",
       "    }\n",
       "\n",
       "    .dataframe tbody tr th {\n",
       "        vertical-align: top;\n",
       "    }\n",
       "\n",
       "    .dataframe thead th {\n",
       "        text-align: right;\n",
       "    }\n",
       "</style>\n",
       "<table border=\"1\" class=\"dataframe\">\n",
       "  <thead>\n",
       "    <tr style=\"text-align: right;\">\n",
       "      <th></th>\n",
       "      <th>Unnamed: 0</th>\n",
       "      <th>0</th>\n",
       "      <th>1</th>\n",
       "      <th>2</th>\n",
       "      <th>3</th>\n",
       "      <th>4</th>\n",
       "      <th>5</th>\n",
       "      <th>6</th>\n",
       "      <th>7</th>\n",
       "      <th>8</th>\n",
       "      <th>...</th>\n",
       "      <th>2042</th>\n",
       "      <th>2043</th>\n",
       "      <th>2044</th>\n",
       "      <th>2045</th>\n",
       "      <th>2046</th>\n",
       "      <th>2047</th>\n",
       "      <th>Class</th>\n",
       "      <th>sub_class</th>\n",
       "      <th>views</th>\n",
       "      <th>Sub_class</th>\n",
       "    </tr>\n",
       "  </thead>\n",
       "  <tbody>\n",
       "    <tr>\n",
       "      <th>0</th>\n",
       "      <td>0</td>\n",
       "      <td>-0.007468</td>\n",
       "      <td>0.339954</td>\n",
       "      <td>0.078500</td>\n",
       "      <td>-0.178511</td>\n",
       "      <td>0.382226</td>\n",
       "      <td>-0.153283</td>\n",
       "      <td>0.152363</td>\n",
       "      <td>-0.239746</td>\n",
       "      <td>-0.221379</td>\n",
       "      <td>...</td>\n",
       "      <td>-0.092671</td>\n",
       "      <td>-0.087188</td>\n",
       "      <td>0.171170</td>\n",
       "      <td>-0.132838</td>\n",
       "      <td>0.593847</td>\n",
       "      <td>-0.044348</td>\n",
       "      <td>Abnormal</td>\n",
       "      <td>AB01</td>\n",
       "      <td>FP-A</td>\n",
       "      <td>P1</td>\n",
       "    </tr>\n",
       "    <tr>\n",
       "      <th>1</th>\n",
       "      <td>1</td>\n",
       "      <td>0.023784</td>\n",
       "      <td>0.435393</td>\n",
       "      <td>0.032264</td>\n",
       "      <td>0.003498</td>\n",
       "      <td>0.641954</td>\n",
       "      <td>-0.216701</td>\n",
       "      <td>0.192723</td>\n",
       "      <td>-0.222552</td>\n",
       "      <td>-0.157848</td>\n",
       "      <td>...</td>\n",
       "      <td>0.021686</td>\n",
       "      <td>-0.120361</td>\n",
       "      <td>-0.116637</td>\n",
       "      <td>-0.115020</td>\n",
       "      <td>0.513775</td>\n",
       "      <td>-0.094137</td>\n",
       "      <td>Abnormal</td>\n",
       "      <td>AB01</td>\n",
       "      <td>FP-B</td>\n",
       "      <td>P42</td>\n",
       "    </tr>\n",
       "    <tr>\n",
       "      <th>2</th>\n",
       "      <td>2</td>\n",
       "      <td>0.694169</td>\n",
       "      <td>0.152337</td>\n",
       "      <td>-0.194394</td>\n",
       "      <td>-0.141714</td>\n",
       "      <td>-0.039730</td>\n",
       "      <td>0.117847</td>\n",
       "      <td>0.059118</td>\n",
       "      <td>-0.010946</td>\n",
       "      <td>-0.174467</td>\n",
       "      <td>...</td>\n",
       "      <td>-0.061826</td>\n",
       "      <td>-0.133808</td>\n",
       "      <td>0.296670</td>\n",
       "      <td>0.077594</td>\n",
       "      <td>0.373410</td>\n",
       "      <td>0.056262</td>\n",
       "      <td>Abnormal</td>\n",
       "      <td>AB01</td>\n",
       "      <td>FP-C</td>\n",
       "      <td>P52</td>\n",
       "    </tr>\n",
       "    <tr>\n",
       "      <th>3</th>\n",
       "      <td>3</td>\n",
       "      <td>0.268454</td>\n",
       "      <td>0.174427</td>\n",
       "      <td>0.252507</td>\n",
       "      <td>-0.159585</td>\n",
       "      <td>0.186359</td>\n",
       "      <td>-0.119375</td>\n",
       "      <td>0.014231</td>\n",
       "      <td>-0.141780</td>\n",
       "      <td>-0.133312</td>\n",
       "      <td>...</td>\n",
       "      <td>-0.125464</td>\n",
       "      <td>0.221550</td>\n",
       "      <td>0.142467</td>\n",
       "      <td>-0.031251</td>\n",
       "      <td>-0.095766</td>\n",
       "      <td>-0.059904</td>\n",
       "      <td>Abnormal</td>\n",
       "      <td>AB02</td>\n",
       "      <td>FP-A</td>\n",
       "      <td>P1</td>\n",
       "    </tr>\n",
       "    <tr>\n",
       "      <th>4</th>\n",
       "      <td>4</td>\n",
       "      <td>0.379375</td>\n",
       "      <td>0.108010</td>\n",
       "      <td>-0.098467</td>\n",
       "      <td>-0.175970</td>\n",
       "      <td>0.097317</td>\n",
       "      <td>-0.089237</td>\n",
       "      <td>0.110147</td>\n",
       "      <td>-0.189555</td>\n",
       "      <td>-0.099527</td>\n",
       "      <td>...</td>\n",
       "      <td>-0.141110</td>\n",
       "      <td>-0.033206</td>\n",
       "      <td>0.083165</td>\n",
       "      <td>-0.129062</td>\n",
       "      <td>0.372792</td>\n",
       "      <td>-0.063717</td>\n",
       "      <td>Abnormal</td>\n",
       "      <td>AB02</td>\n",
       "      <td>FP-B</td>\n",
       "      <td>P31</td>\n",
       "    </tr>\n",
       "  </tbody>\n",
       "</table>\n",
       "<p>5 rows × 2053 columns</p>\n",
       "</div>"
      ],
      "text/plain": [
       "   Unnamed: 0         0         1         2         3         4         5  \\\n",
       "0           0 -0.007468  0.339954  0.078500 -0.178511  0.382226 -0.153283   \n",
       "1           1  0.023784  0.435393  0.032264  0.003498  0.641954 -0.216701   \n",
       "2           2  0.694169  0.152337 -0.194394 -0.141714 -0.039730  0.117847   \n",
       "3           3  0.268454  0.174427  0.252507 -0.159585  0.186359 -0.119375   \n",
       "4           4  0.379375  0.108010 -0.098467 -0.175970  0.097317 -0.089237   \n",
       "\n",
       "          6         7         8  ...      2042      2043      2044      2045  \\\n",
       "0  0.152363 -0.239746 -0.221379  ... -0.092671 -0.087188  0.171170 -0.132838   \n",
       "1  0.192723 -0.222552 -0.157848  ...  0.021686 -0.120361 -0.116637 -0.115020   \n",
       "2  0.059118 -0.010946 -0.174467  ... -0.061826 -0.133808  0.296670  0.077594   \n",
       "3  0.014231 -0.141780 -0.133312  ... -0.125464  0.221550  0.142467 -0.031251   \n",
       "4  0.110147 -0.189555 -0.099527  ... -0.141110 -0.033206  0.083165 -0.129062   \n",
       "\n",
       "       2046      2047     Class  sub_class  views  Sub_class  \n",
       "0  0.593847 -0.044348  Abnormal       AB01   FP-A         P1  \n",
       "1  0.513775 -0.094137  Abnormal       AB01   FP-B        P42  \n",
       "2  0.373410  0.056262  Abnormal       AB01   FP-C        P52  \n",
       "3 -0.095766 -0.059904  Abnormal       AB02   FP-A         P1  \n",
       "4  0.372792 -0.063717  Abnormal       AB02   FP-B        P31  \n",
       "\n",
       "[5 rows x 2053 columns]"
      ]
     },
     "execution_count": 21,
     "metadata": {},
     "output_type": "execute_result"
    }
   ],
   "source": [
    "dataframe.head()"
   ]
  },
  {
   "cell_type": "code",
   "execution_count": 25,
   "metadata": {},
   "outputs": [
    {
     "name": "stdout",
     "output_type": "stream",
     "text": [
      "(42, 2048)\n",
      "(42,)\n"
     ]
    }
   ],
   "source": [
    "X_test = Abnormal.iloc[:,1:2049]\n",
    "y_test = Abnormal.iloc[:,2050]\n",
    "print(X_test.shape)\n",
    "print(y_test.shape)"
   ]
  },
  {
   "cell_type": "code",
   "execution_count": 26,
   "metadata": {},
   "outputs": [
    {
     "name": "stdout",
     "output_type": "stream",
     "text": [
      "AB01\n"
     ]
    }
   ],
   "source": [
    "print(y_test[0])"
   ]
  },
  {
   "cell_type": "code",
   "execution_count": 31,
   "metadata": {},
   "outputs": [],
   "source": [
    "# y_prob = model.predict_proba(X_test)"
   ]
  },
  {
   "cell_type": "code",
   "execution_count": 32,
   "metadata": {},
   "outputs": [],
   "source": [
    "# np.argmax(y_prob[10])"
   ]
  },
  {
   "cell_type": "code",
   "execution_count": 27,
   "metadata": {},
   "outputs": [],
   "source": [
    "labels = {0: 'AB01', 1: 'AB02', 2: 'AB03', 3: 'AB04', 4: 'AB05', 5: 'AB06', 6: 'AB07', 7: 'AB081', 8: 'AB082', 9: 'AB083', 10: 'AB09', 11: 'AB10', 12: 'AB11', 13: 'AB12', 14: 'Normal'}"
   ]
  },
  {
   "cell_type": "code",
   "execution_count": 34,
   "metadata": {},
   "outputs": [],
   "source": [
    "pred_list = list()\n",
    "prob_list = list()\n",
    "y_pred = model.predict(X_test)\n",
    "y_prob = model.predict_proba(X_test)\n",
    "for i in range(0,len(y_prob)):\n",
    "    result = y_prob[i]\n",
    "    re_class = list()\n",
    "    re_prop = list()  \n",
    "    while len(re_class) <3:\n",
    "        maxx = np.argmax(result)\n",
    "        re_class.append(labels[maxx])\n",
    "        re_prop.append(result[maxx])\n",
    "        result = np.where(result==result[maxx], 0, result)\n",
    "    pred_list.append(re_class)\n",
    "    prob_list.append(re_prop)"
   ]
  },
  {
   "cell_type": "code",
   "execution_count": 35,
   "metadata": {},
   "outputs": [
    {
     "data": {
      "text/plain": [
       "['AB02', 'AB01', 'AB082']"
      ]
     },
     "execution_count": 35,
     "metadata": {},
     "output_type": "execute_result"
    }
   ],
   "source": [
    "pred_list[0]"
   ]
  },
  {
   "cell_type": "code",
   "execution_count": 36,
   "metadata": {},
   "outputs": [
    {
     "data": {
      "text/plain": [
       "[0.556201145840666, 0.17140998842870375, 0.07011816565326738]"
      ]
     },
     "execution_count": 36,
     "metadata": {},
     "output_type": "execute_result"
    }
   ],
   "source": [
    "prob_list[0]\n"
   ]
  },
  {
   "cell_type": "code",
   "execution_count": 37,
   "metadata": {},
   "outputs": [
    {
     "name": "stderr",
     "output_type": "stream",
     "text": [
      "/home/yupaporn/.local/lib/python3.6/site-packages/ipykernel_launcher.py:1: SettingWithCopyWarning: \n",
      "A value is trying to be set on a copy of a slice from a DataFrame.\n",
      "Try using .loc[row_indexer,col_indexer] = value instead\n",
      "\n",
      "See the caveats in the documentation: https://pandas.pydata.org/pandas-docs/stable/user_guide/indexing.html#returning-a-view-versus-a-copy\n",
      "  \"\"\"Entry point for launching an IPython kernel.\n",
      "/home/yupaporn/.local/lib/python3.6/site-packages/ipykernel_launcher.py:2: SettingWithCopyWarning: \n",
      "A value is trying to be set on a copy of a slice from a DataFrame.\n",
      "Try using .loc[row_indexer,col_indexer] = value instead\n",
      "\n",
      "See the caveats in the documentation: https://pandas.pydata.org/pandas-docs/stable/user_guide/indexing.html#returning-a-view-versus-a-copy\n",
      "  \n"
     ]
    }
   ],
   "source": [
    "Abnormal['category'] = pred_list\n",
    "Abnormal['Prob'] = prob_list"
   ]
  },
  {
   "cell_type": "code",
   "execution_count": 38,
   "metadata": {},
   "outputs": [
    {
     "name": "stderr",
     "output_type": "stream",
     "text": [
      "/home/yupaporn/.local/lib/python3.6/site-packages/ipykernel_launcher.py:9: SettingWithCopyWarning: \n",
      "A value is trying to be set on a copy of a slice from a DataFrame.\n",
      "Try using .loc[row_indexer,col_indexer] = value instead\n",
      "\n",
      "See the caveats in the documentation: https://pandas.pydata.org/pandas-docs/stable/user_guide/indexing.html#returning-a-view-versus-a-copy\n",
      "  if __name__ == '__main__':\n"
     ]
    }
   ],
   "source": [
    "ress = list()\n",
    "ress_class = list()\n",
    "for i in range(0,len(Abnormal)):\n",
    "    if Abnormal['Sub_class'].tolist()[i] in Abnormal['category'].tolist()[i]:\n",
    "        res = 1\n",
    "    else:\n",
    "        res = 0\n",
    "    ress.append(res)\n",
    "Abnormal['Pred'] = ress"
   ]
  },
  {
   "cell_type": "code",
   "execution_count": 39,
   "metadata": {},
   "outputs": [
    {
     "data": {
      "text/html": [
       "<div>\n",
       "<style scoped>\n",
       "    .dataframe tbody tr th:only-of-type {\n",
       "        vertical-align: middle;\n",
       "    }\n",
       "\n",
       "    .dataframe tbody tr th {\n",
       "        vertical-align: top;\n",
       "    }\n",
       "\n",
       "    .dataframe thead th {\n",
       "        text-align: right;\n",
       "    }\n",
       "</style>\n",
       "<table border=\"1\" class=\"dataframe\">\n",
       "  <thead>\n",
       "    <tr style=\"text-align: right;\">\n",
       "      <th></th>\n",
       "      <th>Unnamed: 0</th>\n",
       "      <th>0</th>\n",
       "      <th>1</th>\n",
       "      <th>2</th>\n",
       "      <th>3</th>\n",
       "      <th>4</th>\n",
       "      <th>5</th>\n",
       "      <th>6</th>\n",
       "      <th>7</th>\n",
       "      <th>8</th>\n",
       "      <th>...</th>\n",
       "      <th>2045</th>\n",
       "      <th>2046</th>\n",
       "      <th>2047</th>\n",
       "      <th>Class</th>\n",
       "      <th>sub_class</th>\n",
       "      <th>views</th>\n",
       "      <th>Sub_class</th>\n",
       "      <th>category</th>\n",
       "      <th>Prob</th>\n",
       "      <th>Pred</th>\n",
       "    </tr>\n",
       "  </thead>\n",
       "  <tbody>\n",
       "    <tr>\n",
       "      <th>0</th>\n",
       "      <td>0</td>\n",
       "      <td>-0.007468</td>\n",
       "      <td>0.339954</td>\n",
       "      <td>0.078500</td>\n",
       "      <td>-0.178511</td>\n",
       "      <td>0.382226</td>\n",
       "      <td>-0.153283</td>\n",
       "      <td>0.152363</td>\n",
       "      <td>-0.239746</td>\n",
       "      <td>-0.221379</td>\n",
       "      <td>...</td>\n",
       "      <td>-0.132838</td>\n",
       "      <td>0.593847</td>\n",
       "      <td>-0.044348</td>\n",
       "      <td>Abnormal</td>\n",
       "      <td>AB01</td>\n",
       "      <td>FP-A</td>\n",
       "      <td>P1</td>\n",
       "      <td>[AB02, AB01, AB082]</td>\n",
       "      <td>[0.556201145840666, 0.17140998842870375, 0.070...</td>\n",
       "      <td>0</td>\n",
       "    </tr>\n",
       "    <tr>\n",
       "      <th>1</th>\n",
       "      <td>1</td>\n",
       "      <td>0.023784</td>\n",
       "      <td>0.435393</td>\n",
       "      <td>0.032264</td>\n",
       "      <td>0.003498</td>\n",
       "      <td>0.641954</td>\n",
       "      <td>-0.216701</td>\n",
       "      <td>0.192723</td>\n",
       "      <td>-0.222552</td>\n",
       "      <td>-0.157848</td>\n",
       "      <td>...</td>\n",
       "      <td>-0.115020</td>\n",
       "      <td>0.513775</td>\n",
       "      <td>-0.094137</td>\n",
       "      <td>Abnormal</td>\n",
       "      <td>AB01</td>\n",
       "      <td>FP-B</td>\n",
       "      <td>P42</td>\n",
       "      <td>[AB02, AB01, Normal]</td>\n",
       "      <td>[0.5417066801042656, 0.2356167889225129, 0.036...</td>\n",
       "      <td>0</td>\n",
       "    </tr>\n",
       "    <tr>\n",
       "      <th>2</th>\n",
       "      <td>2</td>\n",
       "      <td>0.694169</td>\n",
       "      <td>0.152337</td>\n",
       "      <td>-0.194394</td>\n",
       "      <td>-0.141714</td>\n",
       "      <td>-0.039730</td>\n",
       "      <td>0.117847</td>\n",
       "      <td>0.059118</td>\n",
       "      <td>-0.010946</td>\n",
       "      <td>-0.174467</td>\n",
       "      <td>...</td>\n",
       "      <td>0.077594</td>\n",
       "      <td>0.373410</td>\n",
       "      <td>0.056262</td>\n",
       "      <td>Abnormal</td>\n",
       "      <td>AB01</td>\n",
       "      <td>FP-C</td>\n",
       "      <td>P52</td>\n",
       "      <td>[AB01, Normal, AB082]</td>\n",
       "      <td>[0.8384973665177791, 0.04188113535782297, 0.02...</td>\n",
       "      <td>0</td>\n",
       "    </tr>\n",
       "    <tr>\n",
       "      <th>3</th>\n",
       "      <td>3</td>\n",
       "      <td>0.268454</td>\n",
       "      <td>0.174427</td>\n",
       "      <td>0.252507</td>\n",
       "      <td>-0.159585</td>\n",
       "      <td>0.186359</td>\n",
       "      <td>-0.119375</td>\n",
       "      <td>0.014231</td>\n",
       "      <td>-0.141780</td>\n",
       "      <td>-0.133312</td>\n",
       "      <td>...</td>\n",
       "      <td>-0.031251</td>\n",
       "      <td>-0.095766</td>\n",
       "      <td>-0.059904</td>\n",
       "      <td>Abnormal</td>\n",
       "      <td>AB02</td>\n",
       "      <td>FP-A</td>\n",
       "      <td>P1</td>\n",
       "      <td>[AB02, AB01, Normal]</td>\n",
       "      <td>[0.46361417687049844, 0.21239834970726082, 0.0...</td>\n",
       "      <td>0</td>\n",
       "    </tr>\n",
       "    <tr>\n",
       "      <th>4</th>\n",
       "      <td>4</td>\n",
       "      <td>0.379375</td>\n",
       "      <td>0.108010</td>\n",
       "      <td>-0.098467</td>\n",
       "      <td>-0.175970</td>\n",
       "      <td>0.097317</td>\n",
       "      <td>-0.089237</td>\n",
       "      <td>0.110147</td>\n",
       "      <td>-0.189555</td>\n",
       "      <td>-0.099527</td>\n",
       "      <td>...</td>\n",
       "      <td>-0.129062</td>\n",
       "      <td>0.372792</td>\n",
       "      <td>-0.063717</td>\n",
       "      <td>Abnormal</td>\n",
       "      <td>AB02</td>\n",
       "      <td>FP-B</td>\n",
       "      <td>P31</td>\n",
       "      <td>[AB01, AB02, Normal]</td>\n",
       "      <td>[0.5610098794166729, 0.11317097029066689, 0.05...</td>\n",
       "      <td>0</td>\n",
       "    </tr>\n",
       "  </tbody>\n",
       "</table>\n",
       "<p>5 rows × 2056 columns</p>\n",
       "</div>"
      ],
      "text/plain": [
       "   Unnamed: 0         0         1         2         3         4         5  \\\n",
       "0           0 -0.007468  0.339954  0.078500 -0.178511  0.382226 -0.153283   \n",
       "1           1  0.023784  0.435393  0.032264  0.003498  0.641954 -0.216701   \n",
       "2           2  0.694169  0.152337 -0.194394 -0.141714 -0.039730  0.117847   \n",
       "3           3  0.268454  0.174427  0.252507 -0.159585  0.186359 -0.119375   \n",
       "4           4  0.379375  0.108010 -0.098467 -0.175970  0.097317 -0.089237   \n",
       "\n",
       "          6         7         8  ...      2045      2046      2047     Class  \\\n",
       "0  0.152363 -0.239746 -0.221379  ... -0.132838  0.593847 -0.044348  Abnormal   \n",
       "1  0.192723 -0.222552 -0.157848  ... -0.115020  0.513775 -0.094137  Abnormal   \n",
       "2  0.059118 -0.010946 -0.174467  ...  0.077594  0.373410  0.056262  Abnormal   \n",
       "3  0.014231 -0.141780 -0.133312  ... -0.031251 -0.095766 -0.059904  Abnormal   \n",
       "4  0.110147 -0.189555 -0.099527  ... -0.129062  0.372792 -0.063717  Abnormal   \n",
       "\n",
       "   sub_class  views  Sub_class               category  \\\n",
       "0       AB01   FP-A         P1    [AB02, AB01, AB082]   \n",
       "1       AB01   FP-B        P42   [AB02, AB01, Normal]   \n",
       "2       AB01   FP-C        P52  [AB01, Normal, AB082]   \n",
       "3       AB02   FP-A         P1   [AB02, AB01, Normal]   \n",
       "4       AB02   FP-B        P31   [AB01, AB02, Normal]   \n",
       "\n",
       "                                                Prob  Pred  \n",
       "0  [0.556201145840666, 0.17140998842870375, 0.070...     0  \n",
       "1  [0.5417066801042656, 0.2356167889225129, 0.036...     0  \n",
       "2  [0.8384973665177791, 0.04188113535782297, 0.02...     0  \n",
       "3  [0.46361417687049844, 0.21239834970726082, 0.0...     0  \n",
       "4  [0.5610098794166729, 0.11317097029066689, 0.05...     0  \n",
       "\n",
       "[5 rows x 2056 columns]"
      ]
     },
     "execution_count": 39,
     "metadata": {},
     "output_type": "execute_result"
    }
   ],
   "source": [
    "Abnormal.head()"
   ]
  },
  {
   "cell_type": "markdown",
   "metadata": {},
   "source": [
    "### Normal"
   ]
  },
  {
   "cell_type": "code",
   "execution_count": 41,
   "metadata": {},
   "outputs": [
    {
     "name": "stdout",
     "output_type": "stream",
     "text": [
      "(108, 2048)\n",
      "(108,)\n"
     ]
    }
   ],
   "source": [
    "X_test = Normal.iloc[:,1:2049]\n",
    "y_test = Normal.iloc[:,2050]\n",
    "print(X_test.shape)\n",
    "print(y_test.shape)"
   ]
  },
  {
   "cell_type": "code",
   "execution_count": 42,
   "metadata": {},
   "outputs": [],
   "source": [
    "y_pred = model.predict(X_test)"
   ]
  },
  {
   "cell_type": "code",
   "execution_count": 43,
   "metadata": {},
   "outputs": [],
   "source": [
    "prob_list = list()\n",
    "y_prob = model.predict_proba(X_test)\n",
    "for i in range(0,len(y_prob)):\n",
    "    result = y_prob[i]\n",
    "    re_prop = list()\n",
    "    maxx = np.argmax(result)\n",
    "    re_prop.append(result[maxx])\n",
    "    prob_list.append(re_prop)"
   ]
  },
  {
   "cell_type": "code",
   "execution_count": 44,
   "metadata": {},
   "outputs": [
    {
     "name": "stderr",
     "output_type": "stream",
     "text": [
      "/home/yupaporn/.local/lib/python3.6/site-packages/ipykernel_launcher.py:1: SettingWithCopyWarning: \n",
      "A value is trying to be set on a copy of a slice from a DataFrame.\n",
      "Try using .loc[row_indexer,col_indexer] = value instead\n",
      "\n",
      "See the caveats in the documentation: https://pandas.pydata.org/pandas-docs/stable/user_guide/indexing.html#returning-a-view-versus-a-copy\n",
      "  \"\"\"Entry point for launching an IPython kernel.\n",
      "/home/yupaporn/.local/lib/python3.6/site-packages/ipykernel_launcher.py:2: SettingWithCopyWarning: \n",
      "A value is trying to be set on a copy of a slice from a DataFrame.\n",
      "Try using .loc[row_indexer,col_indexer] = value instead\n",
      "\n",
      "See the caveats in the documentation: https://pandas.pydata.org/pandas-docs/stable/user_guide/indexing.html#returning-a-view-versus-a-copy\n",
      "  \n"
     ]
    }
   ],
   "source": [
    "Normal['category'] = y_pred\n",
    "Normal['Prob'] = prob_list"
   ]
  },
  {
   "cell_type": "code",
   "execution_count": 45,
   "metadata": {},
   "outputs": [
    {
     "name": "stderr",
     "output_type": "stream",
     "text": [
      "/home/yupaporn/.local/lib/python3.6/site-packages/ipykernel_launcher.py:9: SettingWithCopyWarning: \n",
      "A value is trying to be set on a copy of a slice from a DataFrame.\n",
      "Try using .loc[row_indexer,col_indexer] = value instead\n",
      "\n",
      "See the caveats in the documentation: https://pandas.pydata.org/pandas-docs/stable/user_guide/indexing.html#returning-a-view-versus-a-copy\n",
      "  if __name__ == '__main__':\n"
     ]
    }
   ],
   "source": [
    "ress = list()\n",
    "ress_class = list()\n",
    "for i in range(0,len(Normal)):\n",
    "    if Normal['Sub_class'].tolist()[i] == Normal['category'].tolist()[i]:\n",
    "        res = 0\n",
    "    else:\n",
    "        res = 1\n",
    "    ress.append(res)\n",
    "Normal['Pred'] = ress"
   ]
  },
  {
   "cell_type": "code",
   "execution_count": 46,
   "metadata": {},
   "outputs": [
    {
     "data": {
      "text/html": [
       "<div>\n",
       "<style scoped>\n",
       "    .dataframe tbody tr th:only-of-type {\n",
       "        vertical-align: middle;\n",
       "    }\n",
       "\n",
       "    .dataframe tbody tr th {\n",
       "        vertical-align: top;\n",
       "    }\n",
       "\n",
       "    .dataframe thead th {\n",
       "        text-align: right;\n",
       "    }\n",
       "</style>\n",
       "<table border=\"1\" class=\"dataframe\">\n",
       "  <thead>\n",
       "    <tr style=\"text-align: right;\">\n",
       "      <th></th>\n",
       "      <th>Unnamed: 0</th>\n",
       "      <th>0</th>\n",
       "      <th>1</th>\n",
       "      <th>2</th>\n",
       "      <th>3</th>\n",
       "      <th>4</th>\n",
       "      <th>5</th>\n",
       "      <th>6</th>\n",
       "      <th>7</th>\n",
       "      <th>8</th>\n",
       "      <th>...</th>\n",
       "      <th>2045</th>\n",
       "      <th>2046</th>\n",
       "      <th>2047</th>\n",
       "      <th>Class</th>\n",
       "      <th>sub_class</th>\n",
       "      <th>views</th>\n",
       "      <th>Sub_class</th>\n",
       "      <th>category</th>\n",
       "      <th>Prob</th>\n",
       "      <th>Pred</th>\n",
       "    </tr>\n",
       "  </thead>\n",
       "  <tbody>\n",
       "    <tr>\n",
       "      <th>42</th>\n",
       "      <td>42</td>\n",
       "      <td>0.106348</td>\n",
       "      <td>0.473400</td>\n",
       "      <td>-0.149458</td>\n",
       "      <td>-0.155440</td>\n",
       "      <td>0.445358</td>\n",
       "      <td>0.334737</td>\n",
       "      <td>-0.050045</td>\n",
       "      <td>0.082079</td>\n",
       "      <td>-0.016057</td>\n",
       "      <td>...</td>\n",
       "      <td>0.528739</td>\n",
       "      <td>0.169019</td>\n",
       "      <td>0.728107</td>\n",
       "      <td>Normal</td>\n",
       "      <td>Normal</td>\n",
       "      <td>FP-A</td>\n",
       "      <td>P1</td>\n",
       "      <td>Normal</td>\n",
       "      <td>[0.9930796370967743]</td>\n",
       "      <td>1</td>\n",
       "    </tr>\n",
       "    <tr>\n",
       "      <th>43</th>\n",
       "      <td>43</td>\n",
       "      <td>0.083586</td>\n",
       "      <td>0.192579</td>\n",
       "      <td>-0.150493</td>\n",
       "      <td>-0.006405</td>\n",
       "      <td>0.274405</td>\n",
       "      <td>-0.046651</td>\n",
       "      <td>0.417429</td>\n",
       "      <td>0.265573</td>\n",
       "      <td>0.389936</td>\n",
       "      <td>...</td>\n",
       "      <td>0.035569</td>\n",
       "      <td>0.136989</td>\n",
       "      <td>0.352287</td>\n",
       "      <td>Normal</td>\n",
       "      <td>Normal</td>\n",
       "      <td>FP-A</td>\n",
       "      <td>P1</td>\n",
       "      <td>Normal</td>\n",
       "      <td>[0.9451233575363903]</td>\n",
       "      <td>1</td>\n",
       "    </tr>\n",
       "    <tr>\n",
       "      <th>44</th>\n",
       "      <td>44</td>\n",
       "      <td>0.858896</td>\n",
       "      <td>1.035495</td>\n",
       "      <td>-0.202204</td>\n",
       "      <td>0.118599</td>\n",
       "      <td>0.623216</td>\n",
       "      <td>-0.136747</td>\n",
       "      <td>0.796293</td>\n",
       "      <td>0.754570</td>\n",
       "      <td>0.107795</td>\n",
       "      <td>...</td>\n",
       "      <td>0.626649</td>\n",
       "      <td>0.305392</td>\n",
       "      <td>0.942076</td>\n",
       "      <td>Normal</td>\n",
       "      <td>Normal</td>\n",
       "      <td>FP-A</td>\n",
       "      <td>P1</td>\n",
       "      <td>Normal</td>\n",
       "      <td>[0.9975]</td>\n",
       "      <td>1</td>\n",
       "    </tr>\n",
       "    <tr>\n",
       "      <th>45</th>\n",
       "      <td>45</td>\n",
       "      <td>0.145664</td>\n",
       "      <td>0.175788</td>\n",
       "      <td>-0.164932</td>\n",
       "      <td>-0.153846</td>\n",
       "      <td>-0.131342</td>\n",
       "      <td>0.493277</td>\n",
       "      <td>0.149500</td>\n",
       "      <td>0.196442</td>\n",
       "      <td>0.115504</td>\n",
       "      <td>...</td>\n",
       "      <td>0.077064</td>\n",
       "      <td>0.280627</td>\n",
       "      <td>0.760364</td>\n",
       "      <td>Normal</td>\n",
       "      <td>Normal</td>\n",
       "      <td>FP-A</td>\n",
       "      <td>P1</td>\n",
       "      <td>Normal</td>\n",
       "      <td>[0.9109623910966161]</td>\n",
       "      <td>1</td>\n",
       "    </tr>\n",
       "    <tr>\n",
       "      <th>46</th>\n",
       "      <td>46</td>\n",
       "      <td>0.466295</td>\n",
       "      <td>-0.053033</td>\n",
       "      <td>-0.139610</td>\n",
       "      <td>-0.175783</td>\n",
       "      <td>0.234734</td>\n",
       "      <td>0.006159</td>\n",
       "      <td>0.278315</td>\n",
       "      <td>0.198044</td>\n",
       "      <td>0.211481</td>\n",
       "      <td>...</td>\n",
       "      <td>0.496372</td>\n",
       "      <td>-0.089537</td>\n",
       "      <td>0.416690</td>\n",
       "      <td>Normal</td>\n",
       "      <td>Normal</td>\n",
       "      <td>FP-A</td>\n",
       "      <td>P1</td>\n",
       "      <td>Normal</td>\n",
       "      <td>[0.9800427932828761]</td>\n",
       "      <td>1</td>\n",
       "    </tr>\n",
       "  </tbody>\n",
       "</table>\n",
       "<p>5 rows × 2056 columns</p>\n",
       "</div>"
      ],
      "text/plain": [
       "    Unnamed: 0         0         1         2         3         4         5  \\\n",
       "42          42  0.106348  0.473400 -0.149458 -0.155440  0.445358  0.334737   \n",
       "43          43  0.083586  0.192579 -0.150493 -0.006405  0.274405 -0.046651   \n",
       "44          44  0.858896  1.035495 -0.202204  0.118599  0.623216 -0.136747   \n",
       "45          45  0.145664  0.175788 -0.164932 -0.153846 -0.131342  0.493277   \n",
       "46          46  0.466295 -0.053033 -0.139610 -0.175783  0.234734  0.006159   \n",
       "\n",
       "           6         7         8  ...      2045      2046      2047   Class  \\\n",
       "42 -0.050045  0.082079 -0.016057  ...  0.528739  0.169019  0.728107  Normal   \n",
       "43  0.417429  0.265573  0.389936  ...  0.035569  0.136989  0.352287  Normal   \n",
       "44  0.796293  0.754570  0.107795  ...  0.626649  0.305392  0.942076  Normal   \n",
       "45  0.149500  0.196442  0.115504  ...  0.077064  0.280627  0.760364  Normal   \n",
       "46  0.278315  0.198044  0.211481  ...  0.496372 -0.089537  0.416690  Normal   \n",
       "\n",
       "    sub_class  views  Sub_class  category                  Prob  Pred  \n",
       "42     Normal   FP-A         P1    Normal  [0.9930796370967743]     1  \n",
       "43     Normal   FP-A         P1    Normal  [0.9451233575363903]     1  \n",
       "44     Normal   FP-A         P1    Normal              [0.9975]     1  \n",
       "45     Normal   FP-A         P1    Normal  [0.9109623910966161]     1  \n",
       "46     Normal   FP-A         P1    Normal  [0.9800427932828761]     1  \n",
       "\n",
       "[5 rows x 2056 columns]"
      ]
     },
     "execution_count": 46,
     "metadata": {},
     "output_type": "execute_result"
    }
   ],
   "source": [
    "Normal.head()"
   ]
  },
  {
   "cell_type": "code",
   "execution_count": 47,
   "metadata": {},
   "outputs": [],
   "source": [
    "frames = [Abnormal, Normal]\n",
    "dataframe = pd.concat(frames)"
   ]
  },
  {
   "cell_type": "code",
   "execution_count": 48,
   "metadata": {},
   "outputs": [
    {
     "name": "stdout",
     "output_type": "stream",
     "text": [
      "Predicted :  2\n",
      "{0, 1}\n",
      "Actual :  150\n",
      "[nan nan nan nan nan nan nan nan nan nan nan nan nan nan nan nan nan nan\n",
      " nan nan nan nan nan nan nan nan nan nan nan nan nan nan nan nan nan nan\n",
      " nan nan nan nan nan nan nan nan nan nan nan nan nan nan nan nan nan nan\n",
      " nan nan nan nan nan nan nan nan nan nan nan nan nan nan nan nan nan nan\n",
      " nan nan nan nan nan nan nan nan nan nan nan nan nan nan nan nan nan nan\n",
      " nan nan nan nan nan nan nan nan nan nan nan nan nan nan nan nan nan nan\n",
      " nan nan nan nan nan nan nan nan nan nan nan nan nan nan nan nan nan nan\n",
      " nan nan nan nan nan nan nan nan nan nan nan nan nan nan nan nan nan nan\n",
      " nan nan nan nan nan nan]\n"
     ]
    }
   ],
   "source": [
    "data_train = dataframe\n",
    "#เช็คคลาสใน Predicted\n",
    "pred_class = set(data_train['Pred'])\n",
    "print('Predicted : ',len(pred_class))\n",
    "print(pred_class)\n",
    "#เช็คคลาสใน Actual\n",
    "classe = act= data_train['Sub_class'].map({'Normal':0,'AB01':1,'AB02':1,'AB03':1,'AB04':1,'AB05':1,'AB06':1,'AB07':1,'AB081':1,'AB082':1,'AB083':1,'AB09':1,'AB10':1,'AB11':1,'AB12':1}).values\n",
    "print('Actual : ',len(classe))\n",
    "print(classe)"
   ]
  },
  {
   "cell_type": "code",
   "execution_count": 58,
   "metadata": {},
   "outputs": [
    {
     "name": "stdout",
     "output_type": "stream",
     "text": [
      "classifier accuracy = 96.4939024390244%\n",
      "              precision    recall  f1-score   support\n",
      "\n",
      "           0       0.96      0.99      0.97       429\n",
      "           1       0.97      0.93      0.95       227\n",
      "\n",
      "    accuracy                           0.96       656\n",
      "   macro avg       0.97      0.96      0.96       656\n",
      "weighted avg       0.97      0.96      0.96       656\n",
      "\n"
     ]
    }
   ],
   "source": [
    "import numpy as np\n",
    "from sklearn.metrics import confusion_matrix\n",
    "act =data_train['Sub_class'].map({'Normal':0,'AB01':1,'AB02':1,'AB03':1,'AB04':1,'AB05':1,'AB06':1,'AB07':1,'AB081':1,'AB082':1,'AB083':1,'AB09':1,'AB10':1,'AB11':1,'AB12':1}).values\n",
    "pred = data_train['Pred'].array\n",
    "\n",
    "cmat = confusion_matrix(act, pred)\n",
    "print('classifier accuracy = {}%'.format((100.*np.trace(cmat))/(np.sum(cmat))))\n",
    "\n",
    "#Marking the Confusion Matrix\n",
    "from sklearn.metrics import classification_report,confusion_matrix\n",
    "print(classification_report(act, pred))#performance"
   ]
  },
  {
   "cell_type": "code",
   "execution_count": 59,
   "metadata": {},
   "outputs": [
    {
     "data": {
      "text/plain": [
       "Text(0.5, 21.5, 'Predicted label')"
      ]
     },
     "execution_count": 59,
     "metadata": {},
     "output_type": "execute_result"
    },
    {
     "data": {
      "image/png": "[encoded data removed]",
      "text/plain": [
       "<Figure size 576x360 with 2 Axes>"
      ]
     },
     "metadata": {},
     "output_type": "display_data"
    }
   ],
   "source": [
    "#create CF \n",
    "data = {'Actual': act,'Predicted' : pred,}\n",
    "df = pd.DataFrame(data, columns=['Actual','Predicted'])\n",
    "conf_mat = pd.crosstab(df['Actual'],df['Predicted'],rownames=['Actual'],colnames=['Predicted'])\n",
    "\n",
    "#Confusion matrix\n",
    "from sklearn.metrics import confusion_matrix\n",
    "import matplotlib.pyplot as plt\n",
    "cm = confusion_matrix(act, pred)\n",
    "\n",
    "#plot Confusion matrix\n",
    "import seaborn as sns\n",
    "sns.set()\n",
    "fig, ax = plt.subplots(figsize=(8, 5))\n",
    "\n",
    "ax = sns.heatmap(conf_mat, annot=True, fmt=\"d\", cmap=\"YlGnBu\") #Blues,Oranges,Reds\n",
    "ax.set_title('Confusion matrix',fontsize=20)\n",
    "ax.set_ylabel('True label',fontsize=18)\n",
    "ax.set_xlabel('Predicted label',fontsize=18)"
   ]
  },
  {
   "cell_type": "code",
   "execution_count": null,
   "metadata": {},
   "outputs": [],
   "source": []
  },
  {
   "cell_type": "code",
   "execution_count": null,
   "metadata": {},
   "outputs": [],
   "source": []
  },
  {
   "cell_type": "code",
   "execution_count": null,
   "metadata": {},
   "outputs": [],
   "source": []
  }
 ],
 "metadata": {
  "kernelspec": {
   "display_name": "USAI",
   "language": "python",
   "name": "usai"
  },
  "language_info": {
   "codemirror_mode": {
    "name": "ipython",
    "version": 3
   },
   "file_extension": ".py",
   "mimetype": "text/x-python",
   "name": "python",
   "nbconvert_exporter": "python",
   "pygments_lexer": "ipython3",
   "version": "3.6.9"
  }
 },
 "nbformat": 4,
 "nbformat_minor": 4
}
