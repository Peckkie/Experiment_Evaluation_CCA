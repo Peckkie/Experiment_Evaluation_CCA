{
 "cells": [
  {
   "cell_type": "code",
   "execution_count": 3,
   "metadata": {},
   "outputs": [],
   "source": [
    "AB15 = ['AB01'\n",
    ",'AB02'\n",
    ",'AB03'\n",
    ",'AB04'\n",
    ",'AB05'\n",
    ",'AB06'\n",
    ",'AB07'\n",
    ",'AB081'\n",
    ",'AB082'\n",
    ",'AB083'\n",
    ",'AB09'\n",
    ",'AB10'\n",
    ",'AB11'\n",
    ",'AB12'\n",
    ",'Normal']"
   ]
  },
  {
   "cell_type": "code",
   "execution_count": 6,
   "metadata": {},
   "outputs": [],
   "source": [
    "cerrect_logis = [0.6216\n",
    ",0.7627\n",
    ",0.4211\n",
    ",0.6842\n",
    ",0.8621\n",
    ",0.6667\n",
    ",0.6667\n",
    ",0.6250\n",
    ",0.6429\n",
    ",0.4545\n",
    ",0.8846\n",
    ",0.5000\n",
    ",0.3455\n",
    ",0.7813\n",
    ",0.9848]"
   ]
  },
  {
   "cell_type": "code",
   "execution_count": 7,
   "metadata": {},
   "outputs": [],
   "source": [
    "incerrect_logis = [0.3784\n",
    ",0.2373\n",
    ",0.5789\n",
    ",0.3158\n",
    ",0.1379\n",
    ",0.3333\n",
    ",0.3333\n",
    ",0.3750\n",
    ",0.3571\n",
    ",0.5455\n",
    ",0.1154\n",
    ",0.5000\n",
    ",0.6545\n",
    ",0.2188\n",
    ",0.0152]"
   ]
  },
  {
   "cell_type": "code",
   "execution_count": 8,
   "metadata": {},
   "outputs": [],
   "source": [
    "cerrect_none = [0.6081\n",
    ",0.5932\n",
    ",0.4737\n",
    ",0.6842\n",
    ",0.6552\n",
    ",0.4762\n",
    ",0.4762\n",
    ",0.5625\n",
    ",0.5357\n",
    ",0.3636\n",
    ",0.7692\n",
    ",0.4000\n",
    ",0.3636\n",
    ",1.0000\n",
    ",1.0000]"
   ]
  },
  {
   "cell_type": "code",
   "execution_count": 9,
   "metadata": {},
   "outputs": [],
   "source": [
    "incerrect_none = [0.3919\n",
    ",0.4068\n",
    ",0.5263\n",
    ",0.3158\n",
    ",0.3448\n",
    ",0.5238\n",
    ",0.5238\n",
    ",0.4375\n",
    ",0.4643\n",
    ",0.6364\n",
    ",0.2308\n",
    ",0.6000\n",
    ",0.6364\n",
    ",0.0000\n",
    ",0.0000]"
   ]
  },
  {
   "cell_type": "code",
   "execution_count": 12,
   "metadata": {},
   "outputs": [],
   "source": [
    "font = {'family': 'serif',\n",
    "        'color':  'black',\n",
    "        'weight': 'normal'}\n",
    "hfont = {'fontname':'serif'}"
   ]
  },
  {
   "cell_type": "code",
   "execution_count": 16,
   "metadata": {},
   "outputs": [
    {
     "data": {
      "image/png": "[encoded data removed]",
      "text/plain": [
       "<Figure size 720x360 with 1 Axes>"
      ]
     },
     "metadata": {
      "needs_background": "light"
     },
     "output_type": "display_data"
    }
   ],
   "source": [
    "import matplotlib.pyplot as plt\n",
    "import numpy as np\n",
    "\n",
    "labels = AB15\n",
    "none = cerrect_none\n",
    "act = cerrect_logis\n",
    "x = np.arange(len(labels))  # the label locations\n",
    "width = 0.35  # the width of the bars\n",
    "\n",
    "fig, ax = plt.subplots(figsize=(10, 5))\n",
    "rects1 = ax.bar(x - width/2, none, width, color=['#75bbfd'], label='BiTNet') #color= '#75bbfd'\n",
    "rects2 = ax.bar(x + width/2, act, width, color=['#fdaa48'], label='Logistics Regression(Position prior)') #color= '#ffb07c'\n",
    "\n",
    "ax.set_xticks(x)\n",
    "# ax.set_xticklabels(labels)\n",
    "ax.set_xticklabels(labels, fontdict=font)\n",
    "\n",
    "plt.title('The predicted proportional graph of the cerrect predicted model (15AB class)',fontsize=18, fontdict=font, pad=15)\n",
    "ax.legend()\n",
    "fig.tight_layout()\n",
    "\n",
    "plt.show()"
   ]
  },
  {
   "cell_type": "code",
   "execution_count": 26,
   "metadata": {},
   "outputs": [],
   "source": [
    "sub_class = ['MildFattyLiver'\n",
    ",'ModerateFattyLiver'\n",
    ",'SevereFattyLiver'\n",
    ",'Cirrhosis'\n",
    ",'PDF1'\n",
    ",'PDF2'\n",
    ",'PDF3'\n",
    ",'Livermass'\n",
    ",'BDD'\n",
    ",'LivermassAndBDD'\n",
    ",'Gallbladderstone'\n",
    ",'GallbladderMass'\n",
    ",'Gallbladderpolyp'\n",
    ",'Hydronephrosis'\n",
    ",'RenalCyst'\n",
    ",'RenalCystAndStone'\n",
    ",'RenalMass'\n",
    ",'RenalStone'\n",
    ",'RenalstoneAndParenchymalChange'\n",
    ",'RenalstonesAndHydronephrosis'\n",
    ",'Splenomegaly'\n",
    ",'Normal']"
   ]
  },
  {
   "cell_type": "code",
   "execution_count": 53,
   "metadata": {},
   "outputs": [],
   "source": [
    "cerrect_logis = [0.6216\n",
    ",0.7627\n",
    ",0.4211\n",
    ",0.6842\n",
    ",0.8621\n",
    ",0.6667\n",
    ",0.6667\n",
    ",0.6250\n",
    ",0.6429\n",
    ",0.4545\n",
    ",0.8846\n",
    ",0.0000\n",
    ",0.5556\n",
    ",0.3889\n",
    ",0.5000\n",
    ",0.0000\n",
    ",1.0000#\n",
    ",0.1579\n",
    ",0.5000\n",
    ",0.5000\n",
    ",0.7813\n",
    ",0.9848]"
   ]
  },
  {
   "cell_type": "code",
   "execution_count": 52,
   "metadata": {},
   "outputs": [],
   "source": [
    "# MildFattyLiver\n",
    "# ModerateFattyLiver\n",
    "# SevereFattyLiver\n",
    "# Cirrhosis\n",
    "# PDF1\n",
    "# PDF2\n",
    "# PDF3\n",
    "# Livermass\n",
    "# BDD\n",
    "# LivermassAndBDD\n",
    "# Gallbladderstone\n",
    "# GallbladderMass\n",
    "# Gallbladderpolyp\n",
    "# Hydronephrosis\n",
    "# RenalCyst\n",
    "# RenalMass\n",
    "# RenalCystAndStone\n",
    "# RenalStone\n",
    "# RenalstoneAndParenchymalChange\n",
    "# RenalstonesAndHydronephrosis\n",
    "# Splenomegaly\n",
    "# Normal\n"
   ]
  },
  {
   "cell_type": "code",
   "execution_count": 41,
   "metadata": {},
   "outputs": [],
   "source": [
    "sub_class = ['MildFL', 'ModerateFL', 'SevereFL', 'Cirrhosis', 'PDF1', 'PDF2', 'PDF3', 'Livermass', 'BDD', 'Lmass&BDD', 'Gall.stone', 'Gall.Mass', 'Gall.polyp',\n",
    "          'Hydronephrosis', 'RenalCyst', 'RenalCyst&Stone',   'RenalMass', 'RenalStone', 'RenalS&Paren.', 'RenalS&Hydro.', 'Splenomegaly', 'Normal']"
   ]
  },
  {
   "cell_type": "code",
   "execution_count": 42,
   "metadata": {},
   "outputs": [
    {
     "name": "stdout",
     "output_type": "stream",
     "text": [
      "22\n"
     ]
    }
   ],
   "source": [
    "print(len(sub_class))"
   ]
  },
  {
   "cell_type": "code",
   "execution_count": 43,
   "metadata": {},
   "outputs": [
    {
     "name": "stdout",
     "output_type": "stream",
     "text": [
      "22\n"
     ]
    }
   ],
   "source": [
    "print(len(cerrect_logis))"
   ]
  },
  {
   "cell_type": "code",
   "execution_count": 46,
   "metadata": {},
   "outputs": [
    {
     "name": "stdout",
     "output_type": "stream",
     "text": [
      "22\n"
     ]
    }
   ],
   "source": [
    "print(len(cerrect_none))"
   ]
  },
  {
   "cell_type": "code",
   "execution_count": 44,
   "metadata": {},
   "outputs": [],
   "source": [
    "# cerrect_logis = [0.6216\n",
    "# ,0.7627\n",
    "# ,0.4211\n",
    "# ,0.6842\n",
    "# ,0.8621\n",
    "# ,0.6667\n",
    "# ,0.6667\n",
    "# ,0.6250\n",
    "# ,0.6429\n",
    "# ,0.4545\n",
    "# ,0.8846\n",
    "# ,0.0000\n",
    "# ,0.5556\n",
    "# ,0.3889\n",
    "# ,0.5000\n",
    "# ,1.0000\n",
    "# ,0.0000#\n",
    "# ,0.1579\n",
    "# ,0.5000\n",
    "# ,0.5000\n",
    "# ,0.7813\n",
    "# ,0.9848]"
   ]
  },
  {
   "cell_type": "code",
   "execution_count": 50,
   "metadata": {},
   "outputs": [],
   "source": [
    "cerrect_none = [0.6081\n",
    ",0.5932\n",
    ",0.4737\n",
    ",0.6842\n",
    ",0.6552\n",
    ",0.4762\n",
    ",0.4762\n",
    ",0.5625\n",
    ",0.5357\n",
    ",0.3636\n",
    ",0.7692\n",
    ",0.0000\n",
    ",0.4444\n",
    ",0.2222\n",
    ",0.5000\n",
    ",1.0000\n",
    ",1.0000 #\n",
    ",0.2105\n",
    ",1.0000\n",
    ",0.5833\n",
    ",0.7500\n",
    ",0.9942]"
   ]
  },
  {
   "cell_type": "code",
   "execution_count": 54,
   "metadata": {},
   "outputs": [
    {
     "data": {
      "image/png": "[encoded data removed]",
      "text/plain": [
       "<Figure size 936x432 with 1 Axes>"
      ]
     },
     "metadata": {
      "needs_background": "light"
     },
     "output_type": "display_data"
    }
   ],
   "source": [
    "import matplotlib.pyplot as plt\n",
    "import numpy as np\n",
    "\n",
    "labels = sub_class\n",
    "none = cerrect_none\n",
    "act = cerrect_logis\n",
    "x = np.arange(len(labels))  # the label locations\n",
    "width = 0.35  # the width of the bars\n",
    "\n",
    "fig, ax = plt.subplots(figsize=(13, 6))\n",
    "rects1 = ax.bar(x - width/2, none, width, color=['#75bbfd'], label='BiTNet') #color= '#75bbfd'\n",
    "rects2 = ax.bar(x + width/2, act, width, color=['#fdaa48'], label='Logistics Regression(Position prior)') #color= '#ffb07c'\n",
    "\n",
    "ax.set_xticks(x)\n",
    "# ax.set_xticklabels(labels)\n",
    "ax.set_xticklabels(labels, fontdict=font, rotation=25)\n",
    "plt.title('The predicted proportional graph of the cerrect predicted model (sub.15AB class)',fontsize=18, fontdict=font, pad=15)\n",
    "ax.legend()\n",
    "fig.tight_layout()\n",
    "\n",
    "plt.show()"
   ]
  },
  {
   "cell_type": "code",
   "execution_count": null,
   "metadata": {},
   "outputs": [],
   "source": []
  }
 ],
 "metadata": {
  "kernelspec": {
   "display_name": "USAI3",
   "language": "python",
   "name": "usai3"
  },
  "language_info": {
   "codemirror_mode": {
    "name": "ipython",
    "version": 3
   },
   "file_extension": ".py",
   "mimetype": "text/x-python",
   "name": "python",
   "nbconvert_exporter": "python",
   "pygments_lexer": "ipython3",
   "version": "3.6.9"
  }
 },
 "nbformat": 4,
 "nbformat_minor": 4
}
