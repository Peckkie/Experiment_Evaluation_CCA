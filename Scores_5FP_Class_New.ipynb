{
 "cells": [
  {
   "cell_type": "code",
   "execution_count": 84,
   "metadata": {},
   "outputs": [
    {
     "name": "stdout",
     "output_type": "stream",
     "text": [
      "Total :  5257\n",
      "Abnormal :  1823\n",
      "Normal :  3434\n"
     ]
    }
   ],
   "source": [
    "import pandas as pd\n",
    "import numpy as np\n",
    "df0 = pd.read_csv (r'/home/yupaporn/codes/USAI/Data_tagName_Final.csv')\n",
    "df = df0[(df0['Path Crop']!='None' )&(df0['Path Crop']!='Nan')]\n",
    "df = df[(df['fold']!=1)&(df['fold']!=2)]\n",
    "df = df.drop(['Unnamed: 0'], axis=1)\n",
    "Abnormal = df[df['Class'] == 'Abnormal']\n",
    "Normal = df[df['Class'] == 'Normal']\n",
    "print('Total : ',len(df))\n",
    "print('Abnormal : ',len(Abnormal))\n",
    "print('Normal : ',len(Normal))"
   ]
  },
  {
   "cell_type": "code",
   "execution_count": 85,
   "metadata": {},
   "outputs": [],
   "source": [
    "values = {'Sub_class_New': 'Normal'}\n",
    "df =df.fillna(value=values)"
   ]
  },
  {
   "cell_type": "code",
   "execution_count": 86,
   "metadata": {},
   "outputs": [
    {
     "data": {
      "text/html": [
       "<div>\n",
       "<style scoped>\n",
       "    .dataframe tbody tr th:only-of-type {\n",
       "        vertical-align: middle;\n",
       "    }\n",
       "\n",
       "    .dataframe tbody tr th {\n",
       "        vertical-align: top;\n",
       "    }\n",
       "\n",
       "    .dataframe thead th {\n",
       "        text-align: right;\n",
       "    }\n",
       "</style>\n",
       "<table border=\"1\" class=\"dataframe\">\n",
       "  <thead>\n",
       "    <tr style=\"text-align: right;\">\n",
       "      <th>15AB Class</th>\n",
       "      <th>AB01</th>\n",
       "      <th>AB02</th>\n",
       "      <th>AB03</th>\n",
       "      <th>AB04</th>\n",
       "      <th>AB05</th>\n",
       "      <th>AB06</th>\n",
       "      <th>AB07</th>\n",
       "      <th>AB081</th>\n",
       "      <th>AB082</th>\n",
       "      <th>AB083</th>\n",
       "      <th>AB09</th>\n",
       "      <th>AB10</th>\n",
       "      <th>AB11</th>\n",
       "      <th>AB12</th>\n",
       "      <th>Normal</th>\n",
       "    </tr>\n",
       "    <tr>\n",
       "      <th>5-FP Class</th>\n",
       "      <th></th>\n",
       "      <th></th>\n",
       "      <th></th>\n",
       "      <th></th>\n",
       "      <th></th>\n",
       "      <th></th>\n",
       "      <th></th>\n",
       "      <th></th>\n",
       "      <th></th>\n",
       "      <th></th>\n",
       "      <th></th>\n",
       "      <th></th>\n",
       "      <th></th>\n",
       "      <th></th>\n",
       "      <th></th>\n",
       "    </tr>\n",
       "  </thead>\n",
       "  <tbody>\n",
       "    <tr>\n",
       "      <th>FP-A</th>\n",
       "      <td>84</td>\n",
       "      <td>109</td>\n",
       "      <td>42</td>\n",
       "      <td>84</td>\n",
       "      <td>34</td>\n",
       "      <td>59</td>\n",
       "      <td>2</td>\n",
       "      <td>22</td>\n",
       "      <td>21</td>\n",
       "      <td>8</td>\n",
       "      <td>0</td>\n",
       "      <td>0</td>\n",
       "      <td>0</td>\n",
       "      <td>0</td>\n",
       "      <td>596</td>\n",
       "    </tr>\n",
       "    <tr>\n",
       "      <th>FP-B</th>\n",
       "      <td>130</td>\n",
       "      <td>101</td>\n",
       "      <td>26</td>\n",
       "      <td>37</td>\n",
       "      <td>60</td>\n",
       "      <td>5</td>\n",
       "      <td>51</td>\n",
       "      <td>57</td>\n",
       "      <td>48</td>\n",
       "      <td>23</td>\n",
       "      <td>2</td>\n",
       "      <td>0</td>\n",
       "      <td>0</td>\n",
       "      <td>0</td>\n",
       "      <td>1063</td>\n",
       "    </tr>\n",
       "    <tr>\n",
       "      <th>FP-C</th>\n",
       "      <td>81</td>\n",
       "      <td>59</td>\n",
       "      <td>21</td>\n",
       "      <td>38</td>\n",
       "      <td>4</td>\n",
       "      <td>0</td>\n",
       "      <td>21</td>\n",
       "      <td>45</td>\n",
       "      <td>40</td>\n",
       "      <td>12</td>\n",
       "      <td>96</td>\n",
       "      <td>43</td>\n",
       "      <td>60</td>\n",
       "      <td>0</td>\n",
       "      <td>1015</td>\n",
       "    </tr>\n",
       "    <tr>\n",
       "      <th>FP-D</th>\n",
       "      <td>0</td>\n",
       "      <td>0</td>\n",
       "      <td>0</td>\n",
       "      <td>3</td>\n",
       "      <td>0</td>\n",
       "      <td>0</td>\n",
       "      <td>0</td>\n",
       "      <td>0</td>\n",
       "      <td>0</td>\n",
       "      <td>0</td>\n",
       "      <td>0</td>\n",
       "      <td>0</td>\n",
       "      <td>161</td>\n",
       "      <td>134</td>\n",
       "      <td>482</td>\n",
       "    </tr>\n",
       "    <tr>\n",
       "      <th>FP-E</th>\n",
       "      <td>0</td>\n",
       "      <td>0</td>\n",
       "      <td>0</td>\n",
       "      <td>0</td>\n",
       "      <td>0</td>\n",
       "      <td>0</td>\n",
       "      <td>0</td>\n",
       "      <td>0</td>\n",
       "      <td>0</td>\n",
       "      <td>0</td>\n",
       "      <td>0</td>\n",
       "      <td>0</td>\n",
       "      <td>0</td>\n",
       "      <td>0</td>\n",
       "      <td>278</td>\n",
       "    </tr>\n",
       "  </tbody>\n",
       "</table>\n",
       "</div>"
      ],
      "text/plain": [
       "15AB Class  AB01  AB02  AB03  AB04  AB05  AB06  AB07  AB081  AB082  AB083  \\\n",
       "5-FP Class                                                                  \n",
       "FP-A          84   109    42    84    34    59     2     22     21      8   \n",
       "FP-B         130   101    26    37    60     5    51     57     48     23   \n",
       "FP-C          81    59    21    38     4     0    21     45     40     12   \n",
       "FP-D           0     0     0     3     0     0     0      0      0      0   \n",
       "FP-E           0     0     0     0     0     0     0      0      0      0   \n",
       "\n",
       "15AB Class  AB09  AB10  AB11  AB12  Normal  \n",
       "5-FP Class                                  \n",
       "FP-A           0     0     0     0     596  \n",
       "FP-B           2     0     0     0    1063  \n",
       "FP-C          96    43    60     0    1015  \n",
       "FP-D           0     0   161   134     482  \n",
       "FP-E           0     0     0     0     278  "
      ]
     },
     "execution_count": 86,
     "metadata": {},
     "output_type": "execute_result"
    }
   ],
   "source": [
    "conf_mat = pd.crosstab(df['Views'],df['Sub_class_New'],rownames=['5-FP Class'],colnames=['15AB Class'])\n",
    "conf_mat"
   ]
  },
  {
   "cell_type": "markdown",
   "metadata": {},
   "source": [
    "# 1 .หาร MAX"
   ]
  },
  {
   "cell_type": "code",
   "execution_count": 87,
   "metadata": {},
   "outputs": [],
   "source": [
    "FP_ = []\n",
    "for j in range(5) :\n",
    "    FP = list(conf_mat.iloc[j,:][0:14])\n",
    "    max_ = max(FP)\n",
    "    fp = []\n",
    "    if j == 4:\n",
    "        fp = [1, 1, 1, 1, 1, 1, 1, 1, 1, 1, 1, 1, 1,1,1]\n",
    "        FP_.append(fp)\n",
    "    else:\n",
    "        for i in FP:\n",
    "            fp.append(i/max_)\n",
    "        fp.append(1)\n",
    "        FP_.append(fp)"
   ]
  },
  {
   "cell_type": "code",
   "execution_count": 88,
   "metadata": {},
   "outputs": [
    {
     "data": {
      "text/plain": [
       "array([[0.7706422 , 1.        , 0.3853211 , 0.7706422 , 0.31192661,\n",
       "        0.5412844 , 0.01834862, 0.20183486, 0.19266055, 0.0733945 ,\n",
       "        0.        , 0.        , 0.        , 0.        , 1.        ],\n",
       "       [1.        , 0.77692308, 0.2       , 0.28461538, 0.46153846,\n",
       "        0.03846154, 0.39230769, 0.43846154, 0.36923077, 0.17692308,\n",
       "        0.01538462, 0.        , 0.        , 0.        , 1.        ],\n",
       "       [0.84375   , 0.61458333, 0.21875   , 0.39583333, 0.04166667,\n",
       "        0.        , 0.21875   , 0.46875   , 0.41666667, 0.125     ,\n",
       "        1.        , 0.44791667, 0.625     , 0.        , 1.        ],\n",
       "       [0.        , 0.        , 0.        , 0.01863354, 0.        ,\n",
       "        0.        , 0.        , 0.        , 0.        , 0.        ,\n",
       "        0.        , 0.        , 1.        , 0.83229814, 1.        ],\n",
       "       [1.        , 1.        , 1.        , 1.        , 1.        ,\n",
       "        1.        , 1.        , 1.        , 1.        , 1.        ,\n",
       "        1.        , 1.        , 1.        , 1.        , 1.        ]])"
      ]
     },
     "execution_count": 88,
     "metadata": {},
     "output_type": "execute_result"
    }
   ],
   "source": [
    "FP = np.array(FP_)\n",
    "FP"
   ]
  },
  {
   "cell_type": "markdown",
   "metadata": {},
   "source": [
    "# 2.  1:0"
   ]
  },
  {
   "cell_type": "code",
   "execution_count": 82,
   "metadata": {},
   "outputs": [],
   "source": [
    "FP_ = []\n",
    "for j in range(5) :\n",
    "    FP = list(conf_mat.iloc[j,:][0:14])\n",
    "    num = 10\n",
    "    if j == 4:\n",
    "        fp = [1, 1, 1, 1, 1, 1, 1, 1, 1, 1, 1, 1, 1,1,1]\n",
    "        FP_.append(fp)\n",
    "    else:\n",
    "        fp = []\n",
    "        for i in FP:\n",
    "            if  i == 0:\n",
    "                fp.append(0)\n",
    "            elif i >= 10:\n",
    "                fp.append(1)\n",
    "#             else:\n",
    "            elif i < 10:\n",
    "                fp.append(0.5)\n",
    "            fp.append(1)\n",
    "        FP_.append(fp)"
   ]
  },
  {
   "cell_type": "code",
   "execution_count": 83,
   "metadata": {},
   "outputs": [
    {
     "data": {
      "text/plain": [
       "array([list([1, 1, 1, 1, 1, 1, 1, 1, 1, 1, 1, 1, 0.5, 1, 1, 1, 1, 1, 0.5, 1, 0, 1, 0, 1, 0, 1, 0, 1]),\n",
       "       list([1, 1, 1, 1, 1, 1, 1, 1, 1, 1, 0.5, 1, 1, 1, 1, 1, 1, 1, 1, 1, 0.5, 1, 0, 1, 0, 1, 0, 1]),\n",
       "       list([1, 1, 1, 1, 1, 1, 1, 1, 0.5, 1, 0, 1, 1, 1, 1, 1, 1, 1, 1, 1, 1, 1, 1, 1, 1, 1, 0, 1]),\n",
       "       list([0, 1, 0, 1, 0, 1, 0.5, 1, 0, 1, 0, 1, 0, 1, 0, 1, 0, 1, 0, 1, 0, 1, 0, 1, 1, 1, 1, 1]),\n",
       "       list([1, 1, 1, 1, 1, 1, 1, 1, 1, 1, 1, 1, 1, 1, 1])], dtype=object)"
      ]
     },
     "execution_count": 83,
     "metadata": {},
     "output_type": "execute_result"
    }
   ],
   "source": [
    "FP = np.array(FP_)\n",
    "FP"
   ]
  },
  {
   "cell_type": "code",
   "execution_count": 58,
   "metadata": {},
   "outputs": [],
   "source": [
    "FP_ = []\n",
    "for j in range(5) :\n",
    "    FP = list(conf_mat.iloc[j,:][0:14])\n",
    "    num = 10\n",
    "    fp = []\n",
    "    if j == 4:\n",
    "        fp = [1, 1, 1, 1, 1, 1, 1, 1, 1, 1, 1, 1, 1,1,1]\n",
    "        FP_.append(fp)\n",
    "    else:\n",
    "        for i in FP:\n",
    "            if (i < num) & (i != 0):\n",
    "                fp.append(0.5)\n",
    "            elif i >= num:\n",
    "                fp.append(1)\n",
    "            elif i == 0:\n",
    "                fp.append(0)\n",
    "            fp.append(1)\n",
    "        FP_.append(fp)"
   ]
  },
  {
   "cell_type": "code",
   "execution_count": null,
   "metadata": {},
   "outputs": [],
   "source": [
    "FP_ = []\n",
    "for j in range(5) :\n",
    "    FP = list(conf_mat.iloc[j,:][0:14])\n",
    "    max_ = max(FP)\n",
    "    fp = []\n",
    "    if j == 4:\n",
    "        fp = [1, 1, 1, 1, 1, 1, 1, 1, 1, 1, 1, 1, 1,1,1]\n",
    "        FP_.append(fp)\n",
    "    else:\n",
    "        for i in FP:\n",
    "            fp.append(i/max_)\n",
    "        fp.append(1)\n",
    "        FP_.append(fp)"
   ]
  }
 ],
 "metadata": {
  "kernelspec": {
   "display_name": "USAI3",
   "language": "python",
   "name": "usai3"
  },
  "language_info": {
   "codemirror_mode": {
    "name": "ipython",
    "version": 3
   },
   "file_extension": ".py",
   "mimetype": "text/x-python",
   "name": "python",
   "nbconvert_exporter": "python",
   "pygments_lexer": "ipython3",
   "version": "3.6.9"
  }
 },
 "nbformat": 4,
 "nbformat_minor": 4
}
