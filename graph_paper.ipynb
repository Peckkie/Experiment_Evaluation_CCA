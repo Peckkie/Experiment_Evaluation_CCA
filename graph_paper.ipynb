{
  "nbformat": 4,
  "nbformat_minor": 0,
  "metadata": {
    "colab": {
      "name": "graph_paper.ipynb",
      "provenance": [],
      "collapsed_sections": [],
      "toc_visible": true,
      "authorship_tag": "ABX9TyO4kfrOuW0C8Ky8DBwiYNvr",
      "include_colab_link": true
    },
    "kernelspec": {
      "name": "python3",
      "display_name": "Python 3"
    },
    "language_info": {
      "name": "python"
    },
    "accelerator": "GPU"
  },
  "cells": [
    {
      "cell_type": "markdown",
      "metadata": {
        "id": "view-in-github",
        "colab_type": "text"
      },
      "source": [
        "<a href=\"https://colab.research.google.com/github/Peckkie/Experiment_Evaluation_CCA/blob/main/graph_paper.ipynb\" target=\"_parent\"><img src=\"https://colab.research.google.com/assets/colab-badge.svg\" alt=\"Open In Colab\"/></a>"
      ]
    },
    {
      "cell_type": "code",
      "metadata": {
        "id": "bRi3zhQH52UL",
        "colab": {
          "base_uri": "https://localhost:8080/"
        },
        "outputId": "e2494ced-6164-4d69-a268-0fd4583e2d7e"
      },
      "source": [
        "from google.colab import drive\n",
        "drive.mount('/content/drive')"
      ],
      "execution_count": null,
      "outputs": [
        {
          "output_type": "stream",
          "text": [
            "Mounted at /content/drive\n"
          ],
          "name": "stdout"
        }
      ]
    },
    {
      "cell_type": "code",
      "metadata": {
        "id": "oI_0t8bI56cJ",
        "colab": {
          "base_uri": "https://localhost:8080/"
        },
        "outputId": "5d4be38e-c6e9-49ec-e34f-77b22ee97de4"
      },
      "source": [
        "import os\n",
        "os.chdir( '/content/drive/MyDrive/CCA_Project')\n",
        "!pwd"
      ],
      "execution_count": null,
      "outputs": [
        {
          "output_type": "stream",
          "text": [
            "/content/drive/MyDrive/CCA_Project\n"
          ],
          "name": "stdout"
        }
      ]
    },
    {
      "cell_type": "markdown",
      "metadata": {
        "id": "S-ODYjffIkbH"
      },
      "source": [
        "# Assisted vs Unassisted Diagnosis of 15 abnormalities"
      ]
    },
    {
      "cell_type": "code",
      "metadata": {
        "id": "vMTuHMJ856jd"
      },
      "source": [
        "import matplotlib.pyplot as plt\n",
        "import numpy as np\n",
        "from pylab import plot, show, title, xlabel, ylabel\n",
        "from pylab import legend\n",
        "from pylab import axis"
      ],
      "execution_count": null,
      "outputs": []
    },
    {
      "cell_type": "code",
      "metadata": {
        "id": "Typa7xfy56oz",
        "colab": {
          "base_uri": "https://localhost:8080/",
          "height": 373
        },
        "outputId": "5dde4b01-bb97-4d1b-fb32-a82682b41428"
      },
      "source": [
        "font = {'family': 'serif',\n",
        "        'color':  'black',\n",
        "        'weight': 'normal'}\n",
        "        \n",
        "fig, ax = plt.subplots(figsize=(10, 5))\n",
        "ass = [0.61,0.69,0.81,0.84]\n",
        "unass  = [0.35,0.50,0.75,0.64]\n",
        "ai = [0.84,0.84,0.84,0.84]\n",
        "X = [[0,0],[0.5,0.5],[1,1],[1.5,1.5]]\n",
        "Y = [[0.61,0.35],[0.69,0.5],[0.81,0.75],[0.84,0.64]]\n",
        "plt.ylim(0.,1) \n",
        "x = np.arange(0,2,0.5)  \n",
        "\n",
        "plt.plot(x, ai , color='#363737',  linestyle='--', linewidth=1.5, label='AI (Acc. 0.84)')\n",
        "\n",
        "for i in range(len(X)):\n",
        "    plt.plot(X[i], Y[i] , color='#AAA7A7',  linestyle='-', linewidth=3)\n",
        "\n",
        "plt.plot(x, unass, color='#AAA7A7',  linestyle=' ', marker='o', markeredgecolor='#AAA7A7', markersize=9, label='Unassisted')\n",
        "plt.plot(x, ass, color='#5cac2d',  linestyle=' ', marker='D', markeredgecolor='#5cac2d', markersize=8, label='Assisted')\n",
        "\n",
        "# legend(['Unassisted', 'Assisted'], bbox_to_anchor=(1.17,1.))\n",
        "plt.title('Assisted vs Unassisted Diagnosis of 15 abnormalities',fontsize=18, fontdict=font, pad=15) \n",
        "plt.xlabel('Groups of participants based on experience',fontsize=16, fontdict=font,  labelpad=15)\n",
        "plt.ylabel('Average Accuracy',fontsize=16, fontdict=font,  labelpad=15)\n",
        "ax.set_xticks(x)\n",
        "labels = ['GP', 'Resident Radiologist','Non-HB Radiologist','HB Radiologist']\n",
        "ax.set_xticklabels(labels,fontsize=12, fontdict=font)\n",
        "plt.legend(loc='lower right')\n",
        "plt.grid(True)\n",
        "show()"
      ],
      "execution_count": null,
      "outputs": [
        {
          "output_type": "display_data",
          "data": {
            "image/png": "[encoded data removed]",
            "text/plain": [
              "<Figure size 720x360 with 1 Axes>"
            ]
          },
          "metadata": {
            "tags": [],
            "needs_background": "light"
          }
        }
      ]
    },
    {
      "cell_type": "code",
      "metadata": {
        "id": "ok_2nxPG56rk",
        "colab": {
          "base_uri": "https://localhost:8080/",
          "height": 373
        },
        "outputId": "154216fa-a6f4-42be-dcdf-362e8ac22037"
      },
      "source": [
        "fig, ax = plt.subplots(figsize=(10, 5))\n",
        "ass = [0.37,0.49,0.59,0.62]\n",
        "unass  = [0.23,0.41,0.55,0.57]\n",
        "ai = [0.59,0.59,0.59,0.59]\n",
        "X = [[0,0],[0.5,0.5],[1,1],[1.5,1.5]]\n",
        "Y = [[0.37,0.23],[0.49,0.41],[0.59,0.55],[0.62,0.57]]\n",
        "\n",
        "plt.ylim(0.,1) \n",
        "x = np.arange(0,2,0.5)  \n",
        "\n",
        "plt.plot(x, ai , color='#363737',  linestyle='--', linewidth=1.5, label='AI (Acc. 0.84)')\n",
        "\n",
        "for i in range(len(X)):\n",
        "    plt.plot(X[i], Y[i] , color='#AAA7A7',  linestyle='-', linewidth=3)\n",
        "\n",
        "plt.plot(x, unass, color='#AAA7A7',  linestyle=' ', marker='o', markeredgecolor='#AAA7A7', markersize=9, label='Unassisted')\n",
        "plt.plot(x, ass, color='#5cac2d',  linestyle=' ', marker='D', markeredgecolor='#5cac2d', markersize=8, label='Assisted')\n",
        "\n",
        "# legend(['Unassisted', 'Assisted'], bbox_to_anchor=(1.17,1.))\n",
        "plt.title('Assisted vs Unassisted Diagnosis of 15 abnormalities',fontsize=18, fontdict=font, pad=15) \n",
        "plt.xlabel('Groups of participants based on experience',fontsize=16, fontdict=font,  labelpad=15)\n",
        "plt.ylabel('Average Precision',fontsize=16, fontdict=font,  labelpad=15)\n",
        "ax.set_xticks(x)\n",
        "labels = ['GP', 'Resident Radiologist','Non-HB Radiologist','HB Radiologist']\n",
        "ax.set_xticklabels(labels,fontsize=12, fontdict=font)\n",
        "plt.legend(loc='lower right')\n",
        "plt.grid(True)\n",
        "show()\n",
        "\n"
      ],
      "execution_count": null,
      "outputs": [
        {
          "output_type": "display_data",
          "data": {
            "image/png": "[encoded data removed]",
            "text/plain": [
              "<Figure size 720x360 with 1 Axes>"
            ]
          },
          "metadata": {
            "tags": [],
            "needs_background": "light"
          }
        }
      ]
    },
    {
      "cell_type": "code",
      "metadata": {
        "colab": {
          "base_uri": "https://localhost:8080/",
          "height": 384
        },
        "id": "UdOG_ogsJ5J9",
        "outputId": "cf29447e-6f40-418f-a69e-d9cdee514e36"
      },
      "source": [
        "fig, ax = plt.subplots(figsize=(10, 5))\n",
        "ass = [0.46,0.64,0.71,0.66]\n",
        "unass  = [0.33,0.66,0.67,0.68]\n",
        "ai = [0.51,0.51,0.51,0.51]\n",
        "X = [[0,0],[0.5,0.5],[1,1],[1.5,1.5]]\n",
        "Y = [[0.46,0.33],[0.64,0.66],[0.71,0.67],[0.66,0.68]]\n",
        "\n",
        "plt.ylim(0.,1) \n",
        "x = np.arange(0,2,0.5)  \n",
        "\n",
        "plt.plot(x, ai , color='#363737',  linestyle='--', linewidth=1.5, label='AI (Acc. 0.84)')\n",
        "\n",
        "for i in range(len(X)):\n",
        "    plt.plot(X[i], Y[i] , color='#AAA7A7',  linestyle='-', linewidth=3)\n",
        "\n",
        "plt.plot(x, unass, color='#AAA7A7',  linestyle=' ', marker='o', markeredgecolor='#AAA7A7', markersize=9, label='Unassisted')\n",
        "plt.plot(x, ass, color='#5cac2d',  linestyle=' ', marker='D', markeredgecolor='#5cac2d', markersize=8, label='Assisted')\n",
        "\n",
        "# legend(['Unassisted', 'Assisted'], bbox_to_anchor=(1.17,1.))\n",
        "plt.title('Assisted vs Unassisted Diagnosis of 15 abnormalities',fontsize=18, fontdict=font, pad=15) \n",
        "plt.xlabel('Groups of participants based on experience',fontsize=16, fontdict=font,  labelpad=15)\n",
        "plt.ylabel('Average Recall',fontsize=16, fontdict=font,  labelpad=15)\n",
        "ax.set_xticks(x)\n",
        "labels = ['GP', 'Resident Radiologist','Non-HB Radiologist','HB Radiologist']\n",
        "ax.set_xticklabels(labels,fontsize=12, fontdict=font)\n",
        "plt.legend(loc='lower right')\n",
        "plt.grid(True)\n",
        "show()"
      ],
      "execution_count": null,
      "outputs": [
        {
          "output_type": "display_data",
          "data": {
            "image/png": "[encoded data removed]",
            "text/plain": [
              "<Figure size 720x360 with 1 Axes>"
            ]
          },
          "metadata": {
            "tags": [],
            "needs_background": "light"
          }
        }
      ]
    },
    {
      "cell_type": "markdown",
      "metadata": {
        "id": "mv13L5FCJ__P"
      },
      "source": [
        "# First round vs Second round of 15 abnormalities"
      ]
    },
    {
      "cell_type": "code",
      "metadata": {
        "colab": {
          "base_uri": "https://localhost:8080/",
          "height": 384
        },
        "id": "BJsxePZ6J65Y",
        "outputId": "34c9bc43-0c57-4b69-a501-fc33ca8b651c"
      },
      "source": [
        "fig, ax = plt.subplots(figsize=(10, 5))\n",
        "Before = [0.46,0.61,0.80,0.67]\n",
        "After = [0.46,0.57,0.76,0.81]\n",
        "X = [[0,0],[0.5,0.5],[1,1],[1.5,1.5]]\n",
        "Y = [[0.46,0.46],[0.61,0.57],[0.80,0.76],[0.67,0.81]]\n",
        "\n",
        "plt.ylim(0.3,1) \n",
        "x = np.arange(0,2,0.5)  # the label locations\n",
        "\n",
        "for i in range(len(X)):\n",
        "    plt.plot(X[i], Y[i] , color='#e2ca76',  linestyle='-', linewidth=3)\n",
        "plt.plot(x, Before, color='#e2ca76',  linestyle='',  marker='o', markeredgecolor='#e2ca76', markersize=10, linewidth=2, label='First round')\n",
        "plt.plot(x, After, color='#c65102',  linestyle='',  marker='^', markeredgecolor='#c65102', markersize=10, linewidth=2, label='Second round')\n",
        "\n",
        "\n",
        "plt.title('First round vs Second round of 15 abnormalities',fontsize=18, fontdict=font, pad=15) \n",
        "plt.xlabel('Groups of participants based on experience',fontsize=16, fontdict=font,  labelpad=15)\n",
        "plt.ylabel('Average Accuracy',fontsize=16, fontdict=font,  labelpad=15)\n",
        "ax.set_xticks(x)\n",
        "labels = ['GP', 'Resident Radiologist','Non-HB Radiologist','HB Radiologist']\n",
        "ax.set_xticklabels(labels,fontsize=12, fontdict=font)\n",
        "plt.legend(loc='lower right')\n",
        "plt.grid(True)\n",
        "show()"
      ],
      "execution_count": null,
      "outputs": [
        {
          "output_type": "display_data",
          "data": {
            "image/png": "[encoded data removed]",
            "text/plain": [
              "<Figure size 720x360 with 1 Axes>"
            ]
          },
          "metadata": {
            "tags": [],
            "needs_background": "light"
          }
        }
      ]
    },
    {
      "cell_type": "markdown",
      "metadata": {
        "id": "_0du0-ySVL1p"
      },
      "source": [
        "# Prob. each the networks"
      ]
    },
    {
      "cell_type": "code",
      "metadata": {
        "id": "0Y53hBAMYNrJ"
      },
      "source": [
        "import matplotlib.pyplot as plt\n",
        "import numpy as np\n",
        "from pylab import plot, show, title, xlabel, ylabel\n",
        "from pylab import legend\n",
        "from pylab import axis"
      ],
      "execution_count": 1,
      "outputs": []
    },
    {
      "cell_type": "code",
      "metadata": {
        "colab": {
          "base_uri": "https://localhost:8080/"
        },
        "id": "XJ9LE1exWdh4",
        "outputId": "0e3a2207-f2fa-4212-ac14-032313565062"
      },
      "source": [
        "from google.colab import drive\n",
        "drive.mount('/content/drive')"
      ],
      "execution_count": 2,
      "outputs": [
        {
          "output_type": "stream",
          "text": [
            "Mounted at /content/drive\n"
          ],
          "name": "stdout"
        }
      ]
    },
    {
      "cell_type": "code",
      "metadata": {
        "colab": {
          "base_uri": "https://localhost:8080/"
        },
        "id": "gxpi33uoWhpp",
        "outputId": "7aae0924-25fc-4c57-a6fd-20d95b1e1eee"
      },
      "source": [
        "import os\n",
        "os.chdir( '/content/drive/MyDrive/CCA_Project')\n",
        "!pwd"
      ],
      "execution_count": 3,
      "outputs": [
        {
          "output_type": "stream",
          "text": [
            "/content/drive/MyDrive/CCA_Project\n"
          ],
          "name": "stdout"
        }
      ]
    },
    {
      "cell_type": "code",
      "metadata": {
        "colab": {
          "base_uri": "https://localhost:8080/",
          "height": 280
        },
        "id": "DZo7f5nZJ_IV",
        "outputId": "6559777f-2992-45e4-bbe3-cda9f00481ea"
      },
      "source": [
        "import pandas as pd\n",
        "RFdf = pd.read_csv( '/content/drive/MyDrive/CCA_Project/result_csv/Testdf_15ABrf.csv')\n",
        "RFdf.head(3)"
      ],
      "execution_count": 4,
      "outputs": [
        {
          "output_type": "execute_result",
          "data": {
            "text/html": [
              "<div>\n",
              "<style scoped>\n",
              "    .dataframe tbody tr th:only-of-type {\n",
              "        vertical-align: middle;\n",
              "    }\n",
              "\n",
              "    .dataframe tbody tr th {\n",
              "        vertical-align: top;\n",
              "    }\n",
              "\n",
              "    .dataframe thead th {\n",
              "        text-align: right;\n",
              "    }\n",
              "</style>\n",
              "<table border=\"1\" class=\"dataframe\">\n",
              "  <thead>\n",
              "    <tr style=\"text-align: right;\">\n",
              "      <th></th>\n",
              "      <th>Unnamed: 0</th>\n",
              "      <th>Case</th>\n",
              "      <th>Abs Position</th>\n",
              "      <th>Sub Position</th>\n",
              "      <th>Class</th>\n",
              "      <th>Sub_class</th>\n",
              "      <th>Path Full</th>\n",
              "      <th>Path Crop</th>\n",
              "      <th>Views</th>\n",
              "      <th>fold</th>\n",
              "      <th>tagName</th>\n",
              "      <th>originalImage</th>\n",
              "      <th>left</th>\n",
              "      <th>top</th>\n",
              "      <th>width</th>\n",
              "      <th>height</th>\n",
              "      <th>Rleft</th>\n",
              "      <th>Rtop</th>\n",
              "      <th>Rwidth</th>\n",
              "      <th>Rheight</th>\n",
              "      <th>filename</th>\n",
              "      <th>15AB_category</th>\n",
              "      <th>15AB_Prob</th>\n",
              "      <th>15AB_ProbAll</th>\n",
              "      <th>Predict_15AB</th>\n",
              "    </tr>\n",
              "  </thead>\n",
              "  <tbody>\n",
              "    <tr>\n",
              "      <th>0</th>\n",
              "      <td>0</td>\n",
              "      <td>40</td>\n",
              "      <td>P1</td>\n",
              "      <td>P1</td>\n",
              "      <td>Abnormal</td>\n",
              "      <td>AB01</td>\n",
              "      <td>/media/tohn/HDD/VISION_dataset/USAI/ABnormal01...</td>\n",
              "      <td>/media/tohn/HDD/VISION_dataset/USAI/ABnormal01...</td>\n",
              "      <td>FP-A</td>\n",
              "      <td>2</td>\n",
              "      <td>MildFattyLiver</td>\n",
              "      <td>https://irisprodseatraining.blob.core.windows....</td>\n",
              "      <td>86.0</td>\n",
              "      <td>133.0</td>\n",
              "      <td>477.0</td>\n",
              "      <td>311.0</td>\n",
              "      <td>0.092664</td>\n",
              "      <td>0.148873</td>\n",
              "      <td>0.513514</td>\n",
              "      <td>0.346614</td>\n",
              "      <td>AB01 P1 C040.JPG</td>\n",
              "      <td>Normal</td>\n",
              "      <td>0.413035</td>\n",
              "      <td>[0.21054949660106018, 0.15272910155885105, 0.0...</td>\n",
              "      <td>Incorrect</td>\n",
              "    </tr>\n",
              "    <tr>\n",
              "      <th>1</th>\n",
              "      <td>1</td>\n",
              "      <td>40</td>\n",
              "      <td>P2</td>\n",
              "      <td>P2</td>\n",
              "      <td>Abnormal</td>\n",
              "      <td>AB01</td>\n",
              "      <td>/media/tohn/HDD/VISION_dataset/USAI/ABnormal01...</td>\n",
              "      <td>/media/tohn/HDD/VISION_dataset/USAI/ABnormal01...</td>\n",
              "      <td>FP-A</td>\n",
              "      <td>2</td>\n",
              "      <td>MildFattyLiver</td>\n",
              "      <td>https://irisprodseatraining.blob.core.windows....</td>\n",
              "      <td>163.0</td>\n",
              "      <td>139.0</td>\n",
              "      <td>532.0</td>\n",
              "      <td>385.0</td>\n",
              "      <td>0.171698</td>\n",
              "      <td>0.154849</td>\n",
              "      <td>0.560377</td>\n",
              "      <td>0.428287</td>\n",
              "      <td>AB01 P2 C040.JPG</td>\n",
              "      <td>AB01</td>\n",
              "      <td>0.741650</td>\n",
              "      <td>[0.741650235419515, 0.07765986354655634, 0.003...</td>\n",
              "      <td>Correct</td>\n",
              "    </tr>\n",
              "    <tr>\n",
              "      <th>2</th>\n",
              "      <td>2</td>\n",
              "      <td>40</td>\n",
              "      <td>P4</td>\n",
              "      <td>P41</td>\n",
              "      <td>Abnormal</td>\n",
              "      <td>AB01</td>\n",
              "      <td>/media/tohn/HDD/VISION_dataset/USAI/ABnormal01...</td>\n",
              "      <td>/media/tohn/HDD/VISION_dataset/USAI/ABnormal01...</td>\n",
              "      <td>FP-B</td>\n",
              "      <td>2</td>\n",
              "      <td>MildFattyLiver</td>\n",
              "      <td>https://irisprodseatraining.blob.core.windows....</td>\n",
              "      <td>127.0</td>\n",
              "      <td>135.0</td>\n",
              "      <td>605.0</td>\n",
              "      <td>640.0</td>\n",
              "      <td>0.140316</td>\n",
              "      <td>0.150865</td>\n",
              "      <td>0.667984</td>\n",
              "      <td>0.711155</td>\n",
              "      <td>AB01 P4-1 C040.JPG</td>\n",
              "      <td>AB02</td>\n",
              "      <td>0.432403</td>\n",
              "      <td>[0.34931351731971466, 0.43240273685662617, 0.0...</td>\n",
              "      <td>Incorrect</td>\n",
              "    </tr>\n",
              "  </tbody>\n",
              "</table>\n",
              "</div>"
            ],
            "text/plain": [
              "   Unnamed: 0  ...  Predict_15AB\n",
              "0           0  ...     Incorrect\n",
              "1           1  ...       Correct\n",
              "2           2  ...     Incorrect\n",
              "\n",
              "[3 rows x 25 columns]"
            ]
          },
          "metadata": {
            "tags": []
          },
          "execution_count": 4
        }
      ]
    },
    {
      "cell_type": "code",
      "metadata": {
        "colab": {
          "base_uri": "https://localhost:8080/",
          "height": 280
        },
        "id": "YsbTslxuW5Hz",
        "outputId": "11ab465c-fe3d-4173-8f12-752abeba63e6"
      },
      "source": [
        "Effdf = pd.read_csv( '/content/drive/MyDrive/CCA_Project/result_csv/Testdf_result.csv')\n",
        "Effdf.head(3)"
      ],
      "execution_count": 5,
      "outputs": [
        {
          "output_type": "execute_result",
          "data": {
            "text/html": [
              "<div>\n",
              "<style scoped>\n",
              "    .dataframe tbody tr th:only-of-type {\n",
              "        vertical-align: middle;\n",
              "    }\n",
              "\n",
              "    .dataframe tbody tr th {\n",
              "        vertical-align: top;\n",
              "    }\n",
              "\n",
              "    .dataframe thead th {\n",
              "        text-align: right;\n",
              "    }\n",
              "</style>\n",
              "<table border=\"1\" class=\"dataframe\">\n",
              "  <thead>\n",
              "    <tr style=\"text-align: right;\">\n",
              "      <th></th>\n",
              "      <th>Unnamed: 0</th>\n",
              "      <th>Case</th>\n",
              "      <th>Abs Position</th>\n",
              "      <th>Sub Position</th>\n",
              "      <th>Class</th>\n",
              "      <th>Sub_class</th>\n",
              "      <th>Path Full</th>\n",
              "      <th>Path Crop</th>\n",
              "      <th>Views</th>\n",
              "      <th>fold</th>\n",
              "      <th>tagName</th>\n",
              "      <th>originalImage</th>\n",
              "      <th>left</th>\n",
              "      <th>top</th>\n",
              "      <th>width</th>\n",
              "      <th>height</th>\n",
              "      <th>Rleft</th>\n",
              "      <th>Rtop</th>\n",
              "      <th>Rwidth</th>\n",
              "      <th>Rheight</th>\n",
              "      <th>filename</th>\n",
              "      <th>category</th>\n",
              "      <th>Prob</th>\n",
              "      <th>Predict_AN</th>\n",
              "      <th>Predict_15AB</th>\n",
              "      <th>FP_category</th>\n",
              "      <th>FP_Prob</th>\n",
              "      <th>FP_ProbAll</th>\n",
              "      <th>Predict_5FP</th>\n",
              "    </tr>\n",
              "  </thead>\n",
              "  <tbody>\n",
              "    <tr>\n",
              "      <th>0</th>\n",
              "      <td>0</td>\n",
              "      <td>40</td>\n",
              "      <td>P1</td>\n",
              "      <td>P1</td>\n",
              "      <td>Abnormal</td>\n",
              "      <td>AB01</td>\n",
              "      <td>/media/tohn/HDD/VISION_dataset/USAI/ABnormal01...</td>\n",
              "      <td>/media/tohn/HDD/VISION_dataset/USAI/ABnormal01...</td>\n",
              "      <td>FP-A</td>\n",
              "      <td>2</td>\n",
              "      <td>MildFattyLiver</td>\n",
              "      <td>https://irisprodseatraining.blob.core.windows....</td>\n",
              "      <td>86.0</td>\n",
              "      <td>133.0</td>\n",
              "      <td>477.0</td>\n",
              "      <td>311.0</td>\n",
              "      <td>0.092664</td>\n",
              "      <td>0.148873</td>\n",
              "      <td>0.513514</td>\n",
              "      <td>0.346614</td>\n",
              "      <td>AB01 P1 C040.JPG</td>\n",
              "      <td>Normal</td>\n",
              "      <td>0.958334</td>\n",
              "      <td>Incorrect</td>\n",
              "      <td>Incorrect</td>\n",
              "      <td>FP-B</td>\n",
              "      <td>0.475344</td>\n",
              "      <td>[0.22316645916382064, 0.47534361094783256, 0.1...</td>\n",
              "      <td>Incorrect</td>\n",
              "    </tr>\n",
              "    <tr>\n",
              "      <th>1</th>\n",
              "      <td>1</td>\n",
              "      <td>40</td>\n",
              "      <td>P2</td>\n",
              "      <td>P2</td>\n",
              "      <td>Abnormal</td>\n",
              "      <td>AB01</td>\n",
              "      <td>/media/tohn/HDD/VISION_dataset/USAI/ABnormal01...</td>\n",
              "      <td>/media/tohn/HDD/VISION_dataset/USAI/ABnormal01...</td>\n",
              "      <td>FP-A</td>\n",
              "      <td>2</td>\n",
              "      <td>MildFattyLiver</td>\n",
              "      <td>https://irisprodseatraining.blob.core.windows....</td>\n",
              "      <td>163.0</td>\n",
              "      <td>139.0</td>\n",
              "      <td>532.0</td>\n",
              "      <td>385.0</td>\n",
              "      <td>0.171698</td>\n",
              "      <td>0.154849</td>\n",
              "      <td>0.560377</td>\n",
              "      <td>0.428287</td>\n",
              "      <td>AB01 P2 C040.JPG</td>\n",
              "      <td>AB01</td>\n",
              "      <td>0.999923</td>\n",
              "      <td>Correct</td>\n",
              "      <td>Correct</td>\n",
              "      <td>FP-B</td>\n",
              "      <td>0.421248</td>\n",
              "      <td>[0.37420833333333337, 0.42124777662277657, 0.1...</td>\n",
              "      <td>Incorrect</td>\n",
              "    </tr>\n",
              "    <tr>\n",
              "      <th>2</th>\n",
              "      <td>2</td>\n",
              "      <td>40</td>\n",
              "      <td>P4</td>\n",
              "      <td>P41</td>\n",
              "      <td>Abnormal</td>\n",
              "      <td>AB01</td>\n",
              "      <td>/media/tohn/HDD/VISION_dataset/USAI/ABnormal01...</td>\n",
              "      <td>/media/tohn/HDD/VISION_dataset/USAI/ABnormal01...</td>\n",
              "      <td>FP-B</td>\n",
              "      <td>2</td>\n",
              "      <td>MildFattyLiver</td>\n",
              "      <td>https://irisprodseatraining.blob.core.windows....</td>\n",
              "      <td>127.0</td>\n",
              "      <td>135.0</td>\n",
              "      <td>605.0</td>\n",
              "      <td>640.0</td>\n",
              "      <td>0.140316</td>\n",
              "      <td>0.150865</td>\n",
              "      <td>0.667984</td>\n",
              "      <td>0.711155</td>\n",
              "      <td>AB01 P4-1 C040.JPG</td>\n",
              "      <td>AB02</td>\n",
              "      <td>0.932391</td>\n",
              "      <td>Correct</td>\n",
              "      <td>Incorrect</td>\n",
              "      <td>FP-B</td>\n",
              "      <td>0.539706</td>\n",
              "      <td>[0.26481242746053524, 0.5397056655678111, 0.16...</td>\n",
              "      <td>Correct</td>\n",
              "    </tr>\n",
              "  </tbody>\n",
              "</table>\n",
              "</div>"
            ],
            "text/plain": [
              "   Unnamed: 0  ...  Predict_5FP\n",
              "0           0  ...    Incorrect\n",
              "1           1  ...    Incorrect\n",
              "2           2  ...      Correct\n",
              "\n",
              "[3 rows x 29 columns]"
            ]
          },
          "metadata": {
            "tags": []
          },
          "execution_count": 5
        }
      ]
    },
    {
      "cell_type": "code",
      "metadata": {
        "id": "_3r48SqnyC8x"
      },
      "source": [
        ""
      ],
      "execution_count": null,
      "outputs": []
    },
    {
      "cell_type": "markdown",
      "metadata": {
        "id": "SJpPd0dwyDXn"
      },
      "source": [
        "## EffNet model"
      ]
    },
    {
      "cell_type": "code",
      "metadata": {
        "id": "mb6IB2bgl00S"
      },
      "source": [
        "Effdf_Correct= Effdf[Effdf.Predict_15AB == 'Correct']\n",
        "Effdf_Incorrect= Effdf[Effdf.Predict_15AB != 'Correct']\n",
        "probEff_Cor = Effdf_Correct.Prob.tolist()\n",
        "probEff_Incor = Effdf_Incorrect.Prob.tolist()"
      ],
      "execution_count": 26,
      "outputs": []
    },
    {
      "cell_type": "code",
      "metadata": {
        "id": "ri9sqRIrvvga"
      },
      "source": [
        "import statistics\n",
        "mu = statistics.mean(probEff_Cor)\n",
        "variance = statistics.variance(probEff_Cor)"
      ],
      "execution_count": 27,
      "outputs": []
    },
    {
      "cell_type": "code",
      "metadata": {
        "colab": {
          "base_uri": "https://localhost:8080/"
        },
        "id": "-LL-JTYhwQdg",
        "outputId": "5a64dbcc-c0c2-4691-d5b6-535dd04aadfa"
      },
      "source": [
        "mu_Cor = statistics.mean(probEff_Cor)\n",
        "variance_Cor = statistics.variance(probEff_Cor)\n",
        "print('mu:',mu_Cor,'variance:',variance_Cor)"
      ],
      "execution_count": 28,
      "outputs": [
        {
          "output_type": "stream",
          "text": [
            "mu: 0.9905681584456798 variance: 0.002694201045815054\n"
          ],
          "name": "stdout"
        }
      ]
    },
    {
      "cell_type": "code",
      "metadata": {
        "colab": {
          "base_uri": "https://localhost:8080/"
        },
        "id": "p_BFkr8Xwl4i",
        "outputId": "99b81957-4521-4670-8efe-d2c5d063d9a9"
      },
      "source": [
        "mu_Incor = statistics.mean(probEff_Incor)\n",
        "variance_Incor = statistics.variance(probEff_Incor)\n",
        "print('mu:',mu_Incor,'variance:',variance_Incor )"
      ],
      "execution_count": 29,
      "outputs": [
        {
          "output_type": "stream",
          "text": [
            "mu: 0.9175889205288242 variance: 0.020528722888937586\n"
          ],
          "name": "stdout"
        }
      ]
    },
    {
      "cell_type": "code",
      "metadata": {
        "colab": {
          "base_uri": "https://localhost:8080/",
          "height": 370
        },
        "id": "WuH2TFlXmY7h",
        "outputId": "34dff01c-a7b2-43fc-a9be-6ff3367dbc89"
      },
      "source": [
        "import matplotlib.pyplot as plt\n",
        "import numpy as np\n",
        "import scipy.stats as stats\n",
        "import math\n",
        "import statistics\n",
        "\n",
        "fig, ax = plt.subplots(figsize=(10, 5))\n",
        "\n",
        "font = {'family': 'serif',\n",
        "        'color':  'black',\n",
        "        'weight': 'normal'}\n",
        "plt.ylim(0.,8)\n",
        "plt.xlim(-0.3,1.6)  \n",
        "sigma = math.sqrt(variance_Cor)\n",
        "x = np.linspace(mu_Cor - 3*sigma, mu_Cor + 3*sigma, 100)\n",
        "plt.fill_between(x, stats.norm.pdf(x, mu_Cor, sigma), color='#148CF0', alpha=0.5)\n",
        "plt.plot(x, stats.norm.pdf(x, mu_Cor, sigma), color='#148CF0', label=\"Correct\")\n",
        "\n",
        "sigma = math.sqrt(variance_Incor)\n",
        "x = np.linspace(mu_Incor - 3*sigma, mu_Incor + 3*sigma, 100)\n",
        "plt.fill_between(x, stats.norm.pdf(x, mu_Incor, sigma), color='#F34D17', alpha=0.5)\n",
        "plt.plot(x, stats.norm.pdf(x, mu_Incor, sigma), color='#F34D17', label=\"Incorrect\")\n",
        "\n",
        "plt.title('EffNet model \\n Normal distirbution curve',fontsize=18, fontdict=font, pad=15)\n",
        "plt.legend();\n",
        "plt.show()\n"
      ],
      "execution_count": 30,
      "outputs": [
        {
          "output_type": "display_data",
          "data": {
            "image/png": "[encoded data removed]",
            "text/plain": [
              "<Figure size 720x360 with 1 Axes>"
            ]
          },
          "metadata": {
            "tags": [],
            "needs_background": "light"
          }
        }
      ]
    },
    {
      "cell_type": "code",
      "metadata": {
        "colab": {
          "base_uri": "https://localhost:8080/",
          "height": 457
        },
        "id": "cReNE7XQzn7n",
        "outputId": "7d1399af-6b5c-4115-bf29-c02602809ec1"
      },
      "source": [
        "import seaborn as sns\n",
        "\n",
        "fig, ax = plt.subplots(figsize=(10, 5))\n",
        "# plt.ylim(0.,8)\n",
        "plt.xlim(0,1)  \n",
        "# plt.subplots(figsize=(7,6), dpi=100)\n",
        "sns.distplot( probEff_Cor , color=\"dodgerblue\", label=\"Correct\")\n",
        "sns.distplot( probEff_Incor , color=\"orange\", label=\"Incorrect\")\n",
        "\n",
        "plt.title('EffNet model \\n Normal distirbution curve',fontsize=18, fontdict=font, pad=15)\n",
        "plt.legend();"
      ],
      "execution_count": 31,
      "outputs": [
        {
          "output_type": "stream",
          "text": [
            "/usr/local/lib/python3.7/dist-packages/seaborn/distributions.py:2557: FutureWarning: `distplot` is a deprecated function and will be removed in a future version. Please adapt your code to use either `displot` (a figure-level function with similar flexibility) or `histplot` (an axes-level function for histograms).\n",
            "  warnings.warn(msg, FutureWarning)\n",
            "/usr/local/lib/python3.7/dist-packages/seaborn/distributions.py:2557: FutureWarning: `distplot` is a deprecated function and will be removed in a future version. Please adapt your code to use either `displot` (a figure-level function with similar flexibility) or `histplot` (an axes-level function for histograms).\n",
            "  warnings.warn(msg, FutureWarning)\n"
          ],
          "name": "stderr"
        },
        {
          "output_type": "display_data",
          "data": {
            "image/png": "[encoded data removed]",
            "text/plain": [
              "<Figure size 720x360 with 1 Axes>"
            ]
          },
          "metadata": {
            "tags": [],
            "needs_background": "light"
          }
        }
      ]
    },
    {
      "cell_type": "code",
      "metadata": {
        "id": "dLWxCDwa8aPF"
      },
      "source": [
        ""
      ],
      "execution_count": null,
      "outputs": []
    },
    {
      "cell_type": "markdown",
      "metadata": {
        "id": "S6y0of---g7P"
      },
      "source": [
        "## RF"
      ]
    },
    {
      "cell_type": "code",
      "metadata": {
        "id": "tf6t3K7d-gcL"
      },
      "source": [
        "Effdf_Correct= RFdf[RFdf.Predict_15AB == 'Correct']\n",
        "Effdf_Incorrect= RFdf[RFdf.Predict_15AB != 'Correct']\n",
        "probEff_Cor = Effdf_Correct['15AB_Prob'].tolist()\n",
        "probEff_Incor = Effdf_Incorrect['15AB_Prob'].tolist()"
      ],
      "execution_count": 36,
      "outputs": []
    },
    {
      "cell_type": "code",
      "metadata": {
        "colab": {
          "base_uri": "https://localhost:8080/"
        },
        "id": "DB2NpfhY-lhB",
        "outputId": "ff7f9a35-0668-449d-8d95-9eb3ae0a4147"
      },
      "source": [
        "import statistics\n",
        "mu_Cor = statistics.mean(probEff_Cor)\n",
        "variance_Cor = statistics.variance(probEff_Cor)\n",
        "print('mu:',mu_Cor,'variance:',variance_Cor)\n",
        "\n",
        "mu_Incor = statistics.mean(probEff_Incor)\n",
        "variance_Incor = statistics.variance(probEff_Incor)\n",
        "print('mu:',mu_Incor,'variance:',variance_Incor )"
      ],
      "execution_count": 37,
      "outputs": [
        {
          "output_type": "stream",
          "text": [
            "mu: 0.8489977071091952 variance: 0.05404167530573648\n",
            "mu: 0.4640185552493452 variance: 0.05490351147595795\n"
          ],
          "name": "stdout"
        }
      ]
    },
    {
      "cell_type": "code",
      "metadata": {
        "colab": {
          "base_uri": "https://localhost:8080/",
          "height": 370
        },
        "id": "JDTeaXMm-ljw",
        "outputId": "b2b23c92-79ae-480c-bd0b-32df45d2fdc3"
      },
      "source": [
        "import matplotlib.pyplot as plt\n",
        "import numpy as np\n",
        "import scipy.stats as stats\n",
        "import math\n",
        "import statistics\n",
        "\n",
        "fig, ax = plt.subplots(figsize=(10, 5))\n",
        "\n",
        "font = {'family': 'serif',\n",
        "        'color':  'black',\n",
        "        'weight': 'normal'}\n",
        "plt.ylim(0.,8)\n",
        "plt.xlim(-0.3,1.6)  \n",
        "sigma = math.sqrt(variance_Cor)\n",
        "x = np.linspace(mu_Cor - 3*sigma, mu_Cor + 3*sigma, 100)\n",
        "plt.fill_between(x, stats.norm.pdf(x, mu_Cor, sigma), color='#148CF0', alpha=0.5)\n",
        "plt.plot(x, stats.norm.pdf(x, mu_Cor, sigma), color='#148CF0', label=\"Correct\")\n",
        "\n",
        "sigma = math.sqrt(variance_Incor)\n",
        "x = np.linspace(mu_Incor - 3*sigma, mu_Incor + 3*sigma, 100)\n",
        "plt.fill_between(x, stats.norm.pdf(x, mu_Incor, sigma), color='#F34D17', alpha=0.5)\n",
        "plt.plot(x, stats.norm.pdf(x, mu_Incor, sigma), color='#F34D17', label=\"Incorrect\")\n",
        "\n",
        "plt.title('EffNet+RF model \\n Normal distirbution curve',fontsize=18, fontdict=font, pad=15)\n",
        "plt.legend();\n",
        "plt.show()\n"
      ],
      "execution_count": 38,
      "outputs": [
        {
          "output_type": "display_data",
          "data": {
            "image/png": "[encoded data removed]",
            "text/plain": [
              "<Figure size 720x360 with 1 Axes>"
            ]
          },
          "metadata": {
            "tags": [],
            "needs_background": "light"
          }
        }
      ]
    },
    {
      "cell_type": "code",
      "metadata": {
        "colab": {
          "base_uri": "https://localhost:8080/",
          "height": 457
        },
        "id": "U3RPEjPB-lml",
        "outputId": "5b6614ac-7620-46f0-9246-b89e570f6149"
      },
      "source": [
        "import seaborn as sns\n",
        "\n",
        "fig, ax = plt.subplots(figsize=(10, 5))\n",
        "plt.xlim(0,1)  \n",
        "# plt.subplots(figsize=(7,6), dpi=100)\n",
        "sns.distplot( probEff_Cor , color=\"dodgerblue\", label=\"Correct\")\n",
        "sns.distplot( probEff_Incor , color=\"orange\", label=\"Incorrect\")\n",
        "\n",
        "plt.title('EffNet+Rf model \\n Normal distirbution curve',fontsize=18, fontdict=font, pad=15)\n",
        "plt.legend();"
      ],
      "execution_count": 39,
      "outputs": [
        {
          "output_type": "stream",
          "text": [
            "/usr/local/lib/python3.7/dist-packages/seaborn/distributions.py:2557: FutureWarning: `distplot` is a deprecated function and will be removed in a future version. Please adapt your code to use either `displot` (a figure-level function with similar flexibility) or `histplot` (an axes-level function for histograms).\n",
            "  warnings.warn(msg, FutureWarning)\n",
            "/usr/local/lib/python3.7/dist-packages/seaborn/distributions.py:2557: FutureWarning: `distplot` is a deprecated function and will be removed in a future version. Please adapt your code to use either `displot` (a figure-level function with similar flexibility) or `histplot` (an axes-level function for histograms).\n",
            "  warnings.warn(msg, FutureWarning)\n"
          ],
          "name": "stderr"
        },
        {
          "output_type": "display_data",
          "data": {
            "image/png": "[encoded data removed]",
            "text/plain": [
              "<Figure size 720x360 with 1 Axes>"
            ]
          },
          "metadata": {
            "tags": [],
            "needs_background": "light"
          }
        }
      ]
    },
    {
      "cell_type": "markdown",
      "metadata": {
        "id": "fA3tCBhxzUTo"
      },
      "source": [
        "#Violin plot"
      ]
    },
    {
      "cell_type": "code",
      "metadata": {
        "id": "xZRt1SAg-lpS"
      },
      "source": [
        "import matplotlib.pyplot as plt\n",
        "import numpy as np\n",
        "from pylab import plot, show, title, xlabel, ylabel\n",
        "from pylab import legend\n",
        "from pylab import axis"
      ],
      "execution_count": 18,
      "outputs": []
    },
    {
      "cell_type": "code",
      "metadata": {
        "colab": {
          "base_uri": "https://localhost:8080/"
        },
        "id": "q-GWkhG7-lrp",
        "outputId": "19df2189-3d15-4477-eb25-fe5770c990b8"
      },
      "source": [
        "from google.colab import drive\n",
        "drive.mount('/content/drive')"
      ],
      "execution_count": 19,
      "outputs": [
        {
          "output_type": "stream",
          "text": [
            "Drive already mounted at /content/drive; to attempt to forcibly remount, call drive.mount(\"/content/drive\", force_remount=True).\n"
          ],
          "name": "stdout"
        }
      ]
    },
    {
      "cell_type": "code",
      "metadata": {
        "colab": {
          "base_uri": "https://localhost:8080/"
        },
        "id": "97z8nYnh-lua",
        "outputId": "2ec6dcad-a6b7-484a-f895-72cbd4490252"
      },
      "source": [
        "import os\n",
        "os.chdir( '/content/drive/MyDrive/CCA_Project')\n",
        "!pwd"
      ],
      "execution_count": 20,
      "outputs": [
        {
          "output_type": "stream",
          "text": [
            "/content/drive/MyDrive/CCA_Project\n"
          ],
          "name": "stdout"
        }
      ]
    },
    {
      "cell_type": "code",
      "metadata": {
        "colab": {
          "base_uri": "https://localhost:8080/",
          "height": 280
        },
        "id": "1B0SULmHzb6o",
        "outputId": "e0d36d0c-c06b-4e71-b7a6-f15ea613e104"
      },
      "source": [
        "import pandas as pd\n",
        "RFdf = pd.read_csv( '/content/drive/MyDrive/CCA_Project/result_csv/Testdf_15ABrf.csv')\n",
        "RFdf.head(3)"
      ],
      "execution_count": 6,
      "outputs": [
        {
          "output_type": "execute_result",
          "data": {
            "text/html": [
              "<div>\n",
              "<style scoped>\n",
              "    .dataframe tbody tr th:only-of-type {\n",
              "        vertical-align: middle;\n",
              "    }\n",
              "\n",
              "    .dataframe tbody tr th {\n",
              "        vertical-align: top;\n",
              "    }\n",
              "\n",
              "    .dataframe thead th {\n",
              "        text-align: right;\n",
              "    }\n",
              "</style>\n",
              "<table border=\"1\" class=\"dataframe\">\n",
              "  <thead>\n",
              "    <tr style=\"text-align: right;\">\n",
              "      <th></th>\n",
              "      <th>Unnamed: 0</th>\n",
              "      <th>Case</th>\n",
              "      <th>Abs Position</th>\n",
              "      <th>Sub Position</th>\n",
              "      <th>Class</th>\n",
              "      <th>Sub_class</th>\n",
              "      <th>Path Full</th>\n",
              "      <th>Path Crop</th>\n",
              "      <th>Views</th>\n",
              "      <th>fold</th>\n",
              "      <th>tagName</th>\n",
              "      <th>originalImage</th>\n",
              "      <th>left</th>\n",
              "      <th>top</th>\n",
              "      <th>width</th>\n",
              "      <th>height</th>\n",
              "      <th>Rleft</th>\n",
              "      <th>Rtop</th>\n",
              "      <th>Rwidth</th>\n",
              "      <th>Rheight</th>\n",
              "      <th>filename</th>\n",
              "      <th>15AB_category</th>\n",
              "      <th>15AB_Prob</th>\n",
              "      <th>15AB_ProbAll</th>\n",
              "      <th>Predict_15AB</th>\n",
              "    </tr>\n",
              "  </thead>\n",
              "  <tbody>\n",
              "    <tr>\n",
              "      <th>0</th>\n",
              "      <td>0</td>\n",
              "      <td>40</td>\n",
              "      <td>P1</td>\n",
              "      <td>P1</td>\n",
              "      <td>Abnormal</td>\n",
              "      <td>AB01</td>\n",
              "      <td>/media/tohn/HDD/VISION_dataset/USAI/ABnormal01...</td>\n",
              "      <td>/media/tohn/HDD/VISION_dataset/USAI/ABnormal01...</td>\n",
              "      <td>FP-A</td>\n",
              "      <td>2</td>\n",
              "      <td>MildFattyLiver</td>\n",
              "      <td>https://irisprodseatraining.blob.core.windows....</td>\n",
              "      <td>86.0</td>\n",
              "      <td>133.0</td>\n",
              "      <td>477.0</td>\n",
              "      <td>311.0</td>\n",
              "      <td>0.092664</td>\n",
              "      <td>0.148873</td>\n",
              "      <td>0.513514</td>\n",
              "      <td>0.346614</td>\n",
              "      <td>AB01 P1 C040.JPG</td>\n",
              "      <td>Normal</td>\n",
              "      <td>0.413035</td>\n",
              "      <td>[0.21054949660106018, 0.15272910155885105, 0.0...</td>\n",
              "      <td>Incorrect</td>\n",
              "    </tr>\n",
              "    <tr>\n",
              "      <th>1</th>\n",
              "      <td>1</td>\n",
              "      <td>40</td>\n",
              "      <td>P2</td>\n",
              "      <td>P2</td>\n",
              "      <td>Abnormal</td>\n",
              "      <td>AB01</td>\n",
              "      <td>/media/tohn/HDD/VISION_dataset/USAI/ABnormal01...</td>\n",
              "      <td>/media/tohn/HDD/VISION_dataset/USAI/ABnormal01...</td>\n",
              "      <td>FP-A</td>\n",
              "      <td>2</td>\n",
              "      <td>MildFattyLiver</td>\n",
              "      <td>https://irisprodseatraining.blob.core.windows....</td>\n",
              "      <td>163.0</td>\n",
              "      <td>139.0</td>\n",
              "      <td>532.0</td>\n",
              "      <td>385.0</td>\n",
              "      <td>0.171698</td>\n",
              "      <td>0.154849</td>\n",
              "      <td>0.560377</td>\n",
              "      <td>0.428287</td>\n",
              "      <td>AB01 P2 C040.JPG</td>\n",
              "      <td>AB01</td>\n",
              "      <td>0.741650</td>\n",
              "      <td>[0.741650235419515, 0.07765986354655634, 0.003...</td>\n",
              "      <td>Correct</td>\n",
              "    </tr>\n",
              "    <tr>\n",
              "      <th>2</th>\n",
              "      <td>2</td>\n",
              "      <td>40</td>\n",
              "      <td>P4</td>\n",
              "      <td>P41</td>\n",
              "      <td>Abnormal</td>\n",
              "      <td>AB01</td>\n",
              "      <td>/media/tohn/HDD/VISION_dataset/USAI/ABnormal01...</td>\n",
              "      <td>/media/tohn/HDD/VISION_dataset/USAI/ABnormal01...</td>\n",
              "      <td>FP-B</td>\n",
              "      <td>2</td>\n",
              "      <td>MildFattyLiver</td>\n",
              "      <td>https://irisprodseatraining.blob.core.windows....</td>\n",
              "      <td>127.0</td>\n",
              "      <td>135.0</td>\n",
              "      <td>605.0</td>\n",
              "      <td>640.0</td>\n",
              "      <td>0.140316</td>\n",
              "      <td>0.150865</td>\n",
              "      <td>0.667984</td>\n",
              "      <td>0.711155</td>\n",
              "      <td>AB01 P4-1 C040.JPG</td>\n",
              "      <td>AB02</td>\n",
              "      <td>0.432403</td>\n",
              "      <td>[0.34931351731971466, 0.43240273685662617, 0.0...</td>\n",
              "      <td>Incorrect</td>\n",
              "    </tr>\n",
              "  </tbody>\n",
              "</table>\n",
              "</div>"
            ],
            "text/plain": [
              "   Unnamed: 0  ...  Predict_15AB\n",
              "0           0  ...     Incorrect\n",
              "1           1  ...       Correct\n",
              "2           2  ...     Incorrect\n",
              "\n",
              "[3 rows x 25 columns]"
            ]
          },
          "metadata": {
            "tags": []
          },
          "execution_count": 6
        }
      ]
    },
    {
      "cell_type": "code",
      "metadata": {
        "colab": {
          "base_uri": "https://localhost:8080/",
          "height": 280
        },
        "id": "GUd93-sK22bO",
        "outputId": "66f31158-1ac8-47e8-c0ff-4e63537968af"
      },
      "source": [
        "Effdf = pd.read_csv( '/content/drive/MyDrive/CCA_Project/result_csv/Testdf_result.csv')\n",
        "Effdf.head(3)"
      ],
      "execution_count": 44,
      "outputs": [
        {
          "output_type": "execute_result",
          "data": {
            "text/html": [
              "<div>\n",
              "<style scoped>\n",
              "    .dataframe tbody tr th:only-of-type {\n",
              "        vertical-align: middle;\n",
              "    }\n",
              "\n",
              "    .dataframe tbody tr th {\n",
              "        vertical-align: top;\n",
              "    }\n",
              "\n",
              "    .dataframe thead th {\n",
              "        text-align: right;\n",
              "    }\n",
              "</style>\n",
              "<table border=\"1\" class=\"dataframe\">\n",
              "  <thead>\n",
              "    <tr style=\"text-align: right;\">\n",
              "      <th></th>\n",
              "      <th>Unnamed: 0</th>\n",
              "      <th>Case</th>\n",
              "      <th>Abs Position</th>\n",
              "      <th>Sub Position</th>\n",
              "      <th>Class</th>\n",
              "      <th>Sub_class</th>\n",
              "      <th>Path Full</th>\n",
              "      <th>Path Crop</th>\n",
              "      <th>Views</th>\n",
              "      <th>fold</th>\n",
              "      <th>tagName</th>\n",
              "      <th>originalImage</th>\n",
              "      <th>left</th>\n",
              "      <th>top</th>\n",
              "      <th>width</th>\n",
              "      <th>height</th>\n",
              "      <th>Rleft</th>\n",
              "      <th>Rtop</th>\n",
              "      <th>Rwidth</th>\n",
              "      <th>Rheight</th>\n",
              "      <th>filename</th>\n",
              "      <th>category</th>\n",
              "      <th>Prob</th>\n",
              "      <th>Predict_AN</th>\n",
              "      <th>Predict_15AB</th>\n",
              "      <th>FP_category</th>\n",
              "      <th>FP_Prob</th>\n",
              "      <th>FP_ProbAll</th>\n",
              "      <th>Predict_5FP</th>\n",
              "    </tr>\n",
              "  </thead>\n",
              "  <tbody>\n",
              "    <tr>\n",
              "      <th>0</th>\n",
              "      <td>0</td>\n",
              "      <td>40</td>\n",
              "      <td>P1</td>\n",
              "      <td>P1</td>\n",
              "      <td>Abnormal</td>\n",
              "      <td>AB01</td>\n",
              "      <td>/media/tohn/HDD/VISION_dataset/USAI/ABnormal01...</td>\n",
              "      <td>/media/tohn/HDD/VISION_dataset/USAI/ABnormal01...</td>\n",
              "      <td>FP-A</td>\n",
              "      <td>2</td>\n",
              "      <td>MildFattyLiver</td>\n",
              "      <td>https://irisprodseatraining.blob.core.windows....</td>\n",
              "      <td>86.0</td>\n",
              "      <td>133.0</td>\n",
              "      <td>477.0</td>\n",
              "      <td>311.0</td>\n",
              "      <td>0.092664</td>\n",
              "      <td>0.148873</td>\n",
              "      <td>0.513514</td>\n",
              "      <td>0.346614</td>\n",
              "      <td>AB01 P1 C040.JPG</td>\n",
              "      <td>Normal</td>\n",
              "      <td>0.958334</td>\n",
              "      <td>Incorrect</td>\n",
              "      <td>Incorrect</td>\n",
              "      <td>FP-B</td>\n",
              "      <td>0.475344</td>\n",
              "      <td>[0.22316645916382064, 0.47534361094783256, 0.1...</td>\n",
              "      <td>Incorrect</td>\n",
              "    </tr>\n",
              "    <tr>\n",
              "      <th>1</th>\n",
              "      <td>1</td>\n",
              "      <td>40</td>\n",
              "      <td>P2</td>\n",
              "      <td>P2</td>\n",
              "      <td>Abnormal</td>\n",
              "      <td>AB01</td>\n",
              "      <td>/media/tohn/HDD/VISION_dataset/USAI/ABnormal01...</td>\n",
              "      <td>/media/tohn/HDD/VISION_dataset/USAI/ABnormal01...</td>\n",
              "      <td>FP-A</td>\n",
              "      <td>2</td>\n",
              "      <td>MildFattyLiver</td>\n",
              "      <td>https://irisprodseatraining.blob.core.windows....</td>\n",
              "      <td>163.0</td>\n",
              "      <td>139.0</td>\n",
              "      <td>532.0</td>\n",
              "      <td>385.0</td>\n",
              "      <td>0.171698</td>\n",
              "      <td>0.154849</td>\n",
              "      <td>0.560377</td>\n",
              "      <td>0.428287</td>\n",
              "      <td>AB01 P2 C040.JPG</td>\n",
              "      <td>AB01</td>\n",
              "      <td>0.999923</td>\n",
              "      <td>Correct</td>\n",
              "      <td>Correct</td>\n",
              "      <td>FP-B</td>\n",
              "      <td>0.421248</td>\n",
              "      <td>[0.37420833333333337, 0.42124777662277657, 0.1...</td>\n",
              "      <td>Incorrect</td>\n",
              "    </tr>\n",
              "    <tr>\n",
              "      <th>2</th>\n",
              "      <td>2</td>\n",
              "      <td>40</td>\n",
              "      <td>P4</td>\n",
              "      <td>P41</td>\n",
              "      <td>Abnormal</td>\n",
              "      <td>AB01</td>\n",
              "      <td>/media/tohn/HDD/VISION_dataset/USAI/ABnormal01...</td>\n",
              "      <td>/media/tohn/HDD/VISION_dataset/USAI/ABnormal01...</td>\n",
              "      <td>FP-B</td>\n",
              "      <td>2</td>\n",
              "      <td>MildFattyLiver</td>\n",
              "      <td>https://irisprodseatraining.blob.core.windows....</td>\n",
              "      <td>127.0</td>\n",
              "      <td>135.0</td>\n",
              "      <td>605.0</td>\n",
              "      <td>640.0</td>\n",
              "      <td>0.140316</td>\n",
              "      <td>0.150865</td>\n",
              "      <td>0.667984</td>\n",
              "      <td>0.711155</td>\n",
              "      <td>AB01 P4-1 C040.JPG</td>\n",
              "      <td>AB02</td>\n",
              "      <td>0.932391</td>\n",
              "      <td>Correct</td>\n",
              "      <td>Incorrect</td>\n",
              "      <td>FP-B</td>\n",
              "      <td>0.539706</td>\n",
              "      <td>[0.26481242746053524, 0.5397056655678111, 0.16...</td>\n",
              "      <td>Correct</td>\n",
              "    </tr>\n",
              "  </tbody>\n",
              "</table>\n",
              "</div>"
            ],
            "text/plain": [
              "   Unnamed: 0  ...  Predict_5FP\n",
              "0           0  ...    Incorrect\n",
              "1           1  ...    Incorrect\n",
              "2           2  ...      Correct\n",
              "\n",
              "[3 rows x 29 columns]"
            ]
          },
          "metadata": {
            "tags": []
          },
          "execution_count": 44
        }
      ]
    },
    {
      "cell_type": "code",
      "metadata": {
        "colab": {
          "base_uri": "https://localhost:8080/",
          "height": 418
        },
        "id": "UmRTRgrC3IWN",
        "outputId": "fa16effa-3f34-4592-e49a-43e6574a82e5"
      },
      "source": [
        "EffNet = Effdf[['Prob','Predict_15AB']]\n",
        "EffNet = EffNet.rename(columns={\"Prob\": \"15AB_Prob\"})\n",
        "EffNet['networks']='EffNet'\n",
        "EffNet"
      ],
      "execution_count": 52,
      "outputs": [
        {
          "output_type": "execute_result",
          "data": {
            "text/html": [
              "<div>\n",
              "<style scoped>\n",
              "    .dataframe tbody tr th:only-of-type {\n",
              "        vertical-align: middle;\n",
              "    }\n",
              "\n",
              "    .dataframe tbody tr th {\n",
              "        vertical-align: top;\n",
              "    }\n",
              "\n",
              "    .dataframe thead th {\n",
              "        text-align: right;\n",
              "    }\n",
              "</style>\n",
              "<table border=\"1\" class=\"dataframe\">\n",
              "  <thead>\n",
              "    <tr style=\"text-align: right;\">\n",
              "      <th></th>\n",
              "      <th>15AB_Prob</th>\n",
              "      <th>Predict_15AB</th>\n",
              "      <th>networks</th>\n",
              "    </tr>\n",
              "  </thead>\n",
              "  <tbody>\n",
              "    <tr>\n",
              "      <th>0</th>\n",
              "      <td>0.958334</td>\n",
              "      <td>Incorrect</td>\n",
              "      <td>EffNet</td>\n",
              "    </tr>\n",
              "    <tr>\n",
              "      <th>1</th>\n",
              "      <td>0.999923</td>\n",
              "      <td>Correct</td>\n",
              "      <td>EffNet</td>\n",
              "    </tr>\n",
              "    <tr>\n",
              "      <th>2</th>\n",
              "      <td>0.932391</td>\n",
              "      <td>Incorrect</td>\n",
              "      <td>EffNet</td>\n",
              "    </tr>\n",
              "    <tr>\n",
              "      <th>3</th>\n",
              "      <td>0.758282</td>\n",
              "      <td>Correct</td>\n",
              "      <td>EffNet</td>\n",
              "    </tr>\n",
              "    <tr>\n",
              "      <th>4</th>\n",
              "      <td>0.995624</td>\n",
              "      <td>Incorrect</td>\n",
              "      <td>EffNet</td>\n",
              "    </tr>\n",
              "    <tr>\n",
              "      <th>...</th>\n",
              "      <td>...</td>\n",
              "      <td>...</td>\n",
              "      <td>...</td>\n",
              "    </tr>\n",
              "    <tr>\n",
              "      <th>1307</th>\n",
              "      <td>1.000000</td>\n",
              "      <td>Correct</td>\n",
              "      <td>EffNet</td>\n",
              "    </tr>\n",
              "    <tr>\n",
              "      <th>1308</th>\n",
              "      <td>0.999998</td>\n",
              "      <td>Correct</td>\n",
              "      <td>EffNet</td>\n",
              "    </tr>\n",
              "    <tr>\n",
              "      <th>1309</th>\n",
              "      <td>1.000000</td>\n",
              "      <td>Correct</td>\n",
              "      <td>EffNet</td>\n",
              "    </tr>\n",
              "    <tr>\n",
              "      <th>1310</th>\n",
              "      <td>1.000000</td>\n",
              "      <td>Correct</td>\n",
              "      <td>EffNet</td>\n",
              "    </tr>\n",
              "    <tr>\n",
              "      <th>1311</th>\n",
              "      <td>1.000000</td>\n",
              "      <td>Correct</td>\n",
              "      <td>EffNet</td>\n",
              "    </tr>\n",
              "  </tbody>\n",
              "</table>\n",
              "<p>1312 rows × 3 columns</p>\n",
              "</div>"
            ],
            "text/plain": [
              "      15AB_Prob Predict_15AB networks\n",
              "0      0.958334    Incorrect   EffNet\n",
              "1      0.999923      Correct   EffNet\n",
              "2      0.932391    Incorrect   EffNet\n",
              "3      0.758282      Correct   EffNet\n",
              "4      0.995624    Incorrect   EffNet\n",
              "...         ...          ...      ...\n",
              "1307   1.000000      Correct   EffNet\n",
              "1308   0.999998      Correct   EffNet\n",
              "1309   1.000000      Correct   EffNet\n",
              "1310   1.000000      Correct   EffNet\n",
              "1311   1.000000      Correct   EffNet\n",
              "\n",
              "[1312 rows x 3 columns]"
            ]
          },
          "metadata": {
            "tags": []
          },
          "execution_count": 52
        }
      ]
    },
    {
      "cell_type": "code",
      "metadata": {
        "colab": {
          "base_uri": "https://localhost:8080/",
          "height": 519
        },
        "id": "egcj8lYX2kxT",
        "outputId": "6aae4395-40ca-47e4-c99a-571319b2a4fe"
      },
      "source": [
        "RF = RFdf[['15AB_Prob','Predict_15AB']]\n",
        "RF['networks']='EffNet+RF'\n",
        "RF"
      ],
      "execution_count": 53,
      "outputs": [
        {
          "output_type": "stream",
          "text": [
            "/usr/local/lib/python3.7/dist-packages/ipykernel_launcher.py:2: SettingWithCopyWarning: \n",
            "A value is trying to be set on a copy of a slice from a DataFrame.\n",
            "Try using .loc[row_indexer,col_indexer] = value instead\n",
            "\n",
            "See the caveats in the documentation: https://pandas.pydata.org/pandas-docs/stable/user_guide/indexing.html#returning-a-view-versus-a-copy\n",
            "  \n"
          ],
          "name": "stderr"
        },
        {
          "output_type": "execute_result",
          "data": {
            "text/html": [
              "<div>\n",
              "<style scoped>\n",
              "    .dataframe tbody tr th:only-of-type {\n",
              "        vertical-align: middle;\n",
              "    }\n",
              "\n",
              "    .dataframe tbody tr th {\n",
              "        vertical-align: top;\n",
              "    }\n",
              "\n",
              "    .dataframe thead th {\n",
              "        text-align: right;\n",
              "    }\n",
              "</style>\n",
              "<table border=\"1\" class=\"dataframe\">\n",
              "  <thead>\n",
              "    <tr style=\"text-align: right;\">\n",
              "      <th></th>\n",
              "      <th>15AB_Prob</th>\n",
              "      <th>Predict_15AB</th>\n",
              "      <th>networks</th>\n",
              "    </tr>\n",
              "  </thead>\n",
              "  <tbody>\n",
              "    <tr>\n",
              "      <th>0</th>\n",
              "      <td>0.413035</td>\n",
              "      <td>Incorrect</td>\n",
              "      <td>EffNet+RF</td>\n",
              "    </tr>\n",
              "    <tr>\n",
              "      <th>1</th>\n",
              "      <td>0.741650</td>\n",
              "      <td>Correct</td>\n",
              "      <td>EffNet+RF</td>\n",
              "    </tr>\n",
              "    <tr>\n",
              "      <th>2</th>\n",
              "      <td>0.432403</td>\n",
              "      <td>Incorrect</td>\n",
              "      <td>EffNet+RF</td>\n",
              "    </tr>\n",
              "    <tr>\n",
              "      <th>3</th>\n",
              "      <td>0.345768</td>\n",
              "      <td>Correct</td>\n",
              "      <td>EffNet+RF</td>\n",
              "    </tr>\n",
              "    <tr>\n",
              "      <th>4</th>\n",
              "      <td>0.540886</td>\n",
              "      <td>Incorrect</td>\n",
              "      <td>EffNet+RF</td>\n",
              "    </tr>\n",
              "    <tr>\n",
              "      <th>...</th>\n",
              "      <td>...</td>\n",
              "      <td>...</td>\n",
              "      <td>...</td>\n",
              "    </tr>\n",
              "    <tr>\n",
              "      <th>1307</th>\n",
              "      <td>1.000000</td>\n",
              "      <td>Correct</td>\n",
              "      <td>EffNet+RF</td>\n",
              "    </tr>\n",
              "    <tr>\n",
              "      <th>1308</th>\n",
              "      <td>0.515819</td>\n",
              "      <td>Correct</td>\n",
              "      <td>EffNet+RF</td>\n",
              "    </tr>\n",
              "    <tr>\n",
              "      <th>1309</th>\n",
              "      <td>0.995000</td>\n",
              "      <td>Correct</td>\n",
              "      <td>EffNet+RF</td>\n",
              "    </tr>\n",
              "    <tr>\n",
              "      <th>1310</th>\n",
              "      <td>0.906968</td>\n",
              "      <td>Correct</td>\n",
              "      <td>EffNet+RF</td>\n",
              "    </tr>\n",
              "    <tr>\n",
              "      <th>1311</th>\n",
              "      <td>0.987972</td>\n",
              "      <td>Correct</td>\n",
              "      <td>EffNet+RF</td>\n",
              "    </tr>\n",
              "  </tbody>\n",
              "</table>\n",
              "<p>1312 rows × 3 columns</p>\n",
              "</div>"
            ],
            "text/plain": [
              "      15AB_Prob Predict_15AB   networks\n",
              "0      0.413035    Incorrect  EffNet+RF\n",
              "1      0.741650      Correct  EffNet+RF\n",
              "2      0.432403    Incorrect  EffNet+RF\n",
              "3      0.345768      Correct  EffNet+RF\n",
              "4      0.540886    Incorrect  EffNet+RF\n",
              "...         ...          ...        ...\n",
              "1307   1.000000      Correct  EffNet+RF\n",
              "1308   0.515819      Correct  EffNet+RF\n",
              "1309   0.995000      Correct  EffNet+RF\n",
              "1310   0.906968      Correct  EffNet+RF\n",
              "1311   0.987972      Correct  EffNet+RF\n",
              "\n",
              "[1312 rows x 3 columns]"
            ]
          },
          "metadata": {
            "tags": []
          },
          "execution_count": 53
        }
      ]
    },
    {
      "cell_type": "code",
      "metadata": {
        "colab": {
          "base_uri": "https://localhost:8080/",
          "height": 418
        },
        "id": "Ej758ffP3hg9",
        "outputId": "27b17406-7786-4526-ac31-258619929b40"
      },
      "source": [
        "df = pd.concat([EffNet, RF]).reset_index()\n",
        "df"
      ],
      "execution_count": 55,
      "outputs": [
        {
          "output_type": "execute_result",
          "data": {
            "text/html": [
              "<div>\n",
              "<style scoped>\n",
              "    .dataframe tbody tr th:only-of-type {\n",
              "        vertical-align: middle;\n",
              "    }\n",
              "\n",
              "    .dataframe tbody tr th {\n",
              "        vertical-align: top;\n",
              "    }\n",
              "\n",
              "    .dataframe thead th {\n",
              "        text-align: right;\n",
              "    }\n",
              "</style>\n",
              "<table border=\"1\" class=\"dataframe\">\n",
              "  <thead>\n",
              "    <tr style=\"text-align: right;\">\n",
              "      <th></th>\n",
              "      <th>index</th>\n",
              "      <th>15AB_Prob</th>\n",
              "      <th>Predict_15AB</th>\n",
              "      <th>networks</th>\n",
              "    </tr>\n",
              "  </thead>\n",
              "  <tbody>\n",
              "    <tr>\n",
              "      <th>0</th>\n",
              "      <td>0</td>\n",
              "      <td>0.958334</td>\n",
              "      <td>Incorrect</td>\n",
              "      <td>EffNet</td>\n",
              "    </tr>\n",
              "    <tr>\n",
              "      <th>1</th>\n",
              "      <td>1</td>\n",
              "      <td>0.999923</td>\n",
              "      <td>Correct</td>\n",
              "      <td>EffNet</td>\n",
              "    </tr>\n",
              "    <tr>\n",
              "      <th>2</th>\n",
              "      <td>2</td>\n",
              "      <td>0.932391</td>\n",
              "      <td>Incorrect</td>\n",
              "      <td>EffNet</td>\n",
              "    </tr>\n",
              "    <tr>\n",
              "      <th>3</th>\n",
              "      <td>3</td>\n",
              "      <td>0.758282</td>\n",
              "      <td>Correct</td>\n",
              "      <td>EffNet</td>\n",
              "    </tr>\n",
              "    <tr>\n",
              "      <th>4</th>\n",
              "      <td>4</td>\n",
              "      <td>0.995624</td>\n",
              "      <td>Incorrect</td>\n",
              "      <td>EffNet</td>\n",
              "    </tr>\n",
              "    <tr>\n",
              "      <th>...</th>\n",
              "      <td>...</td>\n",
              "      <td>...</td>\n",
              "      <td>...</td>\n",
              "      <td>...</td>\n",
              "    </tr>\n",
              "    <tr>\n",
              "      <th>2619</th>\n",
              "      <td>1307</td>\n",
              "      <td>1.000000</td>\n",
              "      <td>Correct</td>\n",
              "      <td>EffNet+RF</td>\n",
              "    </tr>\n",
              "    <tr>\n",
              "      <th>2620</th>\n",
              "      <td>1308</td>\n",
              "      <td>0.515819</td>\n",
              "      <td>Correct</td>\n",
              "      <td>EffNet+RF</td>\n",
              "    </tr>\n",
              "    <tr>\n",
              "      <th>2621</th>\n",
              "      <td>1309</td>\n",
              "      <td>0.995000</td>\n",
              "      <td>Correct</td>\n",
              "      <td>EffNet+RF</td>\n",
              "    </tr>\n",
              "    <tr>\n",
              "      <th>2622</th>\n",
              "      <td>1310</td>\n",
              "      <td>0.906968</td>\n",
              "      <td>Correct</td>\n",
              "      <td>EffNet+RF</td>\n",
              "    </tr>\n",
              "    <tr>\n",
              "      <th>2623</th>\n",
              "      <td>1311</td>\n",
              "      <td>0.987972</td>\n",
              "      <td>Correct</td>\n",
              "      <td>EffNet+RF</td>\n",
              "    </tr>\n",
              "  </tbody>\n",
              "</table>\n",
              "<p>2624 rows × 4 columns</p>\n",
              "</div>"
            ],
            "text/plain": [
              "      index  15AB_Prob Predict_15AB   networks\n",
              "0         0   0.958334    Incorrect     EffNet\n",
              "1         1   0.999923      Correct     EffNet\n",
              "2         2   0.932391    Incorrect     EffNet\n",
              "3         3   0.758282      Correct     EffNet\n",
              "4         4   0.995624    Incorrect     EffNet\n",
              "...     ...        ...          ...        ...\n",
              "2619   1307   1.000000      Correct  EffNet+RF\n",
              "2620   1308   0.515819      Correct  EffNet+RF\n",
              "2621   1309   0.995000      Correct  EffNet+RF\n",
              "2622   1310   0.906968      Correct  EffNet+RF\n",
              "2623   1311   0.987972      Correct  EffNet+RF\n",
              "\n",
              "[2624 rows x 4 columns]"
            ]
          },
          "metadata": {
            "tags": []
          },
          "execution_count": 55
        }
      ]
    },
    {
      "cell_type": "code",
      "metadata": {
        "colab": {
          "base_uri": "https://localhost:8080/",
          "height": 738
        },
        "id": "gkauI_E05HWd",
        "outputId": "eda172c8-eb72-4cf3-b294-cd3af2a48bd1"
      },
      "source": [
        "font = {'family': 'serif',\n",
        "        'color':  'black',\n",
        "        'weight': 'normal'}\n",
        "colors_list = ['#148CF0', '#F34D17']\n",
        "fig, ax = plt.subplots(figsize=(7,7), dpi=100)\n",
        "plt.ylim(-0.1,1.2)  \n",
        "ax = sns.violinplot(x=\"Predict_15AB\", y=\"15AB_Prob\", data=RFdf, palette=colors_list,\n",
        "                    order=[\"Correct\", \"Incorrect\"])\n",
        "\n",
        "labels = [\"Correct\", \"Incorrect\"]\n",
        "ax.set_xticklabels(labels,fontsize=12, fontdict=font)\n",
        "ax.set_title(\"Prediction Confidence \\n of Correct/Incorrect Predictions (Effnet+RF)\",fontsize=18, fontdict=font, pad=30)\n",
        "ax.set_ylabel(\"Probability score\",fontsize=16, fontdict=font,  labelpad=15)\n",
        "ax.set_xlabel(\"Prediction\",fontsize=16, fontdict=font,  labelpad=15)\n",
        "# plt.grid(True)\n"
      ],
      "execution_count": 136,
      "outputs": [
        {
          "output_type": "execute_result",
          "data": {
            "text/plain": [
              "Text(0.5, 0, 'Prediction')"
            ]
          },
          "metadata": {
            "tags": []
          },
          "execution_count": 136
        },
        {
          "output_type": "display_data",
          "data": {
            "image/png": "[encoded data removed]",
            "text/plain": [
              "<Figure size 700x700 with 1 Axes>"
            ]
          },
          "metadata": {
            "tags": [],
            "needs_background": "light"
          }
        }
      ]
    },
    {
      "cell_type": "code",
      "metadata": {
        "colab": {
          "base_uri": "https://localhost:8080/",
          "height": 717
        },
        "id": "wuHfXH2Z8ccx",
        "outputId": "ae92a843-9425-4832-bf05-033817b47a02"
      },
      "source": [
        "font = {'family': 'serif',\n",
        "        'color':  'black',\n",
        "        'weight': 'normal'}\n",
        "colors_list = ['#148CF0', '#F34D17']\n",
        "fig, ax = plt.subplots(figsize=(7,7), dpi=100)\n",
        "plt.ylim(-0.1,1.2)    \n",
        "ax = sns.violinplot(x=\"Predict_15AB\", y=\"Prob\", data=Effdf, palette=colors_list,\n",
        "                    order=[\"Correct\", \"Incorrect\"])\n",
        "\n",
        "labels = [\"Correct\", \"Incorrect\"]\n",
        "ax.set_xticklabels(labels,fontsize=12, fontdict=font)\n",
        "ax.set_title(\"Prediction Confidence \\n of Correct/Incorrect Predictions (Effnet)\",fontsize=18, fontdict=font, pad=15)\n",
        "ax.set_ylabel(\"Probability score\",fontsize=16, fontdict=font,  labelpad=15)\n",
        "ax.set_xlabel(\"Prediction\",fontsize=16, fontdict=font,  labelpad=15)\n",
        "# plt.grid(True)"
      ],
      "execution_count": 137,
      "outputs": [
        {
          "output_type": "execute_result",
          "data": {
            "text/plain": [
              "Text(0.5, 0, 'Prediction')"
            ]
          },
          "metadata": {
            "tags": []
          },
          "execution_count": 137
        },
        {
          "output_type": "display_data",
          "data": {
            "image/png": "[encoded data removed]",
            "text/plain": [
              "<Figure size 700x700 with 1 Axes>"
            ]
          },
          "metadata": {
            "tags": [],
            "needs_background": "light"
          }
        }
      ]
    },
    {
      "cell_type": "code",
      "metadata": {
        "id": "acQt92oczcAr"
      },
      "source": [
        "# # fig, ax = plt.subplots(figsize=(10, 5))\n",
        "# g = sns.catplot(x=\"Predict_15AB\", y=\"15AB_Prob\", col=\"networks\",\n",
        "#                 data=df, kind=\"violin\", split=True,\n",
        "#                 height=4, aspect=.7);"
      ],
      "execution_count": 1,
      "outputs": []
    },
    {
      "cell_type": "code",
      "metadata": {
        "id": "dfqBEXnrYH0v"
      },
      "source": [
        "# import seaborn as sns\n",
        "# df = sns.load_dataset('iris')\n",
        "\n",
        "# plt.subplots(figsize=(7,6), dpi=100)\n",
        "# sns.distplot( df.loc[df.species=='setosa', \"sepal_length\"] , color=\"dodgerblue\", label=\"Setosa\")\n",
        "# sns.distplot( df.loc[df.species=='virginica', \"sepal_length\"] , color=\"orange\", label=\"virginica\")\n",
        "# sns.distplot( df.loc[df.species=='versicolor', \"sepal_length\"] , color=\"deeppink\", label=\"versicolor\")\n",
        "\n",
        "# plt.title('Iris Histogram')\n",
        "# plt.legend();"
      ],
      "execution_count": 98,
      "outputs": []
    },
    {
      "cell_type": "markdown",
      "metadata": {
        "id": "gUimwcxnCa8v"
      },
      "source": [
        "# Confidence graph"
      ]
    },
    {
      "cell_type": "code",
      "metadata": {
        "id": "a9_nccNjDuwp"
      },
      "source": [
        "import matplotlib.pyplot as plt\n",
        "import numpy as np\n",
        "from pylab import plot, show, title, xlabel, ylabel\n",
        "from pylab import legend\n",
        "from pylab import axis"
      ],
      "execution_count": 9,
      "outputs": []
    },
    {
      "cell_type": "code",
      "metadata": {
        "colab": {
          "base_uri": "https://localhost:8080/"
        },
        "id": "wc4oaGpXCh6o",
        "outputId": "88d9e31d-8771-4e97-f903-54110922fb5f"
      },
      "source": [
        "from google.colab import drive\n",
        "drive.mount('/content/drive')"
      ],
      "execution_count": 2,
      "outputs": [
        {
          "output_type": "stream",
          "text": [
            "Mounted at /content/drive\n"
          ],
          "name": "stdout"
        }
      ]
    },
    {
      "cell_type": "code",
      "metadata": {
        "colab": {
          "base_uri": "https://localhost:8080/",
          "height": 280
        },
        "id": "0iQTh1nhCm9B",
        "outputId": "70402d21-ca01-4db4-a7d8-1580db58989e"
      },
      "source": [
        "import pandas as pd\n",
        "df = pd.read_csv( '/content/drive/MyDrive/CCA_Project/result_csv/Experiment2_AI.csv')\n",
        "df.head(3)"
      ],
      "execution_count": 3,
      "outputs": [
        {
          "output_type": "execute_result",
          "data": {
            "text/html": [
              "<div>\n",
              "<style scoped>\n",
              "    .dataframe tbody tr th:only-of-type {\n",
              "        vertical-align: middle;\n",
              "    }\n",
              "\n",
              "    .dataframe tbody tr th {\n",
              "        vertical-align: top;\n",
              "    }\n",
              "\n",
              "    .dataframe thead th {\n",
              "        text-align: right;\n",
              "    }\n",
              "</style>\n",
              "<table border=\"1\" class=\"dataframe\">\n",
              "  <thead>\n",
              "    <tr style=\"text-align: right;\">\n",
              "      <th></th>\n",
              "      <th>Unnamed: 0</th>\n",
              "      <th>num</th>\n",
              "      <th>FileName</th>\n",
              "      <th>sub_class</th>\n",
              "      <th>views</th>\n",
              "      <th>Path Crop</th>\n",
              "      <th>originalImage</th>\n",
              "      <th>tagName1</th>\n",
              "      <th>tagName2</th>\n",
              "      <th>Class</th>\n",
              "      <th>Case</th>\n",
              "      <th>Abs Position</th>\n",
              "      <th>Sub_class</th>\n",
              "      <th>Path Full</th>\n",
              "      <th>fold</th>\n",
              "      <th>AI_Pred</th>\n",
              "      <th>U10_Pred</th>\n",
              "      <th>U11_Pred</th>\n",
              "      <th>tagName0</th>\n",
              "      <th>Sub_class_New</th>\n",
              "      <th>Top3_category</th>\n",
              "      <th>Top3_Prob</th>\n",
              "      <th>category</th>\n",
              "      <th>Prob</th>\n",
              "      <th>FP_category</th>\n",
              "      <th>U31_Pred_ass</th>\n",
              "      <th>U30_Pred</th>\n",
              "      <th>U41_Pred</th>\n",
              "      <th>U21_Pred</th>\n",
              "      <th>U40_Pred_ass</th>\n",
              "      <th>U20_Pred_ass</th>\n",
              "      <th>U10_Pred2_ass</th>\n",
              "      <th>U11_Pred2</th>\n",
              "      <th>U30_Pred2_ass</th>\n",
              "      <th>U41_Pred2_ass</th>\n",
              "      <th>U31_Pred2</th>\n",
              "      <th>U40_Pred2</th>\n",
              "      <th>U20_Pred2</th>\n",
              "      <th>U21_Pred2_ass</th>\n",
              "      <th>B10_Pred1</th>\n",
              "      <th>B11_Pred1_ass</th>\n",
              "      <th>B12_Pred1_ass</th>\n",
              "      <th>B10_Pred2_ass</th>\n",
              "      <th>B11_Pred2</th>\n",
              "      <th>B12_Pred2</th>\n",
              "    </tr>\n",
              "  </thead>\n",
              "  <tbody>\n",
              "    <tr>\n",
              "      <th>0</th>\n",
              "      <td>0</td>\n",
              "      <td>1</td>\n",
              "      <td>AB01 P1 C100.JPG</td>\n",
              "      <td>AB01</td>\n",
              "      <td>FP-A</td>\n",
              "      <td>/media/tohn/HDD/VISION_dataset/USAI/ABnormal01...</td>\n",
              "      <td>https://irisprodseatraining.blob.core.windows....</td>\n",
              "      <td>Easy</td>\n",
              "      <td>Easy</td>\n",
              "      <td>Abnormal</td>\n",
              "      <td>100</td>\n",
              "      <td>P1</td>\n",
              "      <td>P1</td>\n",
              "      <td>/media/tohn/HDD/VISION_dataset/USAI/ABnormal01...</td>\n",
              "      <td>2</td>\n",
              "      <td>AB02</td>\n",
              "      <td>Normal</td>\n",
              "      <td>AB02</td>\n",
              "      <td>Easy</td>\n",
              "      <td>AB01</td>\n",
              "      <td>['AB02', 'AB01', 'AB082']</td>\n",
              "      <td>[0.5297411700821869, 0.20299334374021513, 0.07...</td>\n",
              "      <td>AB02</td>\n",
              "      <td>0.529741</td>\n",
              "      <td>FP-A</td>\n",
              "      <td>AB02</td>\n",
              "      <td>AB02</td>\n",
              "      <td>AB02</td>\n",
              "      <td>AB02</td>\n",
              "      <td>AB02</td>\n",
              "      <td>AB02</td>\n",
              "      <td>AB02</td>\n",
              "      <td>AB02</td>\n",
              "      <td>AB02</td>\n",
              "      <td>AB01</td>\n",
              "      <td>AB03</td>\n",
              "      <td>AB02</td>\n",
              "      <td>AB02</td>\n",
              "      <td>AB02</td>\n",
              "      <td>AB02</td>\n",
              "      <td>AB02</td>\n",
              "      <td>AB02</td>\n",
              "      <td>AB02</td>\n",
              "      <td>AB02</td>\n",
              "      <td>AB01</td>\n",
              "    </tr>\n",
              "    <tr>\n",
              "      <th>1</th>\n",
              "      <td>1</td>\n",
              "      <td>2</td>\n",
              "      <td>AB01 P4-2 C050.JPG</td>\n",
              "      <td>AB01</td>\n",
              "      <td>FP-B</td>\n",
              "      <td>/media/tohn/HDD/VISION_dataset/USAI/ABnormal01...</td>\n",
              "      <td>https://irisprodseatraining.blob.core.windows....</td>\n",
              "      <td>Easy</td>\n",
              "      <td>Easy</td>\n",
              "      <td>Abnormal</td>\n",
              "      <td>50</td>\n",
              "      <td>P4</td>\n",
              "      <td>P42</td>\n",
              "      <td>/media/tohn/HDD/VISION_dataset/USAI/ABnormal01...</td>\n",
              "      <td>1</td>\n",
              "      <td>AB02</td>\n",
              "      <td>Normal</td>\n",
              "      <td>AB02</td>\n",
              "      <td>Easy</td>\n",
              "      <td>AB01</td>\n",
              "      <td>['AB02', 'AB01', 'Normal']</td>\n",
              "      <td>[0.5384400113893146, 0.23439530764208472, 0.03...</td>\n",
              "      <td>AB02</td>\n",
              "      <td>0.538440</td>\n",
              "      <td>FP-B</td>\n",
              "      <td>AB02</td>\n",
              "      <td>AB02</td>\n",
              "      <td>AB02</td>\n",
              "      <td>AB02</td>\n",
              "      <td>AB02</td>\n",
              "      <td>AB02</td>\n",
              "      <td>AB02</td>\n",
              "      <td>AB01</td>\n",
              "      <td>AB02</td>\n",
              "      <td>AB02</td>\n",
              "      <td>AB02</td>\n",
              "      <td>AB02</td>\n",
              "      <td>AB01</td>\n",
              "      <td>AB02</td>\n",
              "      <td>AB01</td>\n",
              "      <td>AB01</td>\n",
              "      <td>AB02</td>\n",
              "      <td>AB02</td>\n",
              "      <td>AB01</td>\n",
              "      <td>Normal</td>\n",
              "    </tr>\n",
              "    <tr>\n",
              "      <th>2</th>\n",
              "      <td>2</td>\n",
              "      <td>3</td>\n",
              "      <td>AB01 P5-2 C004.JPG</td>\n",
              "      <td>AB01</td>\n",
              "      <td>FP-C</td>\n",
              "      <td>/media/tohn/HDD/VISION_dataset/USAI/ABnormal01...</td>\n",
              "      <td>https://irisprodseatraining.blob.core.windows....</td>\n",
              "      <td>Easy</td>\n",
              "      <td>Easy</td>\n",
              "      <td>Abnormal</td>\n",
              "      <td>4</td>\n",
              "      <td>P5</td>\n",
              "      <td>P52</td>\n",
              "      <td>/media/tohn/HDD/VISION_dataset/USAI/ABnormal01...</td>\n",
              "      <td>1</td>\n",
              "      <td>AB01</td>\n",
              "      <td>AB03</td>\n",
              "      <td>AB02</td>\n",
              "      <td>Easy</td>\n",
              "      <td>AB01</td>\n",
              "      <td>['AB01', 'Normal', 'AB082']</td>\n",
              "      <td>[0.8420314338368775, 0.03463969852508276, 0.02...</td>\n",
              "      <td>AB01</td>\n",
              "      <td>0.842031</td>\n",
              "      <td>FP-C</td>\n",
              "      <td>AB01</td>\n",
              "      <td>AB02</td>\n",
              "      <td>AB02</td>\n",
              "      <td>AB02</td>\n",
              "      <td>AB01</td>\n",
              "      <td>AB01</td>\n",
              "      <td>AB01</td>\n",
              "      <td>AB02</td>\n",
              "      <td>AB01</td>\n",
              "      <td>AB02</td>\n",
              "      <td>AB02</td>\n",
              "      <td>AB02</td>\n",
              "      <td>AB01</td>\n",
              "      <td>AB01</td>\n",
              "      <td>AB11</td>\n",
              "      <td>AB02</td>\n",
              "      <td>AB01</td>\n",
              "      <td>AB01</td>\n",
              "      <td>AB02</td>\n",
              "      <td>Normal</td>\n",
              "    </tr>\n",
              "  </tbody>\n",
              "</table>\n",
              "</div>"
            ],
            "text/plain": [
              "   Unnamed: 0  num            FileName  ... B10_Pred2_ass B11_Pred2 B12_Pred2\n",
              "0           0    1    AB01 P1 C100.JPG  ...          AB02      AB02      AB01\n",
              "1           1    2  AB01 P4-2 C050.JPG  ...          AB02      AB01    Normal\n",
              "2           2    3  AB01 P5-2 C004.JPG  ...          AB01      AB02    Normal\n",
              "\n",
              "[3 rows x 45 columns]"
            ]
          },
          "metadata": {
            "tags": []
          },
          "execution_count": 3
        }
      ]
    },
    {
      "cell_type": "code",
      "metadata": {
        "id": "DId9rErmDB6Y"
      },
      "source": [
        "low = df[df.Prob <= 0.5]\n",
        "hight = df[df.Prob > 0.5]"
      ],
      "execution_count": 5,
      "outputs": []
    },
    {
      "cell_type": "code",
      "metadata": {
        "colab": {
          "base_uri": "https://localhost:8080/"
        },
        "id": "9N3TiUhNCh9l",
        "outputId": "d800c746-6dcf-429b-f873-5c946175d128"
      },
      "source": [
        "AssistGP5 =['B10_Pred2_ass','B11_Pred1_ass','B12_Pred1_ass','U10_Pred2_ass','U11_Pred','U20_Pred_ass','U21_Pred2_ass','U30_Pred2_ass','U31_Pred_ass','U40_Pred_ass','U41_Pred2_ass']\n",
        "\n",
        "per = AssistGP5\n",
        "aa = list()\n",
        "probmore=low\n",
        "for j in per:\n",
        "    import numpy as np\n",
        "    from sklearn.metrics import confusion_matrix\n",
        "    from sklearn.metrics import classification_report,confusion_matrix\n",
        "    act = probmore['category'].array\n",
        "    pred = probmore[j].array\n",
        "    cmat = confusion_matrix(act, pred)\n",
        "    acc = (np.trace(cmat))/(np.sum(cmat))\n",
        "    Recall = classification_report(act, pred).split()[-9]\n",
        "    Prec = classification_report(act, pred).split()[-10] \n",
        "    aa.append({'per':j,'tagName':'G1','acc':acc,'Prec':Prec,'Recall':Recall,'count':len(act)})\n",
        "df1 = pd.DataFrame(aa)\n",
        "\n",
        "per = AssistGP5\n",
        "aa = list()\n",
        "probmore=hight\n",
        "for j in per:\n",
        "    import numpy as np\n",
        "    from sklearn.metrics import confusion_matrix\n",
        "    from sklearn.metrics import classification_report,confusion_matrix\n",
        "    act = probmore['category'].array\n",
        "    pred = probmore[j].array\n",
        "    cmat = confusion_matrix(act, pred)\n",
        "    acc = (np.trace(cmat))/(np.sum(cmat))\n",
        "    Recall = classification_report(act, pred).split()[-9]\n",
        "    Prec = classification_report(act, pred).split()[-10] \n",
        "    aa.append({'per':j,'tagName':'G1','acc':acc,'Prec':Prec,'Recall':Recall,'count':len(act)})\n",
        "df2 = pd.DataFrame(aa)"
      ],
      "execution_count": 17,
      "outputs": [
        {
          "output_type": "stream",
          "text": [
            "/usr/local/lib/python3.7/dist-packages/sklearn/metrics/_classification.py:1272: UndefinedMetricWarning: Precision and F-score are ill-defined and being set to 0.0 in labels with no predicted samples. Use `zero_division` parameter to control this behavior.\n",
            "  _warn_prf(average, modifier, msg_start, len(result))\n",
            "/usr/local/lib/python3.7/dist-packages/sklearn/metrics/_classification.py:1272: UndefinedMetricWarning: Recall and F-score are ill-defined and being set to 0.0 in labels with no true samples. Use `zero_division` parameter to control this behavior.\n",
            "  _warn_prf(average, modifier, msg_start, len(result))\n"
          ],
          "name": "stderr"
        }
      ]
    },
    {
      "cell_type": "code",
      "metadata": {
        "id": "50SnzJo5DeZO"
      },
      "source": [
        "G1 = df1.acc.tolist()\n",
        "G2 = df2.acc.tolist()"
      ],
      "execution_count": 18,
      "outputs": []
    },
    {
      "cell_type": "code",
      "metadata": {
        "colab": {
          "base_uri": "https://localhost:8080/"
        },
        "id": "waC7QnaHGD0y",
        "outputId": "768dd9cf-b3fd-4977-d4b8-336a3718c83e"
      },
      "source": [
        "result  = df1\n",
        "GP = result[(result['per']=='B10_Pred2_ass' )|(result['per']=='B11_Pred1_ass')|(result['per']=='B12_Pred1_ass')|(result['per']=='U10_Pred2_ass')|(result['per']=='U11_Pred')].mean()\n",
        "res = result[(result['per']=='U20_Pred_ass' )|(result['per']=='U21_Pred2_ass')].mean()\n",
        "nonHB = result[(result['per']=='U30_Pred2_ass' )|(result['per']=='U31_Pred_ass')].mean()\n",
        "HB = result[(result['per']=='U40_Pred_ass' )|(result['per']=='U41_Pred2_ass')].mean()\n",
        "G1 = [GP[0],res[0],nonHB[0],HB[0]]\n",
        "G1"
      ],
      "execution_count": 30,
      "outputs": [
        {
          "output_type": "execute_result",
          "data": {
            "text/plain": [
              "[0.49696969696969695,\n",
              " 0.4545454545454546,\n",
              " 0.48484848484848486,\n",
              " 0.5757575757575758]"
            ]
          },
          "metadata": {
            "tags": []
          },
          "execution_count": 30
        }
      ]
    },
    {
      "cell_type": "code",
      "metadata": {
        "colab": {
          "base_uri": "https://localhost:8080/"
        },
        "id": "ZrMiowLsGk49",
        "outputId": "bc0b1072-c675-453a-cbf6-332e0173e3c3"
      },
      "source": [
        "result  = df2\n",
        "GP = result[(result['per']=='B10_Pred2_ass' )|(result['per']=='B11_Pred1_ass')|(result['per']=='B12_Pred1_ass')|(result['per']=='U10_Pred2_ass')|(result['per']=='U11_Pred')].mean()\n",
        "res = result[(result['per']=='U20_Pred_ass' )|(result['per']=='U21_Pred2_ass')].mean()\n",
        "nonHB = result[(result['per']=='U30_Pred2_ass' )|(result['per']=='U31_Pred_ass')].mean()\n",
        "HB = result[(result['per']=='U40_Pred_ass' )|(result['per']=='U41_Pred2_ass')].mean()\n",
        "G2 = [GP[0],res[0],nonHB[0],HB[0]]\n",
        "G2"
      ],
      "execution_count": 31,
      "outputs": [
        {
          "output_type": "execute_result",
          "data": {
            "text/plain": [
              "[0.6717948717948719,\n",
              " 0.7094017094017094,\n",
              " 0.8333333333333333,\n",
              " 0.8632478632478633]"
            ]
          },
          "metadata": {
            "tags": []
          },
          "execution_count": 31
        }
      ]
    },
    {
      "cell_type": "code",
      "metadata": {
        "colab": {
          "base_uri": "https://localhost:8080/",
          "height": 543
        },
        "id": "vb2O3n2JGvGJ",
        "outputId": "2b5d24dc-89a2-4c2c-f9b9-ca2e72d08171"
      },
      "source": [
        "\n",
        "font = {'family': 'serif',\n",
        "        'color':  'black',\n",
        "        'weight': 'normal'}\n",
        "\n",
        "fig, ax = plt.subplots(figsize=(10, 5), dpi=100)\n",
        "plt.ylim(0.,1) \n",
        "x = np.arange(0,2,0.5)  # the label locations\n",
        "\n",
        "# plt.plot(x, G1, color='#d6b4fc',alpha=1, linestyle='-', linewidth = 2, marker='.', markerfacecolor='#d6b4fc', markersize=8)\n",
        "# plt.plot(x, G2, color='#856798',alpha=1, linestyle='-', linewidth = 2, marker='.', markerfacecolor='#856798', markersize=8)\n",
        "\n",
        "plt.plot(x, G2, color='#0584C4',  linestyle=' ', marker='D', markeredgecolor='#0584C4', markersize=8, label='High: prob.> 0.5')\n",
        "plt.plot(x, G1, color='#B7D4E3',  linestyle=' ', marker='o', markeredgecolor='#B7D4E3', markersize=9, label='Low: prob.<= 0.5')\n",
        "\n",
        "# plt.title('The difference within the groups (Recall) Abn&Nor',fontsize=20) \n",
        "ax.set_title(f'The difference within the groups of 15 abnormalities',fontsize=18, fontdict=font, pad=30)\n",
        "ax.set_xlabel('Performance.',fontsize=16, fontdict=font, labelpad=15)\n",
        "ax.set_ylabel('Similarity scores',fontsize=16, fontdict=font, labelpad=15)\n",
        "\n",
        "ax.set_xticks(x)\n",
        "labels = ['GP', 'Resident Radiologist','Non-HB Radiologist','HB Radiologist']\n",
        "ax.set_xticklabels(labels,fontsize=12, fontdict=font)\n",
        "plt.legend(loc='lower right')\n",
        "plt.grid(True)\n",
        "show()"
      ],
      "execution_count": 48,
      "outputs": [
        {
          "output_type": "display_data",
          "data": {
            "image/png": "[encoded data removed]",
            "text/plain": [
              "<Figure size 1000x500 with 1 Axes>"
            ]
          },
          "metadata": {
            "tags": [],
            "needs_background": "light"
          }
        }
      ]
    },
    {
      "cell_type": "code",
      "metadata": {
        "id": "SLFwlw8pDixM"
      },
      "source": [
        "# fig, ax = plt.subplots(figsize=(20, 5))\n",
        "# x = [0,0.1,0.2,0.3,0.4,0.5,0.6,0.7,0.8,0.9,1.0]\n",
        "# plt.plot(x, G1, color='#d6b4fc',alpha=1, linestyle='-', linewidth = 2, marker='.', markerfacecolor='#d6b4fc', markersize=8)\n",
        "# plt.plot(x, G2, color='#856798',alpha=1, linestyle='-', linewidth = 2, marker='.', markerfacecolor='#856798', markersize=8)\n",
        "# legend(['Low', 'hight'], bbox_to_anchor=(1.,1.))\n",
        "# # plt.title('The difference within the groups (Recall) Abn&Nor',fontsize=20) \n",
        "# plt.title('The difference within the groups of 15 abnormalities',fontsize=20) \n",
        "# plt.xlabel('Performance.',fontsize=18)\n",
        "# plt.ylabel('Similarity scores',fontsize=18)\n",
        "# ax.set_xticks(x)\n",
        "# labels = df1['per'].tolist()\n",
        "# ax.set_xticklabels(labels,fontsize=10)\n",
        "\n",
        "# show()"
      ],
      "execution_count": 49,
      "outputs": []
    },
    {
      "cell_type": "markdown",
      "metadata": {
        "id": "JFqF62ooZYBc"
      },
      "source": [
        "# Position graph"
      ]
    },
    {
      "cell_type": "code",
      "metadata": {
        "id": "cknuURpsZfWj"
      },
      "source": [
        "from google.colab import drive\n",
        "drive.mount('/content/drive')"
      ],
      "execution_count": null,
      "outputs": []
    },
    {
      "cell_type": "code",
      "metadata": {
        "id": "H3g7krj-ZfaK"
      },
      "source": [
        "import matplotlib.pyplot as plt\n",
        "import numpy as np\n",
        "from pylab import plot, show, title, xlabel, ylabel\n",
        "from pylab import legend\n",
        "from pylab import axis"
      ],
      "execution_count": 50,
      "outputs": []
    },
    {
      "cell_type": "code",
      "metadata": {
        "colab": {
          "base_uri": "https://localhost:8080/",
          "height": 280
        },
        "id": "SlCi-Bn1Zfe4",
        "outputId": "7da3e8f3-7542-4f6d-aa87-b153f5f569e1"
      },
      "source": [
        "import pandas as pd\n",
        "df = pd.read_csv( '/content/drive/MyDrive/CCA_Project/result_csv/Experiment2_AI.csv')\n",
        "df.head(3)"
      ],
      "execution_count": 51,
      "outputs": [
        {
          "output_type": "execute_result",
          "data": {
            "text/html": [
              "<div>\n",
              "<style scoped>\n",
              "    .dataframe tbody tr th:only-of-type {\n",
              "        vertical-align: middle;\n",
              "    }\n",
              "\n",
              "    .dataframe tbody tr th {\n",
              "        vertical-align: top;\n",
              "    }\n",
              "\n",
              "    .dataframe thead th {\n",
              "        text-align: right;\n",
              "    }\n",
              "</style>\n",
              "<table border=\"1\" class=\"dataframe\">\n",
              "  <thead>\n",
              "    <tr style=\"text-align: right;\">\n",
              "      <th></th>\n",
              "      <th>Unnamed: 0</th>\n",
              "      <th>num</th>\n",
              "      <th>FileName</th>\n",
              "      <th>sub_class</th>\n",
              "      <th>views</th>\n",
              "      <th>Path Crop</th>\n",
              "      <th>originalImage</th>\n",
              "      <th>tagName1</th>\n",
              "      <th>tagName2</th>\n",
              "      <th>Class</th>\n",
              "      <th>Case</th>\n",
              "      <th>Abs Position</th>\n",
              "      <th>Sub_class</th>\n",
              "      <th>Path Full</th>\n",
              "      <th>fold</th>\n",
              "      <th>AI_Pred</th>\n",
              "      <th>U10_Pred</th>\n",
              "      <th>U11_Pred</th>\n",
              "      <th>tagName0</th>\n",
              "      <th>Sub_class_New</th>\n",
              "      <th>Top3_category</th>\n",
              "      <th>Top3_Prob</th>\n",
              "      <th>category</th>\n",
              "      <th>Prob</th>\n",
              "      <th>FP_category</th>\n",
              "      <th>U31_Pred_ass</th>\n",
              "      <th>U30_Pred</th>\n",
              "      <th>U41_Pred</th>\n",
              "      <th>U21_Pred</th>\n",
              "      <th>U40_Pred_ass</th>\n",
              "      <th>U20_Pred_ass</th>\n",
              "      <th>U10_Pred2_ass</th>\n",
              "      <th>U11_Pred2</th>\n",
              "      <th>U30_Pred2_ass</th>\n",
              "      <th>U41_Pred2_ass</th>\n",
              "      <th>U31_Pred2</th>\n",
              "      <th>U40_Pred2</th>\n",
              "      <th>U20_Pred2</th>\n",
              "      <th>U21_Pred2_ass</th>\n",
              "      <th>B10_Pred1</th>\n",
              "      <th>B11_Pred1_ass</th>\n",
              "      <th>B12_Pred1_ass</th>\n",
              "      <th>B10_Pred2_ass</th>\n",
              "      <th>B11_Pred2</th>\n",
              "      <th>B12_Pred2</th>\n",
              "    </tr>\n",
              "  </thead>\n",
              "  <tbody>\n",
              "    <tr>\n",
              "      <th>0</th>\n",
              "      <td>0</td>\n",
              "      <td>1</td>\n",
              "      <td>AB01 P1 C100.JPG</td>\n",
              "      <td>AB01</td>\n",
              "      <td>FP-A</td>\n",
              "      <td>/media/tohn/HDD/VISION_dataset/USAI/ABnormal01...</td>\n",
              "      <td>https://irisprodseatraining.blob.core.windows....</td>\n",
              "      <td>Easy</td>\n",
              "      <td>Easy</td>\n",
              "      <td>Abnormal</td>\n",
              "      <td>100</td>\n",
              "      <td>P1</td>\n",
              "      <td>P1</td>\n",
              "      <td>/media/tohn/HDD/VISION_dataset/USAI/ABnormal01...</td>\n",
              "      <td>2</td>\n",
              "      <td>AB02</td>\n",
              "      <td>Normal</td>\n",
              "      <td>AB02</td>\n",
              "      <td>Easy</td>\n",
              "      <td>AB01</td>\n",
              "      <td>['AB02', 'AB01', 'AB082']</td>\n",
              "      <td>[0.5297411700821869, 0.20299334374021513, 0.07...</td>\n",
              "      <td>AB02</td>\n",
              "      <td>0.529741</td>\n",
              "      <td>FP-A</td>\n",
              "      <td>AB02</td>\n",
              "      <td>AB02</td>\n",
              "      <td>AB02</td>\n",
              "      <td>AB02</td>\n",
              "      <td>AB02</td>\n",
              "      <td>AB02</td>\n",
              "      <td>AB02</td>\n",
              "      <td>AB02</td>\n",
              "      <td>AB02</td>\n",
              "      <td>AB01</td>\n",
              "      <td>AB03</td>\n",
              "      <td>AB02</td>\n",
              "      <td>AB02</td>\n",
              "      <td>AB02</td>\n",
              "      <td>AB02</td>\n",
              "      <td>AB02</td>\n",
              "      <td>AB02</td>\n",
              "      <td>AB02</td>\n",
              "      <td>AB02</td>\n",
              "      <td>AB01</td>\n",
              "    </tr>\n",
              "    <tr>\n",
              "      <th>1</th>\n",
              "      <td>1</td>\n",
              "      <td>2</td>\n",
              "      <td>AB01 P4-2 C050.JPG</td>\n",
              "      <td>AB01</td>\n",
              "      <td>FP-B</td>\n",
              "      <td>/media/tohn/HDD/VISION_dataset/USAI/ABnormal01...</td>\n",
              "      <td>https://irisprodseatraining.blob.core.windows....</td>\n",
              "      <td>Easy</td>\n",
              "      <td>Easy</td>\n",
              "      <td>Abnormal</td>\n",
              "      <td>50</td>\n",
              "      <td>P4</td>\n",
              "      <td>P42</td>\n",
              "      <td>/media/tohn/HDD/VISION_dataset/USAI/ABnormal01...</td>\n",
              "      <td>1</td>\n",
              "      <td>AB02</td>\n",
              "      <td>Normal</td>\n",
              "      <td>AB02</td>\n",
              "      <td>Easy</td>\n",
              "      <td>AB01</td>\n",
              "      <td>['AB02', 'AB01', 'Normal']</td>\n",
              "      <td>[0.5384400113893146, 0.23439530764208472, 0.03...</td>\n",
              "      <td>AB02</td>\n",
              "      <td>0.538440</td>\n",
              "      <td>FP-B</td>\n",
              "      <td>AB02</td>\n",
              "      <td>AB02</td>\n",
              "      <td>AB02</td>\n",
              "      <td>AB02</td>\n",
              "      <td>AB02</td>\n",
              "      <td>AB02</td>\n",
              "      <td>AB02</td>\n",
              "      <td>AB01</td>\n",
              "      <td>AB02</td>\n",
              "      <td>AB02</td>\n",
              "      <td>AB02</td>\n",
              "      <td>AB02</td>\n",
              "      <td>AB01</td>\n",
              "      <td>AB02</td>\n",
              "      <td>AB01</td>\n",
              "      <td>AB01</td>\n",
              "      <td>AB02</td>\n",
              "      <td>AB02</td>\n",
              "      <td>AB01</td>\n",
              "      <td>Normal</td>\n",
              "    </tr>\n",
              "    <tr>\n",
              "      <th>2</th>\n",
              "      <td>2</td>\n",
              "      <td>3</td>\n",
              "      <td>AB01 P5-2 C004.JPG</td>\n",
              "      <td>AB01</td>\n",
              "      <td>FP-C</td>\n",
              "      <td>/media/tohn/HDD/VISION_dataset/USAI/ABnormal01...</td>\n",
              "      <td>https://irisprodseatraining.blob.core.windows....</td>\n",
              "      <td>Easy</td>\n",
              "      <td>Easy</td>\n",
              "      <td>Abnormal</td>\n",
              "      <td>4</td>\n",
              "      <td>P5</td>\n",
              "      <td>P52</td>\n",
              "      <td>/media/tohn/HDD/VISION_dataset/USAI/ABnormal01...</td>\n",
              "      <td>1</td>\n",
              "      <td>AB01</td>\n",
              "      <td>AB03</td>\n",
              "      <td>AB02</td>\n",
              "      <td>Easy</td>\n",
              "      <td>AB01</td>\n",
              "      <td>['AB01', 'Normal', 'AB082']</td>\n",
              "      <td>[0.8420314338368775, 0.03463969852508276, 0.02...</td>\n",
              "      <td>AB01</td>\n",
              "      <td>0.842031</td>\n",
              "      <td>FP-C</td>\n",
              "      <td>AB01</td>\n",
              "      <td>AB02</td>\n",
              "      <td>AB02</td>\n",
              "      <td>AB02</td>\n",
              "      <td>AB01</td>\n",
              "      <td>AB01</td>\n",
              "      <td>AB01</td>\n",
              "      <td>AB02</td>\n",
              "      <td>AB01</td>\n",
              "      <td>AB02</td>\n",
              "      <td>AB02</td>\n",
              "      <td>AB02</td>\n",
              "      <td>AB01</td>\n",
              "      <td>AB01</td>\n",
              "      <td>AB11</td>\n",
              "      <td>AB02</td>\n",
              "      <td>AB01</td>\n",
              "      <td>AB01</td>\n",
              "      <td>AB02</td>\n",
              "      <td>Normal</td>\n",
              "    </tr>\n",
              "  </tbody>\n",
              "</table>\n",
              "</div>"
            ],
            "text/plain": [
              "   Unnamed: 0  num            FileName  ... B10_Pred2_ass B11_Pred2 B12_Pred2\n",
              "0           0    1    AB01 P1 C100.JPG  ...          AB02      AB02      AB01\n",
              "1           1    2  AB01 P4-2 C050.JPG  ...          AB02      AB01    Normal\n",
              "2           2    3  AB01 P5-2 C004.JPG  ...          AB01      AB02    Normal\n",
              "\n",
              "[3 rows x 45 columns]"
            ]
          },
          "metadata": {
            "tags": []
          },
          "execution_count": 51
        }
      ]
    },
    {
      "cell_type": "code",
      "metadata": {
        "id": "uGrFJ3BlZoSv"
      },
      "source": [
        ""
      ],
      "execution_count": null,
      "outputs": []
    },
    {
      "cell_type": "code",
      "metadata": {
        "id": "SgzaWs-NZoVt"
      },
      "source": [
        ""
      ],
      "execution_count": null,
      "outputs": []
    },
    {
      "cell_type": "code",
      "metadata": {
        "id": "avCZ2BtJZoZL"
      },
      "source": [
        ""
      ],
      "execution_count": null,
      "outputs": []
    },
    {
      "cell_type": "code",
      "metadata": {
        "id": "_dgAPuRAZobu"
      },
      "source": [
        ""
      ],
      "execution_count": null,
      "outputs": []
    },
    {
      "cell_type": "code",
      "metadata": {
        "id": "hxQqjAHXZoej"
      },
      "source": [
        ""
      ],
      "execution_count": null,
      "outputs": []
    },
    {
      "cell_type": "markdown",
      "metadata": {
        "id": "WYtip4Yq_mnO"
      },
      "source": [
        "# GradCam graph"
      ]
    },
    {
      "cell_type": "code",
      "metadata": {
        "id": "KSot3C97Znf7"
      },
      "source": [
        ""
      ],
      "execution_count": null,
      "outputs": []
    },
    {
      "cell_type": "code",
      "metadata": {
        "id": "bP3gJemAZni2"
      },
      "source": [
        ""
      ],
      "execution_count": null,
      "outputs": []
    },
    {
      "cell_type": "code",
      "metadata": {
        "id": "VhN2ZIcoZnpp"
      },
      "source": [
        ""
      ],
      "execution_count": null,
      "outputs": []
    },
    {
      "cell_type": "code",
      "metadata": {
        "id": "ECR-MtPyET8a"
      },
      "source": [
        "from google.colab import drive\n",
        "drive.mount('/content/drive')"
      ],
      "execution_count": null,
      "outputs": []
    },
    {
      "cell_type": "code",
      "metadata": {
        "colab": {
          "base_uri": "https://localhost:8080/",
          "height": 280
        },
        "id": "KOwU5VueC0h7",
        "outputId": "57389497-8ca0-4c7e-a716-b5e9f119dbf9"
      },
      "source": [
        "import pandas as pd\n",
        "df = pd.read_csv( '/content/drive/MyDrive/CCA_Project/result_csv/IoU42_Abnormal_new2.csv')\n",
        "df.head(3)"
      ],
      "execution_count": 100,
      "outputs": [
        {
          "output_type": "execute_result",
          "data": {
            "text/html": [
              "<div>\n",
              "<style scoped>\n",
              "    .dataframe tbody tr th:only-of-type {\n",
              "        vertical-align: middle;\n",
              "    }\n",
              "\n",
              "    .dataframe tbody tr th {\n",
              "        vertical-align: top;\n",
              "    }\n",
              "\n",
              "    .dataframe thead th {\n",
              "        text-align: right;\n",
              "    }\n",
              "</style>\n",
              "<table border=\"1\" class=\"dataframe\">\n",
              "  <thead>\n",
              "    <tr style=\"text-align: right;\">\n",
              "      <th></th>\n",
              "      <th>Unnamed: 0</th>\n",
              "      <th>Unnamed: 0.1</th>\n",
              "      <th>Unnamed: 0.1.1</th>\n",
              "      <th>num</th>\n",
              "      <th>FileName</th>\n",
              "      <th>sub_class</th>\n",
              "      <th>views</th>\n",
              "      <th>Path Crop</th>\n",
              "      <th>originalImage</th>\n",
              "      <th>tagName1</th>\n",
              "      <th>tagName2</th>\n",
              "      <th>Class</th>\n",
              "      <th>Case</th>\n",
              "      <th>Abs Position</th>\n",
              "      <th>Sub_class</th>\n",
              "      <th>Path Full</th>\n",
              "      <th>fold</th>\n",
              "      <th>AI_Pred</th>\n",
              "      <th>U10_Pred</th>\n",
              "      <th>U11_Pred</th>\n",
              "      <th>tagName0</th>\n",
              "      <th>Sub_class_New</th>\n",
              "      <th>Top3_category</th>\n",
              "      <th>Top3_Prob</th>\n",
              "      <th>category</th>\n",
              "      <th>Prob</th>\n",
              "      <th>FP_category</th>\n",
              "      <th>U31_Pred_ass</th>\n",
              "      <th>U30_Pred</th>\n",
              "      <th>U41_Pred</th>\n",
              "      <th>U21_Pred</th>\n",
              "      <th>U40_Pred_ass</th>\n",
              "      <th>U20_Pred_ass</th>\n",
              "      <th>U10_Pred2_ass</th>\n",
              "      <th>U11_Pred2</th>\n",
              "      <th>U30_Pred2_ass</th>\n",
              "      <th>U41_Pred2_ass</th>\n",
              "      <th>U31_Pred2</th>\n",
              "      <th>U40_Pred2</th>\n",
              "      <th>U20_Pred2</th>\n",
              "      <th>U21_Pred2_ass</th>\n",
              "      <th>B10_Pred1</th>\n",
              "      <th>B11_Pred1_ass</th>\n",
              "      <th>B12_Pred1_ass</th>\n",
              "      <th>B10_Pred2_ass</th>\n",
              "      <th>B11_Pred2</th>\n",
              "      <th>B12_Pred2</th>\n",
              "      <th>left</th>\n",
              "      <th>top</th>\n",
              "      <th>width</th>\n",
              "      <th>height</th>\n",
              "      <th>Rleft</th>\n",
              "      <th>Rtop</th>\n",
              "      <th>Rwidth</th>\n",
              "      <th>Rheight</th>\n",
              "      <th>15AB</th>\n",
              "      <th>IoU50</th>\n",
              "      <th>IoU100</th>\n",
              "      <th>IoU120</th>\n",
              "      <th>IoU150</th>\n",
              "      <th>IoU185</th>\n",
              "      <th>IoU200</th>\n",
              "      <th>IoU115</th>\n",
              "      <th>IoU125</th>\n",
              "      <th>IoU160</th>\n",
              "      <th>IoU170</th>\n",
              "      <th>IoU180</th>\n",
              "      <th>IoU190</th>\n",
              "      <th>IoU181</th>\n",
              "      <th>IoU182</th>\n",
              "      <th>IoU183</th>\n",
              "      <th>IoU184</th>\n",
              "      <th>IoU186</th>\n",
              "      <th>IoU187</th>\n",
              "      <th>IoU188</th>\n",
              "      <th>IoU189</th>\n",
              "    </tr>\n",
              "  </thead>\n",
              "  <tbody>\n",
              "    <tr>\n",
              "      <th>0</th>\n",
              "      <td>0</td>\n",
              "      <td>0</td>\n",
              "      <td>0</td>\n",
              "      <td>1</td>\n",
              "      <td>AB01 P1 C100.JPG</td>\n",
              "      <td>AB01</td>\n",
              "      <td>FP-A</td>\n",
              "      <td>/media/tohn/HDD/VISION_dataset/USAI/ABnormal01...</td>\n",
              "      <td>https://irisprodseatraining.blob.core.windows....</td>\n",
              "      <td>Easy</td>\n",
              "      <td>Easy</td>\n",
              "      <td>Abnormal</td>\n",
              "      <td>100</td>\n",
              "      <td>P1</td>\n",
              "      <td>P1</td>\n",
              "      <td>/media/tohn/HDD/VISION_dataset/USAI/ABnormal01...</td>\n",
              "      <td>2</td>\n",
              "      <td>AB02</td>\n",
              "      <td>Normal</td>\n",
              "      <td>AB02</td>\n",
              "      <td>Easy</td>\n",
              "      <td>AB01</td>\n",
              "      <td>['AB02', 'AB01', 'AB082']</td>\n",
              "      <td>[0.5297411700821869, 0.20299334374021513, 0.07...</td>\n",
              "      <td>AB02</td>\n",
              "      <td>0.529741</td>\n",
              "      <td>FP-A</td>\n",
              "      <td>AB02</td>\n",
              "      <td>AB02</td>\n",
              "      <td>AB02</td>\n",
              "      <td>AB02</td>\n",
              "      <td>AB02</td>\n",
              "      <td>AB02</td>\n",
              "      <td>AB02</td>\n",
              "      <td>AB02</td>\n",
              "      <td>AB02</td>\n",
              "      <td>AB01</td>\n",
              "      <td>AB03</td>\n",
              "      <td>AB02</td>\n",
              "      <td>AB02</td>\n",
              "      <td>AB02</td>\n",
              "      <td>AB02</td>\n",
              "      <td>AB02</td>\n",
              "      <td>AB02</td>\n",
              "      <td>AB02</td>\n",
              "      <td>AB02</td>\n",
              "      <td>AB01</td>\n",
              "      <td>121.0</td>\n",
              "      <td>180.0</td>\n",
              "      <td>699.0</td>\n",
              "      <td>636.0</td>\n",
              "      <td>0.129524</td>\n",
              "      <td>0.200666</td>\n",
              "      <td>0.742857</td>\n",
              "      <td>0.707171</td>\n",
              "      <td>MildFattyLiver</td>\n",
              "      <td>0.642549</td>\n",
              "      <td>0.508020</td>\n",
              "      <td>0.489127</td>\n",
              "      <td>0.406149</td>\n",
              "      <td>0.275995</td>\n",
              "      <td>0.199181</td>\n",
              "      <td>0.495490</td>\n",
              "      <td>0.475612</td>\n",
              "      <td>0.365819</td>\n",
              "      <td>0.336224</td>\n",
              "      <td>0.312705</td>\n",
              "      <td>0.264067</td>\n",
              "      <td>0.310789</td>\n",
              "      <td>0.310789</td>\n",
              "      <td>0.307723</td>\n",
              "      <td>0.275995</td>\n",
              "      <td>0.269708</td>\n",
              "      <td>0.268298</td>\n",
              "      <td>0.265478</td>\n",
              "      <td>0.264067</td>\n",
              "    </tr>\n",
              "    <tr>\n",
              "      <th>1</th>\n",
              "      <td>1</td>\n",
              "      <td>1</td>\n",
              "      <td>1</td>\n",
              "      <td>2</td>\n",
              "      <td>AB01 P4-2 C050.JPG</td>\n",
              "      <td>AB01</td>\n",
              "      <td>FP-B</td>\n",
              "      <td>/media/tohn/HDD/VISION_dataset/USAI/ABnormal01...</td>\n",
              "      <td>https://irisprodseatraining.blob.core.windows....</td>\n",
              "      <td>Easy</td>\n",
              "      <td>Easy</td>\n",
              "      <td>Abnormal</td>\n",
              "      <td>50</td>\n",
              "      <td>P4</td>\n",
              "      <td>P42</td>\n",
              "      <td>/media/tohn/HDD/VISION_dataset/USAI/ABnormal01...</td>\n",
              "      <td>1</td>\n",
              "      <td>AB02</td>\n",
              "      <td>Normal</td>\n",
              "      <td>AB02</td>\n",
              "      <td>Easy</td>\n",
              "      <td>AB01</td>\n",
              "      <td>['AB02', 'AB01', 'Normal']</td>\n",
              "      <td>[0.5384400113893146, 0.23439530764208472, 0.03...</td>\n",
              "      <td>AB02</td>\n",
              "      <td>0.538440</td>\n",
              "      <td>FP-B</td>\n",
              "      <td>AB02</td>\n",
              "      <td>AB02</td>\n",
              "      <td>AB02</td>\n",
              "      <td>AB02</td>\n",
              "      <td>AB02</td>\n",
              "      <td>AB02</td>\n",
              "      <td>AB02</td>\n",
              "      <td>AB01</td>\n",
              "      <td>AB02</td>\n",
              "      <td>AB02</td>\n",
              "      <td>AB02</td>\n",
              "      <td>AB02</td>\n",
              "      <td>AB01</td>\n",
              "      <td>AB02</td>\n",
              "      <td>AB01</td>\n",
              "      <td>AB01</td>\n",
              "      <td>AB02</td>\n",
              "      <td>AB02</td>\n",
              "      <td>AB01</td>\n",
              "      <td>Normal</td>\n",
              "      <td>227.0</td>\n",
              "      <td>125.0</td>\n",
              "      <td>661.0</td>\n",
              "      <td>679.0</td>\n",
              "      <td>0.222807</td>\n",
              "      <td>0.138913</td>\n",
              "      <td>0.647368</td>\n",
              "      <td>0.754980</td>\n",
              "      <td>MildFattyLiver</td>\n",
              "      <td>0.672464</td>\n",
              "      <td>0.733564</td>\n",
              "      <td>0.673876</td>\n",
              "      <td>0.318159</td>\n",
              "      <td>0.262638</td>\n",
              "      <td>0.237795</td>\n",
              "      <td>0.679231</td>\n",
              "      <td>0.665341</td>\n",
              "      <td>0.308122</td>\n",
              "      <td>0.287317</td>\n",
              "      <td>0.269598</td>\n",
              "      <td>0.250177</td>\n",
              "      <td>0.269598</td>\n",
              "      <td>0.267536</td>\n",
              "      <td>0.267536</td>\n",
              "      <td>0.264678</td>\n",
              "      <td>0.261641</td>\n",
              "      <td>0.261641</td>\n",
              "      <td>0.257490</td>\n",
              "      <td>0.254983</td>\n",
              "    </tr>\n",
              "    <tr>\n",
              "      <th>2</th>\n",
              "      <td>2</td>\n",
              "      <td>2</td>\n",
              "      <td>2</td>\n",
              "      <td>3</td>\n",
              "      <td>AB01 P5-2 C004.JPG</td>\n",
              "      <td>AB01</td>\n",
              "      <td>FP-C</td>\n",
              "      <td>/media/tohn/HDD/VISION_dataset/USAI/ABnormal01...</td>\n",
              "      <td>https://irisprodseatraining.blob.core.windows....</td>\n",
              "      <td>Easy</td>\n",
              "      <td>Easy</td>\n",
              "      <td>Abnormal</td>\n",
              "      <td>4</td>\n",
              "      <td>P5</td>\n",
              "      <td>P52</td>\n",
              "      <td>/media/tohn/HDD/VISION_dataset/USAI/ABnormal01...</td>\n",
              "      <td>1</td>\n",
              "      <td>AB01</td>\n",
              "      <td>AB03</td>\n",
              "      <td>AB02</td>\n",
              "      <td>Easy</td>\n",
              "      <td>AB01</td>\n",
              "      <td>['AB01', 'Normal', 'AB082']</td>\n",
              "      <td>[0.8420314338368775, 0.03463969852508276, 0.02...</td>\n",
              "      <td>AB01</td>\n",
              "      <td>0.842031</td>\n",
              "      <td>FP-C</td>\n",
              "      <td>AB01</td>\n",
              "      <td>AB02</td>\n",
              "      <td>AB02</td>\n",
              "      <td>AB02</td>\n",
              "      <td>AB01</td>\n",
              "      <td>AB01</td>\n",
              "      <td>AB01</td>\n",
              "      <td>AB02</td>\n",
              "      <td>AB01</td>\n",
              "      <td>AB02</td>\n",
              "      <td>AB02</td>\n",
              "      <td>AB02</td>\n",
              "      <td>AB01</td>\n",
              "      <td>AB01</td>\n",
              "      <td>AB11</td>\n",
              "      <td>AB02</td>\n",
              "      <td>AB01</td>\n",
              "      <td>AB01</td>\n",
              "      <td>AB02</td>\n",
              "      <td>Normal</td>\n",
              "      <td>98.0</td>\n",
              "      <td>89.0</td>\n",
              "      <td>695.0</td>\n",
              "      <td>649.0</td>\n",
              "      <td>0.102421</td>\n",
              "      <td>0.099072</td>\n",
              "      <td>0.722533</td>\n",
              "      <td>0.721116</td>\n",
              "      <td>MildFattyLiver</td>\n",
              "      <td>0.583579</td>\n",
              "      <td>0.475191</td>\n",
              "      <td>0.423688</td>\n",
              "      <td>0.401063</td>\n",
              "      <td>0.378689</td>\n",
              "      <td>0.367804</td>\n",
              "      <td>0.419038</td>\n",
              "      <td>0.419449</td>\n",
              "      <td>0.399447</td>\n",
              "      <td>0.393700</td>\n",
              "      <td>0.393015</td>\n",
              "      <td>0.378313</td>\n",
              "      <td>0.393015</td>\n",
              "      <td>0.378992</td>\n",
              "      <td>0.379958</td>\n",
              "      <td>0.379958</td>\n",
              "      <td>0.385199</td>\n",
              "      <td>0.382576</td>\n",
              "      <td>0.382576</td>\n",
              "      <td>0.378313</td>\n",
              "    </tr>\n",
              "  </tbody>\n",
              "</table>\n",
              "</div>"
            ],
            "text/plain": [
              "   Unnamed: 0  Unnamed: 0.1  Unnamed: 0.1.1  ...    IoU187    IoU188    IoU189\n",
              "0           0             0               0  ...  0.268298  0.265478  0.264067\n",
              "1           1             1               1  ...  0.261641  0.257490  0.254983\n",
              "2           2             2               2  ...  0.382576  0.382576  0.378313\n",
              "\n",
              "[3 rows x 76 columns]"
            ]
          },
          "metadata": {
            "tags": []
          },
          "execution_count": 100
        }
      ]
    },
    {
      "cell_type": "code",
      "metadata": {
        "id": "V2DTIh_aJrHq"
      },
      "source": [
        "a = df[df.IoU186<=0.3]\n",
        "b = df[df.IoU186>0.8]\n",
        "# aa = a.IoU186.tolist()\n",
        "# bb = b.IoU186.tolist()"
      ],
      "execution_count": 124,
      "outputs": []
    },
    {
      "cell_type": "code",
      "metadata": {
        "id": "j_R9dxL4MGMk"
      },
      "source": [
        "GP5 =['B10_Pred1','B11_Pred2','B12_Pred2','U10_Pred','U11_Pred2','U20_Pred2','U21_Pred','U30_Pred','U31_Pred2','U40_Pred2','U41_Pred']"
      ],
      "execution_count": 125,
      "outputs": []
    },
    {
      "cell_type": "code",
      "metadata": {
        "colab": {
          "base_uri": "https://localhost:8080/"
        },
        "id": "0JrwzRQXMK-M",
        "outputId": "93c92207-dc13-4663-f11b-40d51ae9b819"
      },
      "source": [
        "per = GP5\n",
        "aa = list()\n",
        "probmore=a\n",
        "for j in per:\n",
        "    import numpy as np\n",
        "    from sklearn.metrics import confusion_matrix\n",
        "    from sklearn.metrics import classification_report,confusion_matrix\n",
        "    act = probmore['category'].array\n",
        "    pred = probmore[j].array\n",
        "    cmat = confusion_matrix(act, pred)\n",
        "    acc = (np.trace(cmat))/(np.sum(cmat))\n",
        "    Recall = classification_report(act, pred).split()[-9]\n",
        "    Prec = classification_report(act, pred).split()[-10] \n",
        "    aa.append({'per':j,'tagName':'G1','acc':acc,'Prec':Prec,'Recall':Recall,'count':len(act)})\n",
        "df1 = pd.DataFrame(aa)"
      ],
      "execution_count": 126,
      "outputs": [
        {
          "output_type": "stream",
          "text": [
            "/usr/local/lib/python3.7/dist-packages/sklearn/metrics/_classification.py:1272: UndefinedMetricWarning: Precision and F-score are ill-defined and being set to 0.0 in labels with no predicted samples. Use `zero_division` parameter to control this behavior.\n",
            "  _warn_prf(average, modifier, msg_start, len(result))\n",
            "/usr/local/lib/python3.7/dist-packages/sklearn/metrics/_classification.py:1272: UndefinedMetricWarning: Recall and F-score are ill-defined and being set to 0.0 in labels with no true samples. Use `zero_division` parameter to control this behavior.\n",
            "  _warn_prf(average, modifier, msg_start, len(result))\n"
          ],
          "name": "stderr"
        }
      ]
    },
    {
      "cell_type": "code",
      "metadata": {
        "colab": {
          "base_uri": "https://localhost:8080/"
        },
        "id": "ANrQ0COxMV6e",
        "outputId": "d7ed1d6c-2912-410e-aefc-9e4d4e287538"
      },
      "source": [
        "per = GP5\n",
        "aa = list()\n",
        "probmore=b\n",
        "for j in per:\n",
        "    import numpy as np\n",
        "    from sklearn.metrics import confusion_matrix\n",
        "    from sklearn.metrics import classification_report,confusion_matrix\n",
        "    act = probmore['category'].array\n",
        "    pred = probmore[j].array\n",
        "    cmat = confusion_matrix(act, pred)\n",
        "    acc = (np.trace(cmat))/(np.sum(cmat))\n",
        "    Recall = classification_report(act, pred).split()[-9]\n",
        "    Prec = classification_report(act, pred).split()[-10] \n",
        "    aa.append({'per':j,'tagName':'G2','acc':acc,'Prec':Prec,'Recall':Recall,'count':len(act)})\n",
        "df2 = pd.DataFrame(aa)"
      ],
      "execution_count": 127,
      "outputs": [
        {
          "output_type": "stream",
          "text": [
            "/usr/local/lib/python3.7/dist-packages/sklearn/metrics/_classification.py:1272: UndefinedMetricWarning: Precision and F-score are ill-defined and being set to 0.0 in labels with no predicted samples. Use `zero_division` parameter to control this behavior.\n",
            "  _warn_prf(average, modifier, msg_start, len(result))\n",
            "/usr/local/lib/python3.7/dist-packages/sklearn/metrics/_classification.py:1272: UndefinedMetricWarning: Recall and F-score are ill-defined and being set to 0.0 in labels with no true samples. Use `zero_division` parameter to control this behavior.\n",
            "  _warn_prf(average, modifier, msg_start, len(result))\n"
          ],
          "name": "stderr"
        }
      ]
    },
    {
      "cell_type": "code",
      "metadata": {
        "id": "KojJoq-XLqSa"
      },
      "source": [
        "# result= pd.concat([df1, df2], ignore_index=True)\n",
        "# result"
      ],
      "execution_count": 131,
      "outputs": []
    },
    {
      "cell_type": "code",
      "metadata": {
        "id": "lEIaZEV_MybJ"
      },
      "source": [
        "G1 = df1.acc.tolist()\n",
        "G2 = df2.acc.tolist()"
      ],
      "execution_count": 129,
      "outputs": []
    },
    {
      "cell_type": "code",
      "metadata": {
        "colab": {
          "base_uri": "https://localhost:8080/",
          "height": 364
        },
        "id": "UtMOsRYUKnkY",
        "outputId": "d9aec376-67b3-4d9b-fec8-1cb31a0335fa"
      },
      "source": [
        "fig, ax = plt.subplots(figsize=(20, 5))\n",
        "x = [0,0.1,0.2,0.3,0.4,0.5,0.6,0.7,0.8,0.9,1.0]\n",
        "plt.plot(x, G1, color='#d6b4fc',alpha=1, linestyle='-', linewidth = 2, marker='.', markerfacecolor='#d6b4fc', markersize=8)\n",
        "plt.plot(x, G2, color='#856798',alpha=1, linestyle='-', linewidth = 2, marker='.', markerfacecolor='#856798', markersize=8)\n",
        "legend(['G1: IoU<0.3', 'G2: IoU>0.8'], bbox_to_anchor=(1.,1.))\n",
        "# plt.title('The difference within the groups (Recall) Abn&Nor',fontsize=20) \n",
        "plt.title('The difference within the groups of 15 abnormalities',fontsize=20) \n",
        "plt.xlabel('Performance.',fontsize=18)\n",
        "plt.ylabel('Similarity scores',fontsize=18)\n",
        "ax.set_xticks(x)\n",
        "labels = df1['per'].tolist()\n",
        "ax.set_xticklabels(labels,fontsize=10)\n",
        "\n",
        "show()\n"
      ],
      "execution_count": 132,
      "outputs": [
        {
          "output_type": "display_data",
          "data": {
            "image/png": "[encoded data removed]",
            "text/plain": [
              "<Figure size 1440x360 with 1 Axes>"
            ]
          },
          "metadata": {
            "tags": [],
            "needs_background": "light"
          }
        }
      ]
    },
    {
      "cell_type": "code",
      "metadata": {
        "id": "fgbGl7acC035"
      },
      "source": [
        "fig, ax = plt.subplots(figsize=(20, 5))\n",
        "\n",
        "E = result['Recall'].tolist()[0:11]\n",
        "H = result['Recall'].tolist()[11:22]\n",
        "D = result['Recall'].tolist()[22:33]\n",
        "x = [0,0.1,0.2,0.3,0.4,0.5,0.6,0.7,0.8,0.9,1.0]\n",
        "\n",
        "plt.plot(x, E, color='#d6b4fc',alpha=1, linestyle='-', linewidth = 2, marker='.', markerfacecolor='#d6b4fc', markersize=8)\n",
        "plt.plot(x, H, color='#856798',alpha=1, linestyle='-', linewidth = 2, marker='.', markerfacecolor='#856798', markersize=8)\n",
        "plt.plot(x, D, color='#6c3461',alpha=1, linestyle='-', linewidth = 2, marker='.', markerfacecolor='#6c3461', markersize=8)\n",
        "\n",
        "legend(['Easy', 'Hard','Difference'], bbox_to_anchor=(1.,1.))\n",
        "# plt.title('The difference within the groups (Recall) Abn&Nor',fontsize=20) \n",
        "plt.ylabel('Similarity scores',fontsize=18)\n",
        "plt.xlabel('Performance.',fontsize=18)\n",
        "plt.ylabel('Recall scores',fontsize=18)\n",
        "ax.set_xticks(x)\n",
        "labels = df1['per'].tolist()\n",
        "ax.set_xticklabels(labels,fontsize=10)\n",
        "\n",
        "show()"
      ],
      "execution_count": null,
      "outputs": []
    },
    {
      "cell_type": "markdown",
      "metadata": {
        "id": "HJrIhA5p_ykg"
      },
      "source": [
        "# Top-3 Graph"
      ]
    },
    {
      "cell_type": "code",
      "metadata": {
        "id": "_5SxrY91C1VO"
      },
      "source": [
        ""
      ],
      "execution_count": null,
      "outputs": []
    },
    {
      "cell_type": "code",
      "metadata": {
        "id": "vU8PZQ9KC1Y2"
      },
      "source": [
        ""
      ],
      "execution_count": null,
      "outputs": []
    },
    {
      "cell_type": "code",
      "metadata": {
        "id": "eW-YK2nMYImg"
      },
      "source": [
        ""
      ],
      "execution_count": null,
      "outputs": []
    }
  ]
}