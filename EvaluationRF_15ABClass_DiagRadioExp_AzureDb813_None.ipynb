{
 "cells": [
  {
   "cell_type": "code",
   "execution_count": 5,
   "metadata": {},
   "outputs": [],
   "source": [
    "import os\n",
    "os.environ[\"CUDA_VISIBLE_DEVICES\"]=\"\""
   ]
  },
  {
   "cell_type": "code",
   "execution_count": 6,
   "metadata": {},
   "outputs": [],
   "source": [
    "import os\n",
    "import numpy as np\n",
    "import pandas as pd"
   ]
  },
  {
   "cell_type": "code",
   "execution_count": 7,
   "metadata": {},
   "outputs": [],
   "source": [
    "#load model\n",
    "import pickle\n",
    "os.chdir('/media/tohn/SSD/ModelTrainByImages/R2_1/models/')\n",
    "filename = \"modelrf_EffNet5_b5_1FC_cross_15AB_15AB.pkl\"\n",
    "with open(filename, 'rb') as file:\n",
    "    model = pickle.load(file)"
   ]
  },
  {
   "cell_type": "code",
   "execution_count": 24,
   "metadata": {},
   "outputs": [],
   "source": [
    "# dataframe = pd.read_csv('/home/yupaporn/CCA_Project/FeatureVector_CCA_case_DiagRadioExp_AzureDb813.csv')\n",
    "# dataframe = pd.read_csv('/home/yupaporn/CCA_Project/FeatureVector_CCA_case_DiagRadioExp_AzureDb813_modelFull.csv')\n",
    "dataframe = pd.read_csv('/home/yupaporn/CCA_Project/FeatureVector_CCA_case_DiagRadioExp_AzureDb813_modelFull.csv')"
   ]
  },
  {
   "cell_type": "code",
   "execution_count": 25,
   "metadata": {},
   "outputs": [],
   "source": [
    "dataframe = dataframe[dataframe['Sub_Class_15AB'] != 'None']"
   ]
  },
  {
   "cell_type": "code",
   "execution_count": 26,
   "metadata": {},
   "outputs": [
    {
     "name": "stdout",
     "output_type": "stream",
     "text": [
      "(807, 2048)\n",
      "(807,)\n"
     ]
    }
   ],
   "source": [
    "X_test = dataframe.iloc[:,1:2049]\n",
    "y_test = dataframe.iloc[:,2055]\n",
    "print(X_test.shape)\n",
    "print(y_test.shape)"
   ]
  },
  {
   "cell_type": "code",
   "execution_count": 27,
   "metadata": {},
   "outputs": [
    {
     "data": {
      "text/plain": [
       "0      Normal\n",
       "1      Normal\n",
       "2        AB12\n",
       "3        AB12\n",
       "4        AB12\n",
       "        ...  \n",
       "808    Normal\n",
       "809    Normal\n",
       "810    Normal\n",
       "811    Normal\n",
       "812    Normal\n",
       "Name: category_BiTNet, Length: 807, dtype: object"
      ]
     },
     "execution_count": 27,
     "metadata": {},
     "output_type": "execute_result"
    }
   ],
   "source": [
    "y_test"
   ]
  },
  {
   "cell_type": "code",
   "execution_count": 28,
   "metadata": {},
   "outputs": [],
   "source": [
    "labels = {0: 'AB01', 1: 'AB02', 2: 'AB03', 3: 'AB04', 4: 'AB05', 5: 'AB06', 6: 'AB07', 7: 'AB081', 8: 'AB082', 9: 'AB083', 10: 'AB09', 11: 'AB10', 12: 'AB11', 13: 'AB12', 14: 'Normal'}"
   ]
  },
  {
   "cell_type": "code",
   "execution_count": 29,
   "metadata": {},
   "outputs": [],
   "source": [
    "pred_list = list()\n",
    "prob_list = list()\n",
    "y_pred = model.predict(X_test)\n",
    "y_prob = model.predict_proba(X_test)\n",
    "for i in range(0,len(y_prob)):\n",
    "    result = y_prob[i]\n",
    "    re_class = list()\n",
    "    re_prop = list()  \n",
    "    maxx = np.argmax(result)\n",
    "    re_class=labels[maxx]\n",
    "    re_prop = result[14]\n",
    "    pred_list.append(re_class)\n",
    "    prob_list.append(re_prop)"
   ]
  },
  {
   "cell_type": "code",
   "execution_count": 30,
   "metadata": {},
   "outputs": [],
   "source": [
    "dataframe['category_BiTNet'] = pred_list\n",
    "dataframe['Prob_BiTNet'] = prob_list"
   ]
  },
  {
   "cell_type": "code",
   "execution_count": 31,
   "metadata": {},
   "outputs": [
    {
     "data": {
      "text/html": [
       "<div>\n",
       "<style scoped>\n",
       "    .dataframe tbody tr th:only-of-type {\n",
       "        vertical-align: middle;\n",
       "    }\n",
       "\n",
       "    .dataframe tbody tr th {\n",
       "        vertical-align: top;\n",
       "    }\n",
       "\n",
       "    .dataframe thead th {\n",
       "        text-align: right;\n",
       "    }\n",
       "</style>\n",
       "<table border=\"1\" class=\"dataframe\">\n",
       "  <thead>\n",
       "    <tr style=\"text-align: right;\">\n",
       "      <th></th>\n",
       "      <th>Unnamed: 0</th>\n",
       "      <th>0</th>\n",
       "      <th>1</th>\n",
       "      <th>2</th>\n",
       "      <th>3</th>\n",
       "      <th>4</th>\n",
       "      <th>5</th>\n",
       "      <th>6</th>\n",
       "      <th>7</th>\n",
       "      <th>8</th>\n",
       "      <th>...</th>\n",
       "      <th>2047</th>\n",
       "      <th>FileName</th>\n",
       "      <th>Case</th>\n",
       "      <th>Path crop</th>\n",
       "      <th>Class</th>\n",
       "      <th>Sub_Class_15AB</th>\n",
       "      <th>Views_</th>\n",
       "      <th>category_BiTNet</th>\n",
       "      <th>Prob</th>\n",
       "      <th>Prob_BiTNet</th>\n",
       "    </tr>\n",
       "  </thead>\n",
       "  <tbody>\n",
       "    <tr>\n",
       "      <th>0</th>\n",
       "      <td>0</td>\n",
       "      <td>0.203359</td>\n",
       "      <td>0.199760</td>\n",
       "      <td>-0.184848</td>\n",
       "      <td>-0.098532</td>\n",
       "      <td>-0.013952</td>\n",
       "      <td>0.472806</td>\n",
       "      <td>-0.116408</td>\n",
       "      <td>0.007638</td>\n",
       "      <td>0.059848</td>\n",
       "      <td>...</td>\n",
       "      <td>0.167188</td>\n",
       "      <td>12215_9.jpg</td>\n",
       "      <td>12215</td>\n",
       "      <td>/media/tohn/SSD/ImageFromAzureDB_IsanCohort_cr...</td>\n",
       "      <td>Normal</td>\n",
       "      <td>Normal</td>\n",
       "      <td>FP-B</td>\n",
       "      <td>Normal</td>\n",
       "      <td>0.947677</td>\n",
       "      <td>0.496420</td>\n",
       "    </tr>\n",
       "    <tr>\n",
       "      <th>1</th>\n",
       "      <td>1</td>\n",
       "      <td>-0.040840</td>\n",
       "      <td>0.262666</td>\n",
       "      <td>-0.153789</td>\n",
       "      <td>-0.099390</td>\n",
       "      <td>-0.177379</td>\n",
       "      <td>-0.064506</td>\n",
       "      <td>-0.068917</td>\n",
       "      <td>-0.213335</td>\n",
       "      <td>0.529789</td>\n",
       "      <td>...</td>\n",
       "      <td>0.085569</td>\n",
       "      <td>12215_8.jpg</td>\n",
       "      <td>12215</td>\n",
       "      <td>/media/tohn/SSD/ImageFromAzureDB_IsanCohort_cr...</td>\n",
       "      <td>Normal</td>\n",
       "      <td>Normal</td>\n",
       "      <td>FP-B</td>\n",
       "      <td>Normal</td>\n",
       "      <td>0.728153</td>\n",
       "      <td>0.250271</td>\n",
       "    </tr>\n",
       "    <tr>\n",
       "      <th>2</th>\n",
       "      <td>2</td>\n",
       "      <td>-0.001243</td>\n",
       "      <td>0.018200</td>\n",
       "      <td>-0.125296</td>\n",
       "      <td>-0.122112</td>\n",
       "      <td>-0.181850</td>\n",
       "      <td>-0.081947</td>\n",
       "      <td>-0.152434</td>\n",
       "      <td>-0.224691</td>\n",
       "      <td>-0.160313</td>\n",
       "      <td>...</td>\n",
       "      <td>-0.074706</td>\n",
       "      <td>12215_7.jpg</td>\n",
       "      <td>12215</td>\n",
       "      <td>/media/tohn/SSD/ImageFromAzureDB_IsanCohort_cr...</td>\n",
       "      <td>Normal</td>\n",
       "      <td>Normal</td>\n",
       "      <td>FP-C</td>\n",
       "      <td>AB12</td>\n",
       "      <td>0.999998</td>\n",
       "      <td>0.058297</td>\n",
       "    </tr>\n",
       "    <tr>\n",
       "      <th>3</th>\n",
       "      <td>3</td>\n",
       "      <td>0.048955</td>\n",
       "      <td>0.135096</td>\n",
       "      <td>-0.152800</td>\n",
       "      <td>-0.184129</td>\n",
       "      <td>-0.202729</td>\n",
       "      <td>0.096376</td>\n",
       "      <td>-0.144791</td>\n",
       "      <td>-0.202041</td>\n",
       "      <td>-0.127833</td>\n",
       "      <td>...</td>\n",
       "      <td>0.008306</td>\n",
       "      <td>12215_6.jpg</td>\n",
       "      <td>12215</td>\n",
       "      <td>/media/tohn/SSD/ImageFromAzureDB_IsanCohort_cr...</td>\n",
       "      <td>Normal</td>\n",
       "      <td>Normal</td>\n",
       "      <td>FP-C</td>\n",
       "      <td>AB12</td>\n",
       "      <td>0.941997</td>\n",
       "      <td>0.399343</td>\n",
       "    </tr>\n",
       "    <tr>\n",
       "      <th>4</th>\n",
       "      <td>4</td>\n",
       "      <td>-0.153857</td>\n",
       "      <td>0.194617</td>\n",
       "      <td>-0.149463</td>\n",
       "      <td>-0.161262</td>\n",
       "      <td>-0.201524</td>\n",
       "      <td>-0.151863</td>\n",
       "      <td>-0.165302</td>\n",
       "      <td>-0.123635</td>\n",
       "      <td>0.128445</td>\n",
       "      <td>...</td>\n",
       "      <td>-0.024667</td>\n",
       "      <td>12215_5.jpg</td>\n",
       "      <td>12215</td>\n",
       "      <td>/media/tohn/SSD/ImageFromAzureDB_IsanCohort_cr...</td>\n",
       "      <td>Normal</td>\n",
       "      <td>Normal</td>\n",
       "      <td>FP-C</td>\n",
       "      <td>AB12</td>\n",
       "      <td>0.999980</td>\n",
       "      <td>0.169622</td>\n",
       "    </tr>\n",
       "    <tr>\n",
       "      <th>...</th>\n",
       "      <td>...</td>\n",
       "      <td>...</td>\n",
       "      <td>...</td>\n",
       "      <td>...</td>\n",
       "      <td>...</td>\n",
       "      <td>...</td>\n",
       "      <td>...</td>\n",
       "      <td>...</td>\n",
       "      <td>...</td>\n",
       "      <td>...</td>\n",
       "      <td>...</td>\n",
       "      <td>...</td>\n",
       "      <td>...</td>\n",
       "      <td>...</td>\n",
       "      <td>...</td>\n",
       "      <td>...</td>\n",
       "      <td>...</td>\n",
       "      <td>...</td>\n",
       "      <td>...</td>\n",
       "      <td>...</td>\n",
       "      <td>...</td>\n",
       "    </tr>\n",
       "    <tr>\n",
       "      <th>808</th>\n",
       "      <td>808</td>\n",
       "      <td>0.589089</td>\n",
       "      <td>1.023898</td>\n",
       "      <td>-0.154509</td>\n",
       "      <td>-0.116566</td>\n",
       "      <td>0.550815</td>\n",
       "      <td>0.209012</td>\n",
       "      <td>-0.051862</td>\n",
       "      <td>0.125612</td>\n",
       "      <td>-0.029306</td>\n",
       "      <td>...</td>\n",
       "      <td>0.727066</td>\n",
       "      <td>12150_13.jpg</td>\n",
       "      <td>12150</td>\n",
       "      <td>/media/tohn/SSD/ImageFromAzureDB_IsanCohort_cr...</td>\n",
       "      <td>Normal</td>\n",
       "      <td>Normal</td>\n",
       "      <td>FP-B</td>\n",
       "      <td>Normal</td>\n",
       "      <td>1.000000</td>\n",
       "      <td>0.993500</td>\n",
       "    </tr>\n",
       "    <tr>\n",
       "      <th>809</th>\n",
       "      <td>809</td>\n",
       "      <td>0.047955</td>\n",
       "      <td>0.225766</td>\n",
       "      <td>-0.179531</td>\n",
       "      <td>-0.126144</td>\n",
       "      <td>0.202625</td>\n",
       "      <td>0.331322</td>\n",
       "      <td>-0.052787</td>\n",
       "      <td>0.070805</td>\n",
       "      <td>0.542371</td>\n",
       "      <td>...</td>\n",
       "      <td>0.499964</td>\n",
       "      <td>12150_12.jpg</td>\n",
       "      <td>12150</td>\n",
       "      <td>/media/tohn/SSD/ImageFromAzureDB_IsanCohort_cr...</td>\n",
       "      <td>Normal</td>\n",
       "      <td>Normal</td>\n",
       "      <td>FP-B</td>\n",
       "      <td>Normal</td>\n",
       "      <td>1.000000</td>\n",
       "      <td>0.965200</td>\n",
       "    </tr>\n",
       "    <tr>\n",
       "      <th>810</th>\n",
       "      <td>810</td>\n",
       "      <td>0.276688</td>\n",
       "      <td>0.288525</td>\n",
       "      <td>-0.116330</td>\n",
       "      <td>-0.079801</td>\n",
       "      <td>-0.061018</td>\n",
       "      <td>-0.070026</td>\n",
       "      <td>-0.071984</td>\n",
       "      <td>0.189211</td>\n",
       "      <td>0.279064</td>\n",
       "      <td>...</td>\n",
       "      <td>0.103507</td>\n",
       "      <td>12150_11.jpg</td>\n",
       "      <td>12150</td>\n",
       "      <td>/media/tohn/SSD/ImageFromAzureDB_IsanCohort_cr...</td>\n",
       "      <td>Normal</td>\n",
       "      <td>Normal</td>\n",
       "      <td>FP-C</td>\n",
       "      <td>Normal</td>\n",
       "      <td>0.999914</td>\n",
       "      <td>0.511917</td>\n",
       "    </tr>\n",
       "    <tr>\n",
       "      <th>811</th>\n",
       "      <td>811</td>\n",
       "      <td>-0.024091</td>\n",
       "      <td>0.032178</td>\n",
       "      <td>-0.052789</td>\n",
       "      <td>-0.125494</td>\n",
       "      <td>0.172052</td>\n",
       "      <td>-0.001986</td>\n",
       "      <td>-0.058659</td>\n",
       "      <td>-0.168698</td>\n",
       "      <td>-0.061381</td>\n",
       "      <td>...</td>\n",
       "      <td>0.277735</td>\n",
       "      <td>12150_10.jpg</td>\n",
       "      <td>12150</td>\n",
       "      <td>/media/tohn/SSD/ImageFromAzureDB_IsanCohort_cr...</td>\n",
       "      <td>Normal</td>\n",
       "      <td>Normal</td>\n",
       "      <td>FP-C</td>\n",
       "      <td>Normal</td>\n",
       "      <td>0.937677</td>\n",
       "      <td>0.428382</td>\n",
       "    </tr>\n",
       "    <tr>\n",
       "      <th>812</th>\n",
       "      <td>812</td>\n",
       "      <td>0.070258</td>\n",
       "      <td>0.613982</td>\n",
       "      <td>-0.144177</td>\n",
       "      <td>-0.133298</td>\n",
       "      <td>0.152682</td>\n",
       "      <td>0.177256</td>\n",
       "      <td>-0.094049</td>\n",
       "      <td>-0.097923</td>\n",
       "      <td>-0.160664</td>\n",
       "      <td>...</td>\n",
       "      <td>0.380106</td>\n",
       "      <td>12150_1.jpg</td>\n",
       "      <td>12150</td>\n",
       "      <td>/media/tohn/SSD/ImageFromAzureDB_IsanCohort_cr...</td>\n",
       "      <td>Normal</td>\n",
       "      <td>Normal</td>\n",
       "      <td>FP-C</td>\n",
       "      <td>Normal</td>\n",
       "      <td>0.999987</td>\n",
       "      <td>0.576555</td>\n",
       "    </tr>\n",
       "  </tbody>\n",
       "</table>\n",
       "<p>807 rows × 2058 columns</p>\n",
       "</div>"
      ],
      "text/plain": [
       "     Unnamed: 0         0         1         2         3         4         5  \\\n",
       "0             0  0.203359  0.199760 -0.184848 -0.098532 -0.013952  0.472806   \n",
       "1             1 -0.040840  0.262666 -0.153789 -0.099390 -0.177379 -0.064506   \n",
       "2             2 -0.001243  0.018200 -0.125296 -0.122112 -0.181850 -0.081947   \n",
       "3             3  0.048955  0.135096 -0.152800 -0.184129 -0.202729  0.096376   \n",
       "4             4 -0.153857  0.194617 -0.149463 -0.161262 -0.201524 -0.151863   \n",
       "..          ...       ...       ...       ...       ...       ...       ...   \n",
       "808         808  0.589089  1.023898 -0.154509 -0.116566  0.550815  0.209012   \n",
       "809         809  0.047955  0.225766 -0.179531 -0.126144  0.202625  0.331322   \n",
       "810         810  0.276688  0.288525 -0.116330 -0.079801 -0.061018 -0.070026   \n",
       "811         811 -0.024091  0.032178 -0.052789 -0.125494  0.172052 -0.001986   \n",
       "812         812  0.070258  0.613982 -0.144177 -0.133298  0.152682  0.177256   \n",
       "\n",
       "            6         7         8  ...      2047      FileName   Case  \\\n",
       "0   -0.116408  0.007638  0.059848  ...  0.167188   12215_9.jpg  12215   \n",
       "1   -0.068917 -0.213335  0.529789  ...  0.085569   12215_8.jpg  12215   \n",
       "2   -0.152434 -0.224691 -0.160313  ... -0.074706   12215_7.jpg  12215   \n",
       "3   -0.144791 -0.202041 -0.127833  ...  0.008306   12215_6.jpg  12215   \n",
       "4   -0.165302 -0.123635  0.128445  ... -0.024667   12215_5.jpg  12215   \n",
       "..        ...       ...       ...  ...       ...           ...    ...   \n",
       "808 -0.051862  0.125612 -0.029306  ...  0.727066  12150_13.jpg  12150   \n",
       "809 -0.052787  0.070805  0.542371  ...  0.499964  12150_12.jpg  12150   \n",
       "810 -0.071984  0.189211  0.279064  ...  0.103507  12150_11.jpg  12150   \n",
       "811 -0.058659 -0.168698 -0.061381  ...  0.277735  12150_10.jpg  12150   \n",
       "812 -0.094049 -0.097923 -0.160664  ...  0.380106   12150_1.jpg  12150   \n",
       "\n",
       "                                             Path crop   Class  \\\n",
       "0    /media/tohn/SSD/ImageFromAzureDB_IsanCohort_cr...  Normal   \n",
       "1    /media/tohn/SSD/ImageFromAzureDB_IsanCohort_cr...  Normal   \n",
       "2    /media/tohn/SSD/ImageFromAzureDB_IsanCohort_cr...  Normal   \n",
       "3    /media/tohn/SSD/ImageFromAzureDB_IsanCohort_cr...  Normal   \n",
       "4    /media/tohn/SSD/ImageFromAzureDB_IsanCohort_cr...  Normal   \n",
       "..                                                 ...     ...   \n",
       "808  /media/tohn/SSD/ImageFromAzureDB_IsanCohort_cr...  Normal   \n",
       "809  /media/tohn/SSD/ImageFromAzureDB_IsanCohort_cr...  Normal   \n",
       "810  /media/tohn/SSD/ImageFromAzureDB_IsanCohort_cr...  Normal   \n",
       "811  /media/tohn/SSD/ImageFromAzureDB_IsanCohort_cr...  Normal   \n",
       "812  /media/tohn/SSD/ImageFromAzureDB_IsanCohort_cr...  Normal   \n",
       "\n",
       "     Sub_Class_15AB  Views_  category_BiTNet      Prob  Prob_BiTNet  \n",
       "0            Normal    FP-B           Normal  0.947677     0.496420  \n",
       "1            Normal    FP-B           Normal  0.728153     0.250271  \n",
       "2            Normal    FP-C             AB12  0.999998     0.058297  \n",
       "3            Normal    FP-C             AB12  0.941997     0.399343  \n",
       "4            Normal    FP-C             AB12  0.999980     0.169622  \n",
       "..              ...     ...              ...       ...          ...  \n",
       "808          Normal    FP-B           Normal  1.000000     0.993500  \n",
       "809          Normal    FP-B           Normal  1.000000     0.965200  \n",
       "810          Normal    FP-C           Normal  0.999914     0.511917  \n",
       "811          Normal    FP-C           Normal  0.937677     0.428382  \n",
       "812          Normal    FP-C           Normal  0.999987     0.576555  \n",
       "\n",
       "[807 rows x 2058 columns]"
      ]
     },
     "execution_count": 31,
     "metadata": {},
     "output_type": "execute_result"
    }
   ],
   "source": [
    "dataframe"
   ]
  },
  {
   "cell_type": "code",
   "execution_count": 32,
   "metadata": {},
   "outputs": [],
   "source": [
    "os.chdir( '/home/yupaporn/CCA_Project')\n",
    "#dataframe.to_csv('result_BiTNet_DiagRadioExp_AzureDb813_modelFull.csv')"
   ]
  },
  {
   "cell_type": "markdown",
   "metadata": {},
   "source": [
    "# Evaluation"
   ]
  },
  {
   "cell_type": "code",
   "execution_count": 33,
   "metadata": {},
   "outputs": [
    {
     "name": "stdout",
     "output_type": "stream",
     "text": [
      "Predicted :  11\n",
      "{'AB03', 'AB09', 'Normal', 'AB05', 'AB081', 'AB04', 'AB082', 'AB02', 'AB12', 'AB01', 'AB07'}\n",
      "Actual :  10\n",
      "{'AB11', 'AB09', 'AB03', 'Normal', 'AB05', 'AB081', 'AB02', 'AB10', 'AB06', 'AB01'}\n"
     ]
    }
   ],
   "source": [
    "data_train = dataframe\n",
    "#เช็คคลาสใน Predicted\n",
    "pred_class = set(data_train['category_BiTNet'])\n",
    "print('Predicted : ',len(pred_class))\n",
    "print(pred_class)\n",
    "#เช็คคลาสใน Actual\n",
    "classe = set(data_train['Sub_Class_15AB'])\n",
    "print('Actual : ',len(classe))\n",
    "print(classe)"
   ]
  },
  {
   "cell_type": "code",
   "execution_count": 34,
   "metadata": {},
   "outputs": [
    {
     "name": "stdout",
     "output_type": "stream",
     "text": [
      "classifier accuracy = 65.67534076827756%\n",
      "              precision    recall  f1-score   support\n",
      "\n",
      "        AB01       0.33      0.05      0.09        20\n",
      "        AB02       0.00      0.00      0.00         8\n",
      "        AB03       1.00      0.50      0.67         8\n",
      "        AB04       0.00      0.00      0.00         0\n",
      "        AB05       0.00      0.00      0.00         1\n",
      "        AB06       0.00      0.00      0.00         3\n",
      "        AB07       0.00      0.00      0.00         0\n",
      "       AB081       0.00      0.00      0.00         2\n",
      "       AB082       0.00      0.00      0.00         0\n",
      "        AB09       0.50      0.25      0.33         4\n",
      "        AB10       0.00      0.00      0.00         6\n",
      "        AB11       0.00      0.00      0.00        10\n",
      "        AB12       0.00      0.00      0.00         0\n",
      "      Normal       0.96      0.70      0.81       745\n",
      "\n",
      "    accuracy                           0.66       807\n",
      "   macro avg       0.20      0.11      0.14       807\n",
      "weighted avg       0.91      0.66      0.76       807\n",
      "\n"
     ]
    },
    {
     "name": "stderr",
     "output_type": "stream",
     "text": [
      "/home/yupaporn/miniconda3/envs/USAI3/lib/python3.6/site-packages/sklearn/metrics/_classification.py:1248: UndefinedMetricWarning: Precision and F-score are ill-defined and being set to 0.0 in labels with no predicted samples. Use `zero_division` parameter to control this behavior.\n",
      "  _warn_prf(average, modifier, msg_start, len(result))\n",
      "/home/yupaporn/miniconda3/envs/USAI3/lib/python3.6/site-packages/sklearn/metrics/_classification.py:1248: UndefinedMetricWarning: Recall and F-score are ill-defined and being set to 0.0 in labels with no true samples. Use `zero_division` parameter to control this behavior.\n",
      "  _warn_prf(average, modifier, msg_start, len(result))\n",
      "/home/yupaporn/miniconda3/envs/USAI3/lib/python3.6/site-packages/sklearn/metrics/_classification.py:1248: UndefinedMetricWarning: Precision and F-score are ill-defined and being set to 0.0 in labels with no predicted samples. Use `zero_division` parameter to control this behavior.\n",
      "  _warn_prf(average, modifier, msg_start, len(result))\n",
      "/home/yupaporn/miniconda3/envs/USAI3/lib/python3.6/site-packages/sklearn/metrics/_classification.py:1248: UndefinedMetricWarning: Recall and F-score are ill-defined and being set to 0.0 in labels with no true samples. Use `zero_division` parameter to control this behavior.\n",
      "  _warn_prf(average, modifier, msg_start, len(result))\n",
      "/home/yupaporn/miniconda3/envs/USAI3/lib/python3.6/site-packages/sklearn/metrics/_classification.py:1248: UndefinedMetricWarning: Precision and F-score are ill-defined and being set to 0.0 in labels with no predicted samples. Use `zero_division` parameter to control this behavior.\n",
      "  _warn_prf(average, modifier, msg_start, len(result))\n",
      "/home/yupaporn/miniconda3/envs/USAI3/lib/python3.6/site-packages/sklearn/metrics/_classification.py:1248: UndefinedMetricWarning: Recall and F-score are ill-defined and being set to 0.0 in labels with no true samples. Use `zero_division` parameter to control this behavior.\n",
      "  _warn_prf(average, modifier, msg_start, len(result))\n"
     ]
    }
   ],
   "source": [
    "import numpy as np\n",
    "from sklearn.metrics import confusion_matrix\n",
    "act = data_train['Sub_Class_15AB'].array\n",
    "pred = data_train['category_BiTNet'].array\n",
    "\n",
    "cmat = confusion_matrix(act, pred)\n",
    "print('classifier accuracy = {}%'.format((100.*np.trace(cmat))/(np.sum(cmat))))\n",
    "\n",
    "#Marking the Confusion Matrix\n",
    "from sklearn.metrics import classification_report,confusion_matrix\n",
    "print(classification_report(act, pred))#performance"
   ]
  },
  {
   "cell_type": "markdown",
   "metadata": {},
   "source": [
    "# ทำนายกรณี ouside:"
   ]
  },
  {
   "cell_type": "code",
   "execution_count": 35,
   "metadata": {},
   "outputs": [
    {
     "name": "stdout",
     "output_type": "stream",
     "text": [
      "(6, 2048)\n",
      "(6,)\n"
     ]
    }
   ],
   "source": [
    "dataframe = pd.read_csv('/home/yupaporn/CCA_Project/FeatureVector_CCA_case_DiagRadioExp_AzureDb813_modelFull.csv')\n",
    "dataframe = dataframe[dataframe['Sub_Class_15AB'] == 'None']\n",
    "X_test = dataframe.iloc[:,1:2049]\n",
    "y_test = dataframe.iloc[:,2055]\n",
    "print(X_test.shape)\n",
    "print(y_test.shape)"
   ]
  },
  {
   "cell_type": "code",
   "execution_count": 48,
   "metadata": {},
   "outputs": [],
   "source": [
    "pred_list = list()\n",
    "prob_list = list()\n",
    "y_pred = model.predict(X_test)\n",
    "y_prob = model.predict_proba(X_test)\n",
    "for i in range(0,len(y_prob)):\n",
    "    result = y_prob[i]\n",
    "    re_class = list()\n",
    "    re_prop = list()  \n",
    "    maxx = np.argmax(result)\n",
    "    re_class=labels[maxx]\n",
    "    re_prop = result[maxx]\n",
    "    pred_list.append(re_class)\n",
    "    prob_list.append(re_prop)"
   ]
  },
  {
   "cell_type": "code",
   "execution_count": 49,
   "metadata": {},
   "outputs": [],
   "source": [
    "dataframe['category_BiTNet'] = pred_list\n",
    "dataframe['Prob_BiTNet'] = prob_list"
   ]
  },
  {
   "cell_type": "code",
   "execution_count": 50,
   "metadata": {},
   "outputs": [
    {
     "data": {
      "text/plain": [
       "[0.44379650274656335,\n",
       " 0.8307587445567535,\n",
       " 0.5255832128450824,\n",
       " 0.6888737681461481,\n",
       " 0.8125178776074,\n",
       " 0.43670461193760546]"
      ]
     },
     "execution_count": 50,
     "metadata": {},
     "output_type": "execute_result"
    }
   ],
   "source": [
    "prob_list"
   ]
  },
  {
   "cell_type": "code",
   "execution_count": 51,
   "metadata": {},
   "outputs": [
    {
     "data": {
      "text/plain": [
       "['Normal', 'Normal', 'AB12', 'AB12', 'AB12', 'AB12']"
      ]
     },
     "execution_count": 51,
     "metadata": {},
     "output_type": "execute_result"
    }
   ],
   "source": [
    "pred_list"
   ]
  },
  {
   "cell_type": "code",
   "execution_count": 42,
   "metadata": {},
   "outputs": [
    {
     "data": {
      "text/plain": [
       "1.1005011122852069"
      ]
     },
     "execution_count": 42,
     "metadata": {},
     "output_type": "execute_result"
    }
   ],
   "source": [
    "0.07336674081901379*15"
   ]
  },
  {
   "cell_type": "code",
   "execution_count": 43,
   "metadata": {},
   "outputs": [
    {
     "data": {
      "text/plain": [
       "0.25016374066025016"
      ]
     },
     "execution_count": 43,
     "metadata": {},
     "output_type": "execute_result"
    }
   ],
   "source": [
    "0.016677582710683342*15"
   ]
  },
  {
   "cell_type": "code",
   "execution_count": 47,
   "metadata": {},
   "outputs": [
    {
     "data": {
      "text/plain": [
       "0.43670461193760546"
      ]
     },
     "execution_count": 47,
     "metadata": {},
     "output_type": "execute_result"
    }
   ],
   "source": [
    "result[maxx]"
   ]
  },
  {
   "cell_type": "code",
   "execution_count": null,
   "metadata": {},
   "outputs": [],
   "source": []
  }
 ],
 "metadata": {
  "kernelspec": {
   "display_name": "USAI3",
   "language": "python",
   "name": "usai3"
  },
  "language_info": {
   "codemirror_mode": {
    "name": "ipython",
    "version": 3
   },
   "file_extension": ".py",
   "mimetype": "text/x-python",
   "name": "python",
   "nbconvert_exporter": "python",
   "pygments_lexer": "ipython3",
   "version": "3.6.9"
  }
 },
 "nbformat": 4,
 "nbformat_minor": 4
}
