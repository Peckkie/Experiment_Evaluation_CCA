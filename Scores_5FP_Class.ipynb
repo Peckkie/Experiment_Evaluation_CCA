{
 "cells": [
  {
   "cell_type": "code",
   "execution_count": 1,
   "metadata": {},
   "outputs": [
    {
     "name": "stdout",
     "output_type": "stream",
     "text": [
      "Total :  5257\n",
      "Abnormal :  1823\n",
      "Normal :  3434\n"
     ]
    }
   ],
   "source": [
    "import pandas as pd\n",
    "import numpy as np\n",
    "df0 = pd.read_csv (r'/home/yupaporn/codes/USAI/Data_tagName_Final.csv')\n",
    "df = df0[(df0['Path Crop']!='None' )&(df0['Path Crop']!='Nan')]\n",
    "df = df[(df['fold']!=1)&(df['fold']!=2)]\n",
    "df = df.drop(['Unnamed: 0'], axis=1)\n",
    "Abnormal = df[df['Class'] == 'Abnormal']\n",
    "Normal = df[df['Class'] == 'Normal']\n",
    "print('Total : ',len(df))\n",
    "print('Abnormal : ',len(Abnormal))\n",
    "print('Normal : ',len(Normal))"
   ]
  },
  {
   "cell_type": "code",
   "execution_count": 2,
   "metadata": {},
   "outputs": [],
   "source": [
    "values = {'Sub_class_New': 'Normal'}\n",
    "df =df.fillna(value=values)"
   ]
  },
  {
   "cell_type": "code",
   "execution_count": 3,
   "metadata": {},
   "outputs": [
    {
     "data": {
      "text/html": [
       "<div>\n",
       "<style scoped>\n",
       "    .dataframe tbody tr th:only-of-type {\n",
       "        vertical-align: middle;\n",
       "    }\n",
       "\n",
       "    .dataframe tbody tr th {\n",
       "        vertical-align: top;\n",
       "    }\n",
       "\n",
       "    .dataframe thead th {\n",
       "        text-align: right;\n",
       "    }\n",
       "</style>\n",
       "<table border=\"1\" class=\"dataframe\">\n",
       "  <thead>\n",
       "    <tr style=\"text-align: right;\">\n",
       "      <th>15AB Class</th>\n",
       "      <th>AB01</th>\n",
       "      <th>AB02</th>\n",
       "      <th>AB03</th>\n",
       "      <th>AB04</th>\n",
       "      <th>AB05</th>\n",
       "      <th>AB06</th>\n",
       "      <th>AB07</th>\n",
       "      <th>AB081</th>\n",
       "      <th>AB082</th>\n",
       "      <th>AB083</th>\n",
       "      <th>AB09</th>\n",
       "      <th>AB10</th>\n",
       "      <th>AB11</th>\n",
       "      <th>AB12</th>\n",
       "      <th>Normal</th>\n",
       "    </tr>\n",
       "    <tr>\n",
       "      <th>5-FP Class</th>\n",
       "      <th></th>\n",
       "      <th></th>\n",
       "      <th></th>\n",
       "      <th></th>\n",
       "      <th></th>\n",
       "      <th></th>\n",
       "      <th></th>\n",
       "      <th></th>\n",
       "      <th></th>\n",
       "      <th></th>\n",
       "      <th></th>\n",
       "      <th></th>\n",
       "      <th></th>\n",
       "      <th></th>\n",
       "      <th></th>\n",
       "    </tr>\n",
       "  </thead>\n",
       "  <tbody>\n",
       "    <tr>\n",
       "      <th>FP-A</th>\n",
       "      <td>84</td>\n",
       "      <td>109</td>\n",
       "      <td>42</td>\n",
       "      <td>84</td>\n",
       "      <td>34</td>\n",
       "      <td>59</td>\n",
       "      <td>2</td>\n",
       "      <td>22</td>\n",
       "      <td>21</td>\n",
       "      <td>8</td>\n",
       "      <td>0</td>\n",
       "      <td>0</td>\n",
       "      <td>0</td>\n",
       "      <td>0</td>\n",
       "      <td>596</td>\n",
       "    </tr>\n",
       "    <tr>\n",
       "      <th>FP-B</th>\n",
       "      <td>130</td>\n",
       "      <td>101</td>\n",
       "      <td>26</td>\n",
       "      <td>37</td>\n",
       "      <td>60</td>\n",
       "      <td>5</td>\n",
       "      <td>51</td>\n",
       "      <td>57</td>\n",
       "      <td>48</td>\n",
       "      <td>23</td>\n",
       "      <td>2</td>\n",
       "      <td>0</td>\n",
       "      <td>0</td>\n",
       "      <td>0</td>\n",
       "      <td>1063</td>\n",
       "    </tr>\n",
       "    <tr>\n",
       "      <th>FP-C</th>\n",
       "      <td>81</td>\n",
       "      <td>59</td>\n",
       "      <td>21</td>\n",
       "      <td>38</td>\n",
       "      <td>4</td>\n",
       "      <td>0</td>\n",
       "      <td>21</td>\n",
       "      <td>45</td>\n",
       "      <td>40</td>\n",
       "      <td>12</td>\n",
       "      <td>96</td>\n",
       "      <td>43</td>\n",
       "      <td>60</td>\n",
       "      <td>0</td>\n",
       "      <td>1015</td>\n",
       "    </tr>\n",
       "    <tr>\n",
       "      <th>FP-D</th>\n",
       "      <td>0</td>\n",
       "      <td>0</td>\n",
       "      <td>0</td>\n",
       "      <td>3</td>\n",
       "      <td>0</td>\n",
       "      <td>0</td>\n",
       "      <td>0</td>\n",
       "      <td>0</td>\n",
       "      <td>0</td>\n",
       "      <td>0</td>\n",
       "      <td>0</td>\n",
       "      <td>0</td>\n",
       "      <td>161</td>\n",
       "      <td>134</td>\n",
       "      <td>482</td>\n",
       "    </tr>\n",
       "    <tr>\n",
       "      <th>FP-E</th>\n",
       "      <td>0</td>\n",
       "      <td>0</td>\n",
       "      <td>0</td>\n",
       "      <td>0</td>\n",
       "      <td>0</td>\n",
       "      <td>0</td>\n",
       "      <td>0</td>\n",
       "      <td>0</td>\n",
       "      <td>0</td>\n",
       "      <td>0</td>\n",
       "      <td>0</td>\n",
       "      <td>0</td>\n",
       "      <td>0</td>\n",
       "      <td>0</td>\n",
       "      <td>278</td>\n",
       "    </tr>\n",
       "  </tbody>\n",
       "</table>\n",
       "</div>"
      ],
      "text/plain": [
       "15AB Class  AB01  AB02  AB03  AB04  AB05  AB06  AB07  AB081  AB082  AB083  \\\n",
       "5-FP Class                                                                  \n",
       "FP-A          84   109    42    84    34    59     2     22     21      8   \n",
       "FP-B         130   101    26    37    60     5    51     57     48     23   \n",
       "FP-C          81    59    21    38     4     0    21     45     40     12   \n",
       "FP-D           0     0     0     3     0     0     0      0      0      0   \n",
       "FP-E           0     0     0     0     0     0     0      0      0      0   \n",
       "\n",
       "15AB Class  AB09  AB10  AB11  AB12  Normal  \n",
       "5-FP Class                                  \n",
       "FP-A           0     0     0     0     596  \n",
       "FP-B           2     0     0     0    1063  \n",
       "FP-C          96    43    60     0    1015  \n",
       "FP-D           0     0   161   134     482  \n",
       "FP-E           0     0     0     0     278  "
      ]
     },
     "execution_count": 3,
     "metadata": {},
     "output_type": "execute_result"
    }
   ],
   "source": [
    "conf_mat = pd.crosstab(df['Views'],df['Sub_class_New'],rownames=['5-FP Class'],colnames=['15AB Class'])\n",
    "conf_mat"
   ]
  },
  {
   "cell_type": "markdown",
   "metadata": {},
   "source": [
    "## 1 .Column Normalization"
   ]
  },
  {
   "cell_type": "code",
   "execution_count": 6,
   "metadata": {},
   "outputs": [],
   "source": [
    "from sklearn import preprocessing"
   ]
  },
  {
   "cell_type": "code",
   "execution_count": 7,
   "metadata": {},
   "outputs": [
    {
     "name": "stdout",
     "output_type": "stream",
     "text": [
      "{'Normal', 'AB05', 'AB07', 'AB03', 'AB06', 'AB04', 'AB01', 'AB10', 'AB083', 'AB11', 'AB02', 'AB12', 'AB081', 'AB09', 'AB082'}\n"
     ]
    }
   ],
   "source": [
    "print(set(df['Sub_class_New']))"
   ]
  },
  {
   "cell_type": "code",
   "execution_count": 8,
   "metadata": {},
   "outputs": [],
   "source": [
    "ab =['AB01','AB02','AB03','AB04','AB05','AB06','AB07','AB081','AB082','AB083','AB09','AB10','AB11','AB12','Normal']\n",
    "# ABlist = list()\n",
    "ABlist = []\n",
    "for i in ab:\n",
    "    AB = conf_mat[i].tolist()\n",
    "    AB = preprocessing.normalize([AB])[0].tolist()\n",
    "    if i == 0 :\n",
    "        ABlist = AB\n",
    "    else:\n",
    "        ABlist= ABlist+AB\n",
    "        \n",
    "ABarray= np.asarray(ABlist).reshape(15,5)\n",
    "ABarray = ABarray.transpose()"
   ]
  },
  {
   "cell_type": "code",
   "execution_count": 9,
   "metadata": {},
   "outputs": [
    {
     "data": {
      "text/plain": [
       "array([[0.48084861, 0.68174284, 0.78248796, 0.84517137, 0.49218537,\n",
       "        0.9964283 , 0.03623807, 0.28992579, 0.31858433, 0.29468379,\n",
       "        0.        , 0.        , 0.        , 0.        , 0.35459748],\n",
       "       [0.74417047, 0.63170667, 0.48439731, 0.37227786, 0.86856242,\n",
       "        0.08444308, 0.92407076, 0.75117137, 0.72819274, 0.84721589,\n",
       "        0.02082881, 0.        , 0.        , 0.        , 0.63244484],\n",
       "       [0.46367545, 0.36901677, 0.39124398, 0.38233943, 0.05790416,\n",
       "        0.        , 0.38049972, 0.59303003, 0.60682729, 0.44202568,\n",
       "        0.99978306, 1.        , 0.34920923, 0.        , 0.60388666],\n",
       "       [0.        , 0.        , 0.        , 0.03018469, 0.        ,\n",
       "        0.        , 0.        , 0.        , 0.        , 0.        ,\n",
       "        0.        , 0.        , 0.93704478, 1.        , 0.28677179],\n",
       "       [0.        , 0.        , 0.        , 0.        , 0.        ,\n",
       "        0.        , 0.        , 0.        , 0.        , 0.        ,\n",
       "        0.        , 0.        , 0.        , 0.        , 0.1653995 ]])"
      ]
     },
     "execution_count": 9,
     "metadata": {},
     "output_type": "execute_result"
    }
   ],
   "source": [
    "ABarray"
   ]
  },
  {
   "cell_type": "markdown",
   "metadata": {},
   "source": [
    "## 2. Softmax Row "
   ]
  },
  {
   "cell_type": "code",
   "execution_count": 10,
   "metadata": {},
   "outputs": [],
   "source": [
    "from scipy.special import softmax"
   ]
  },
  {
   "cell_type": "code",
   "execution_count": 11,
   "metadata": {},
   "outputs": [
    {
     "name": "stdout",
     "output_type": "stream",
     "text": [
      "[0.07041178 0.08607808 0.0952019  0.10136049 0.07121456 0.1179122\n",
      " 0.04513915 0.05817396 0.05986526 0.05845141 0.04353268 0.04353268\n",
      " 0.04353268 0.04353268 0.06206048]\n",
      "[0.08260808 0.07382103 0.06370954 0.05695235 0.09355032 0.04270774\n",
      " 0.09888996 0.08318844 0.08129868 0.0915745  0.04007553 0.03924943\n",
      " 0.03924943 0.03924943 0.07387554]\n",
      "[0.06519637 0.05930806 0.06064107 0.06010349 0.04345094 0.04100641\n",
      " 0.05999301 0.07419958 0.07523042 0.06380006 0.1114428  0.11146698\n",
      " 0.05814487 0.04100641 0.07500952]\n",
      "[0.05366686 0.05366686 0.05366686 0.05531147 0.05366686 0.05366686\n",
      " 0.05366686 0.05366686 0.05366686 0.05366686 0.05366686 0.05366686\n",
      " 0.13698075 0.14588164 0.0714907 ]\n",
      "[0.06587674 0.06587674 0.06587674 0.06587674 0.06587674 0.06587674\n",
      " 0.06587674 0.06587674 0.06587674 0.06587674 0.06587674 0.06587674\n",
      " 0.06587674 0.06587674 0.07772562]\n"
     ]
    }
   ],
   "source": [
    "reslist = []\n",
    "for i in range(5):\n",
    "    result = softmax(ABarray[i])\n",
    "    print(result)\n",
    "    reslist.append(result)\n",
    "result = np.asarray(reslist).reshape(5,15)"
   ]
  },
  {
   "cell_type": "code",
   "execution_count": 12,
   "metadata": {},
   "outputs": [
    {
     "data": {
      "text/plain": [
       "array([[0.07041178, 0.08607808, 0.0952019 , 0.10136049, 0.07121456,\n",
       "        0.1179122 , 0.04513915, 0.05817396, 0.05986526, 0.05845141,\n",
       "        0.04353268, 0.04353268, 0.04353268, 0.04353268, 0.06206048],\n",
       "       [0.08260808, 0.07382103, 0.06370954, 0.05695235, 0.09355032,\n",
       "        0.04270774, 0.09888996, 0.08318844, 0.08129868, 0.0915745 ,\n",
       "        0.04007553, 0.03924943, 0.03924943, 0.03924943, 0.07387554],\n",
       "       [0.06519637, 0.05930806, 0.06064107, 0.06010349, 0.04345094,\n",
       "        0.04100641, 0.05999301, 0.07419958, 0.07523042, 0.06380006,\n",
       "        0.1114428 , 0.11146698, 0.05814487, 0.04100641, 0.07500952],\n",
       "       [0.05366686, 0.05366686, 0.05366686, 0.05531147, 0.05366686,\n",
       "        0.05366686, 0.05366686, 0.05366686, 0.05366686, 0.05366686,\n",
       "        0.05366686, 0.05366686, 0.13698075, 0.14588164, 0.0714907 ],\n",
       "       [0.06587674, 0.06587674, 0.06587674, 0.06587674, 0.06587674,\n",
       "        0.06587674, 0.06587674, 0.06587674, 0.06587674, 0.06587674,\n",
       "        0.06587674, 0.06587674, 0.06587674, 0.06587674, 0.07772562]])"
      ]
     },
     "execution_count": 12,
     "metadata": {},
     "output_type": "execute_result"
    }
   ],
   "source": [
    "result"
   ]
  },
  {
   "cell_type": "code",
   "execution_count": null,
   "metadata": {},
   "outputs": [],
   "source": []
  }
 ],
 "metadata": {
  "kernelspec": {
   "display_name": "USAI3",
   "language": "python",
   "name": "usai3"
  },
  "language_info": {
   "codemirror_mode": {
    "name": "ipython",
    "version": 3
   },
   "file_extension": ".py",
   "mimetype": "text/x-python",
   "name": "python",
   "nbconvert_exporter": "python",
   "pygments_lexer": "ipython3",
   "version": "3.6.9"
  }
 },
 "nbformat": 4,
 "nbformat_minor": 4
}
