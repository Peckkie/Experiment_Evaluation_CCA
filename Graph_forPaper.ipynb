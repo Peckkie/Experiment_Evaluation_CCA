{
  "nbformat": 4,
  "nbformat_minor": 0,
  "metadata": {
    "colab": {
      "name": "Graph_forPaper.ipynb",
      "provenance": [],
      "collapsed_sections": [],
      "toc_visible": true,
      "authorship_tag": "ABX9TyMF+eKBSVmxP1gJgKQ4/8r+",
      "include_colab_link": true
    },
    "kernelspec": {
      "name": "python3",
      "display_name": "Python 3"
    },
    "language_info": {
      "name": "python"
    }
  },
  "cells": [
    {
      "cell_type": "markdown",
      "metadata": {
        "id": "view-in-github",
        "colab_type": "text"
      },
      "source": [
        "<a href=\"https://colab.research.google.com/github/Peckkie/Experiment_Evaluation_CCA/blob/main/Graph_forPaper.ipynb\" target=\"_parent\"><img src=\"https://colab.research.google.com/assets/colab-badge.svg\" alt=\"Open In Colab\"/></a>"
      ]
    },
    {
      "cell_type": "code",
      "metadata": {
        "colab": {
          "base_uri": "https://localhost:8080/"
        },
        "id": "0QqjxoKhgfLa",
        "outputId": "30f3c1b1-7ce2-45d0-9cd4-98697eb82506"
      },
      "source": [
        "from google.colab import drive\n",
        "drive.mount('/content/drive')"
      ],
      "execution_count": 1,
      "outputs": [
        {
          "output_type": "stream",
          "text": [
            "Mounted at /content/drive\n"
          ],
          "name": "stdout"
        }
      ]
    },
    {
      "cell_type": "code",
      "metadata": {
        "colab": {
          "base_uri": "https://localhost:8080/"
        },
        "id": "Kc6PSe3Ghfgu",
        "outputId": "faf99727-e28e-496c-e6e7-e396ee297a1a"
      },
      "source": [
        "import os\n",
        "os.chdir( '/content/drive/MyDrive/CCA_Project')\n",
        "!pwd"
      ],
      "execution_count": 2,
      "outputs": [
        {
          "output_type": "stream",
          "text": [
            "/content/drive/MyDrive/CCA_Project\n"
          ],
          "name": "stdout"
        }
      ]
    },
    {
      "cell_type": "markdown",
      "metadata": {
        "id": "f1kBR2wih_Ew"
      },
      "source": [
        "# EffNet+RF model result "
      ]
    },
    {
      "cell_type": "code",
      "metadata": {
        "colab": {
          "base_uri": "https://localhost:8080/",
          "height": 280
        },
        "id": "7-71zVDSh8kO",
        "outputId": "8fbade39-0da6-47ec-8d8c-2fc7fb3df765"
      },
      "source": [
        "import pandas as pd\n",
        "RFdf = pd.read_csv( '/content/drive/MyDrive/CCA_Project/result_csv/Testdf_15ABrf.csv')\n",
        "RFdf.head(3)"
      ],
      "execution_count": 3,
      "outputs": [
        {
          "output_type": "execute_result",
          "data": {
            "text/html": [
              "<div>\n",
              "<style scoped>\n",
              "    .dataframe tbody tr th:only-of-type {\n",
              "        vertical-align: middle;\n",
              "    }\n",
              "\n",
              "    .dataframe tbody tr th {\n",
              "        vertical-align: top;\n",
              "    }\n",
              "\n",
              "    .dataframe thead th {\n",
              "        text-align: right;\n",
              "    }\n",
              "</style>\n",
              "<table border=\"1\" class=\"dataframe\">\n",
              "  <thead>\n",
              "    <tr style=\"text-align: right;\">\n",
              "      <th></th>\n",
              "      <th>Unnamed: 0</th>\n",
              "      <th>Case</th>\n",
              "      <th>Abs Position</th>\n",
              "      <th>Sub Position</th>\n",
              "      <th>Class</th>\n",
              "      <th>Sub_class</th>\n",
              "      <th>Path Full</th>\n",
              "      <th>Path Crop</th>\n",
              "      <th>Views</th>\n",
              "      <th>fold</th>\n",
              "      <th>tagName</th>\n",
              "      <th>originalImage</th>\n",
              "      <th>left</th>\n",
              "      <th>top</th>\n",
              "      <th>width</th>\n",
              "      <th>height</th>\n",
              "      <th>Rleft</th>\n",
              "      <th>Rtop</th>\n",
              "      <th>Rwidth</th>\n",
              "      <th>Rheight</th>\n",
              "      <th>filename</th>\n",
              "      <th>15AB_category</th>\n",
              "      <th>15AB_Prob</th>\n",
              "      <th>15AB_ProbAll</th>\n",
              "      <th>Predict_15AB</th>\n",
              "    </tr>\n",
              "  </thead>\n",
              "  <tbody>\n",
              "    <tr>\n",
              "      <th>0</th>\n",
              "      <td>0</td>\n",
              "      <td>40</td>\n",
              "      <td>P1</td>\n",
              "      <td>P1</td>\n",
              "      <td>Abnormal</td>\n",
              "      <td>AB01</td>\n",
              "      <td>/media/tohn/HDD/VISION_dataset/USAI/ABnormal01...</td>\n",
              "      <td>/media/tohn/HDD/VISION_dataset/USAI/ABnormal01...</td>\n",
              "      <td>FP-A</td>\n",
              "      <td>2</td>\n",
              "      <td>MildFattyLiver</td>\n",
              "      <td>https://irisprodseatraining.blob.core.windows....</td>\n",
              "      <td>86.0</td>\n",
              "      <td>133.0</td>\n",
              "      <td>477.0</td>\n",
              "      <td>311.0</td>\n",
              "      <td>0.092664</td>\n",
              "      <td>0.148873</td>\n",
              "      <td>0.513514</td>\n",
              "      <td>0.346614</td>\n",
              "      <td>AB01 P1 C040.JPG</td>\n",
              "      <td>Normal</td>\n",
              "      <td>0.413035</td>\n",
              "      <td>[0.21054949660106018, 0.15272910155885105, 0.0...</td>\n",
              "      <td>Incorrect</td>\n",
              "    </tr>\n",
              "    <tr>\n",
              "      <th>1</th>\n",
              "      <td>1</td>\n",
              "      <td>40</td>\n",
              "      <td>P2</td>\n",
              "      <td>P2</td>\n",
              "      <td>Abnormal</td>\n",
              "      <td>AB01</td>\n",
              "      <td>/media/tohn/HDD/VISION_dataset/USAI/ABnormal01...</td>\n",
              "      <td>/media/tohn/HDD/VISION_dataset/USAI/ABnormal01...</td>\n",
              "      <td>FP-A</td>\n",
              "      <td>2</td>\n",
              "      <td>MildFattyLiver</td>\n",
              "      <td>https://irisprodseatraining.blob.core.windows....</td>\n",
              "      <td>163.0</td>\n",
              "      <td>139.0</td>\n",
              "      <td>532.0</td>\n",
              "      <td>385.0</td>\n",
              "      <td>0.171698</td>\n",
              "      <td>0.154849</td>\n",
              "      <td>0.560377</td>\n",
              "      <td>0.428287</td>\n",
              "      <td>AB01 P2 C040.JPG</td>\n",
              "      <td>AB01</td>\n",
              "      <td>0.741650</td>\n",
              "      <td>[0.741650235419515, 0.07765986354655634, 0.003...</td>\n",
              "      <td>Correct</td>\n",
              "    </tr>\n",
              "    <tr>\n",
              "      <th>2</th>\n",
              "      <td>2</td>\n",
              "      <td>40</td>\n",
              "      <td>P4</td>\n",
              "      <td>P41</td>\n",
              "      <td>Abnormal</td>\n",
              "      <td>AB01</td>\n",
              "      <td>/media/tohn/HDD/VISION_dataset/USAI/ABnormal01...</td>\n",
              "      <td>/media/tohn/HDD/VISION_dataset/USAI/ABnormal01...</td>\n",
              "      <td>FP-B</td>\n",
              "      <td>2</td>\n",
              "      <td>MildFattyLiver</td>\n",
              "      <td>https://irisprodseatraining.blob.core.windows....</td>\n",
              "      <td>127.0</td>\n",
              "      <td>135.0</td>\n",
              "      <td>605.0</td>\n",
              "      <td>640.0</td>\n",
              "      <td>0.140316</td>\n",
              "      <td>0.150865</td>\n",
              "      <td>0.667984</td>\n",
              "      <td>0.711155</td>\n",
              "      <td>AB01 P4-1 C040.JPG</td>\n",
              "      <td>AB02</td>\n",
              "      <td>0.432403</td>\n",
              "      <td>[0.34931351731971466, 0.43240273685662617, 0.0...</td>\n",
              "      <td>Incorrect</td>\n",
              "    </tr>\n",
              "  </tbody>\n",
              "</table>\n",
              "</div>"
            ],
            "text/plain": [
              "   Unnamed: 0  ...  Predict_15AB\n",
              "0           0  ...     Incorrect\n",
              "1           1  ...       Correct\n",
              "2           2  ...     Incorrect\n",
              "\n",
              "[3 rows x 25 columns]"
            ]
          },
          "metadata": {
            "tags": []
          },
          "execution_count": 3
        }
      ]
    },
    {
      "cell_type": "code",
      "metadata": {
        "colab": {
          "base_uri": "https://localhost:8080/"
        },
        "id": "fc79eWOiiJYd",
        "outputId": "d0edaf14-04b0-4803-cda0-c3af9e8456d1"
      },
      "source": [
        "import numpy as np\n",
        "from sklearn.metrics import confusion_matrix\n",
        "act = RFdf['Sub_class'].array\n",
        "pred = RFdf['15AB_category'].array\n",
        "\n",
        "cmat = confusion_matrix(act, pred)\n",
        "print('classifier accuracy = {}%'.format((100.*np.trace(cmat))/(np.sum(cmat))))\n",
        "\n",
        "#Marking the Confusion Matrix\n",
        "from sklearn.metrics import classification_report,confusion_matrix\n",
        "print(classification_report(act, pred))#performance"
      ],
      "execution_count": 4,
      "outputs": [
        {
          "output_type": "stream",
          "text": [
            "classifier accuracy = 86.8140243902439%\n",
            "              precision    recall  f1-score   support\n",
            "\n",
            "        AB01       0.79      0.61      0.69        74\n",
            "        AB02       0.59      0.60      0.60        60\n",
            "        AB03       0.50      0.50      0.50        18\n",
            "        AB04       0.88      0.65      0.75        43\n",
            "        AB05       0.83      0.66      0.73        29\n",
            "        AB06       0.83      0.48      0.61        21\n",
            "        AB07       0.71      0.48      0.57        21\n",
            "       AB081       0.78      0.56      0.65        32\n",
            "       AB082       0.79      0.54      0.64        28\n",
            "       AB083       0.80      0.36      0.50        11\n",
            "        AB09       1.00      0.77      0.87        26\n",
            "        AB10       0.80      0.40      0.53        10\n",
            "        AB11       0.86      0.83      0.84        23\n",
            "        AB12       0.88      0.85      0.86        59\n",
            "      Normal       0.90      0.99      0.95       857\n",
            "\n",
            "    accuracy                           0.87      1312\n",
            "   macro avg       0.80      0.62      0.69      1312\n",
            "weighted avg       0.86      0.87      0.86      1312\n",
            "\n"
          ],
          "name": "stdout"
        }
      ]
    },
    {
      "cell_type": "code",
      "metadata": {
        "colab": {
          "base_uri": "https://localhost:8080/",
          "height": 412
        },
        "id": "I4S54qcNiXb9",
        "outputId": "91ba4e1e-9c05-4905-9897-906bca9ecb70"
      },
      "source": [
        "#create CF \n",
        "data = {'Actual': act,'Predicted' : pred,}\n",
        "df = pd.DataFrame(data, columns=['Actual','Predicted'])\n",
        "conf_mat = pd.crosstab(df['Actual'],df['Predicted'],rownames=['Actual'],colnames=['Predicted'])\n",
        "\n",
        "#Confusion matrix\n",
        "from sklearn.metrics import confusion_matrix\n",
        "import matplotlib.pyplot as plt\n",
        "cm = confusion_matrix(act, pred)\n",
        "\n",
        "#plot Confusion matrix\n",
        "import seaborn as sns\n",
        "sns.set()\n",
        "fig, ax = plt.subplots(figsize=(8, 5))\n",
        "\n",
        "ax = sns.heatmap(conf_mat, annot=True, fmt=\"d\", cmap=\"YlGnBu\") #Blues,Oranges,Reds\n",
        "ax.set_title('Confusion matrix',fontsize=20)\n",
        "ax.set_ylabel('True label',fontsize=18)\n",
        "ax.set_xlabel('Predicted label',fontsize=18)"
      ],
      "execution_count": 5,
      "outputs": [
        {
          "output_type": "execute_result",
          "data": {
            "text/plain": [
              "Text(0.5, 21.5, 'Predicted label')"
            ]
          },
          "metadata": {
            "tags": []
          },
          "execution_count": 5
        },
        {
          "output_type": "display_data",
          "data": {
            "image/png": "[encoded data removed]",
            "text/plain": [
              "<Figure size 576x360 with 2 Axes>"
            ]
          },
          "metadata": {
            "tags": []
          }
        }
      ]
    },
    {
      "cell_type": "code",
      "metadata": {
        "id": "f7t_h4XgjW1Z"
      },
      "source": [
        ""
      ],
      "execution_count": null,
      "outputs": []
    },
    {
      "cell_type": "markdown",
      "metadata": {
        "id": "-OH-QuUmjXiC"
      },
      "source": [
        "# Experiment result"
      ]
    },
    {
      "cell_type": "code",
      "metadata": {
        "colab": {
          "base_uri": "https://localhost:8080/",
          "height": 280
        },
        "id": "TyApfitsjW9K",
        "outputId": "78791b30-829f-45a3-f4fe-1c08c2ea5639"
      },
      "source": [
        "import pandas as pd\n",
        "RFdf = pd.read_csv( '/content/drive/MyDrive/CCA_Project/result_csv/Experiment2_AI.csv')\n",
        "RFdf.head(3)"
      ],
      "execution_count": 3,
      "outputs": [
        {
          "output_type": "execute_result",
          "data": {
            "text/html": [
              "<div>\n",
              "<style scoped>\n",
              "    .dataframe tbody tr th:only-of-type {\n",
              "        vertical-align: middle;\n",
              "    }\n",
              "\n",
              "    .dataframe tbody tr th {\n",
              "        vertical-align: top;\n",
              "    }\n",
              "\n",
              "    .dataframe thead th {\n",
              "        text-align: right;\n",
              "    }\n",
              "</style>\n",
              "<table border=\"1\" class=\"dataframe\">\n",
              "  <thead>\n",
              "    <tr style=\"text-align: right;\">\n",
              "      <th></th>\n",
              "      <th>Unnamed: 0</th>\n",
              "      <th>num</th>\n",
              "      <th>FileName</th>\n",
              "      <th>sub_class</th>\n",
              "      <th>views</th>\n",
              "      <th>Path Crop</th>\n",
              "      <th>originalImage</th>\n",
              "      <th>tagName1</th>\n",
              "      <th>tagName2</th>\n",
              "      <th>Class</th>\n",
              "      <th>Case</th>\n",
              "      <th>Abs Position</th>\n",
              "      <th>Sub_class</th>\n",
              "      <th>Path Full</th>\n",
              "      <th>fold</th>\n",
              "      <th>AI_Pred</th>\n",
              "      <th>U10_Pred</th>\n",
              "      <th>U11_Pred</th>\n",
              "      <th>tagName0</th>\n",
              "      <th>Sub_class_New</th>\n",
              "      <th>Top3_category</th>\n",
              "      <th>Top3_Prob</th>\n",
              "      <th>category</th>\n",
              "      <th>Prob</th>\n",
              "      <th>FP_category</th>\n",
              "      <th>U31_Pred_ass</th>\n",
              "      <th>U30_Pred</th>\n",
              "      <th>U41_Pred</th>\n",
              "      <th>U21_Pred</th>\n",
              "      <th>U40_Pred_ass</th>\n",
              "      <th>U20_Pred_ass</th>\n",
              "      <th>U10_Pred2_ass</th>\n",
              "      <th>U11_Pred2</th>\n",
              "      <th>U30_Pred2_ass</th>\n",
              "      <th>U41_Pred2_ass</th>\n",
              "      <th>U31_Pred2</th>\n",
              "      <th>U40_Pred2</th>\n",
              "      <th>U20_Pred2</th>\n",
              "      <th>U21_Pred2_ass</th>\n",
              "      <th>B10_Pred1</th>\n",
              "      <th>B11_Pred1_ass</th>\n",
              "      <th>B12_Pred1_ass</th>\n",
              "      <th>B10_Pred2_ass</th>\n",
              "      <th>B11_Pred2</th>\n",
              "      <th>B12_Pred2</th>\n",
              "    </tr>\n",
              "  </thead>\n",
              "  <tbody>\n",
              "    <tr>\n",
              "      <th>0</th>\n",
              "      <td>0</td>\n",
              "      <td>1</td>\n",
              "      <td>AB01 P1 C100.JPG</td>\n",
              "      <td>AB01</td>\n",
              "      <td>FP-A</td>\n",
              "      <td>/media/tohn/HDD/VISION_dataset/USAI/ABnormal01...</td>\n",
              "      <td>https://irisprodseatraining.blob.core.windows....</td>\n",
              "      <td>Easy</td>\n",
              "      <td>Easy</td>\n",
              "      <td>Abnormal</td>\n",
              "      <td>100</td>\n",
              "      <td>P1</td>\n",
              "      <td>P1</td>\n",
              "      <td>/media/tohn/HDD/VISION_dataset/USAI/ABnormal01...</td>\n",
              "      <td>2</td>\n",
              "      <td>AB02</td>\n",
              "      <td>Normal</td>\n",
              "      <td>AB02</td>\n",
              "      <td>Easy</td>\n",
              "      <td>AB01</td>\n",
              "      <td>['AB02', 'AB01', 'AB082']</td>\n",
              "      <td>[0.5297411700821869, 0.20299334374021513, 0.07...</td>\n",
              "      <td>AB02</td>\n",
              "      <td>0.529741</td>\n",
              "      <td>FP-A</td>\n",
              "      <td>AB02</td>\n",
              "      <td>AB02</td>\n",
              "      <td>AB02</td>\n",
              "      <td>AB02</td>\n",
              "      <td>AB02</td>\n",
              "      <td>AB02</td>\n",
              "      <td>AB02</td>\n",
              "      <td>AB02</td>\n",
              "      <td>AB02</td>\n",
              "      <td>AB01</td>\n",
              "      <td>AB03</td>\n",
              "      <td>AB02</td>\n",
              "      <td>AB02</td>\n",
              "      <td>AB02</td>\n",
              "      <td>AB02</td>\n",
              "      <td>AB02</td>\n",
              "      <td>AB02</td>\n",
              "      <td>AB02</td>\n",
              "      <td>AB02</td>\n",
              "      <td>AB01</td>\n",
              "    </tr>\n",
              "    <tr>\n",
              "      <th>1</th>\n",
              "      <td>1</td>\n",
              "      <td>2</td>\n",
              "      <td>AB01 P4-2 C050.JPG</td>\n",
              "      <td>AB01</td>\n",
              "      <td>FP-B</td>\n",
              "      <td>/media/tohn/HDD/VISION_dataset/USAI/ABnormal01...</td>\n",
              "      <td>https://irisprodseatraining.blob.core.windows....</td>\n",
              "      <td>Easy</td>\n",
              "      <td>Easy</td>\n",
              "      <td>Abnormal</td>\n",
              "      <td>50</td>\n",
              "      <td>P4</td>\n",
              "      <td>P42</td>\n",
              "      <td>/media/tohn/HDD/VISION_dataset/USAI/ABnormal01...</td>\n",
              "      <td>1</td>\n",
              "      <td>AB02</td>\n",
              "      <td>Normal</td>\n",
              "      <td>AB02</td>\n",
              "      <td>Easy</td>\n",
              "      <td>AB01</td>\n",
              "      <td>['AB02', 'AB01', 'Normal']</td>\n",
              "      <td>[0.5384400113893146, 0.23439530764208472, 0.03...</td>\n",
              "      <td>AB02</td>\n",
              "      <td>0.538440</td>\n",
              "      <td>FP-B</td>\n",
              "      <td>AB02</td>\n",
              "      <td>AB02</td>\n",
              "      <td>AB02</td>\n",
              "      <td>AB02</td>\n",
              "      <td>AB02</td>\n",
              "      <td>AB02</td>\n",
              "      <td>AB02</td>\n",
              "      <td>AB01</td>\n",
              "      <td>AB02</td>\n",
              "      <td>AB02</td>\n",
              "      <td>AB02</td>\n",
              "      <td>AB02</td>\n",
              "      <td>AB01</td>\n",
              "      <td>AB02</td>\n",
              "      <td>AB01</td>\n",
              "      <td>AB01</td>\n",
              "      <td>AB02</td>\n",
              "      <td>AB02</td>\n",
              "      <td>AB01</td>\n",
              "      <td>Normal</td>\n",
              "    </tr>\n",
              "    <tr>\n",
              "      <th>2</th>\n",
              "      <td>2</td>\n",
              "      <td>3</td>\n",
              "      <td>AB01 P5-2 C004.JPG</td>\n",
              "      <td>AB01</td>\n",
              "      <td>FP-C</td>\n",
              "      <td>/media/tohn/HDD/VISION_dataset/USAI/ABnormal01...</td>\n",
              "      <td>https://irisprodseatraining.blob.core.windows....</td>\n",
              "      <td>Easy</td>\n",
              "      <td>Easy</td>\n",
              "      <td>Abnormal</td>\n",
              "      <td>4</td>\n",
              "      <td>P5</td>\n",
              "      <td>P52</td>\n",
              "      <td>/media/tohn/HDD/VISION_dataset/USAI/ABnormal01...</td>\n",
              "      <td>1</td>\n",
              "      <td>AB01</td>\n",
              "      <td>AB03</td>\n",
              "      <td>AB02</td>\n",
              "      <td>Easy</td>\n",
              "      <td>AB01</td>\n",
              "      <td>['AB01', 'Normal', 'AB082']</td>\n",
              "      <td>[0.8420314338368775, 0.03463969852508276, 0.02...</td>\n",
              "      <td>AB01</td>\n",
              "      <td>0.842031</td>\n",
              "      <td>FP-C</td>\n",
              "      <td>AB01</td>\n",
              "      <td>AB02</td>\n",
              "      <td>AB02</td>\n",
              "      <td>AB02</td>\n",
              "      <td>AB01</td>\n",
              "      <td>AB01</td>\n",
              "      <td>AB01</td>\n",
              "      <td>AB02</td>\n",
              "      <td>AB01</td>\n",
              "      <td>AB02</td>\n",
              "      <td>AB02</td>\n",
              "      <td>AB02</td>\n",
              "      <td>AB01</td>\n",
              "      <td>AB01</td>\n",
              "      <td>AB11</td>\n",
              "      <td>AB02</td>\n",
              "      <td>AB01</td>\n",
              "      <td>AB01</td>\n",
              "      <td>AB02</td>\n",
              "      <td>Normal</td>\n",
              "    </tr>\n",
              "  </tbody>\n",
              "</table>\n",
              "</div>"
            ],
            "text/plain": [
              "   Unnamed: 0  num            FileName  ... B10_Pred2_ass B11_Pred2 B12_Pred2\n",
              "0           0    1    AB01 P1 C100.JPG  ...          AB02      AB02      AB01\n",
              "1           1    2  AB01 P4-2 C050.JPG  ...          AB02      AB01    Normal\n",
              "2           2    3  AB01 P5-2 C004.JPG  ...          AB01      AB02    Normal\n",
              "\n",
              "[3 rows x 45 columns]"
            ]
          },
          "metadata": {
            "tags": []
          },
          "execution_count": 3
        }
      ]
    },
    {
      "cell_type": "code",
      "metadata": {
        "colab": {
          "base_uri": "https://localhost:8080/"
        },
        "id": "uGkf471kjgRD",
        "outputId": "350e0070-68b8-4c55-9f36-651397e1c038"
      },
      "source": [
        "RFdf.info()"
      ],
      "execution_count": 5,
      "outputs": [
        {
          "output_type": "stream",
          "text": [
            "<class 'pandas.core.frame.DataFrame'>\n",
            "RangeIndex: 150 entries, 0 to 149\n",
            "Data columns (total 45 columns):\n",
            " #   Column         Non-Null Count  Dtype  \n",
            "---  ------         --------------  -----  \n",
            " 0   Unnamed: 0     150 non-null    int64  \n",
            " 1   num            150 non-null    int64  \n",
            " 2   FileName       150 non-null    object \n",
            " 3   sub_class      150 non-null    object \n",
            " 4   views          150 non-null    object \n",
            " 5   Path Crop      150 non-null    object \n",
            " 6   originalImage  150 non-null    object \n",
            " 7   tagName1       150 non-null    object \n",
            " 8   tagName2       150 non-null    object \n",
            " 9   Class          150 non-null    object \n",
            " 10  Case           150 non-null    int64  \n",
            " 11  Abs Position   150 non-null    object \n",
            " 12  Sub_class      150 non-null    object \n",
            " 13  Path Full      150 non-null    object \n",
            " 14  fold           150 non-null    int64  \n",
            " 15  AI_Pred        150 non-null    object \n",
            " 16  U10_Pred       150 non-null    object \n",
            " 17  U11_Pred       150 non-null    object \n",
            " 18  tagName0       150 non-null    object \n",
            " 19  Sub_class_New  150 non-null    object \n",
            " 20  Top3_category  150 non-null    object \n",
            " 21  Top3_Prob      150 non-null    object \n",
            " 22  category       150 non-null    object \n",
            " 23  Prob           150 non-null    float64\n",
            " 24  FP_category    150 non-null    object \n",
            " 25  U31_Pred_ass   150 non-null    object \n",
            " 26  U30_Pred       150 non-null    object \n",
            " 27  U41_Pred       150 non-null    object \n",
            " 28  U21_Pred       150 non-null    object \n",
            " 29  U40_Pred_ass   150 non-null    object \n",
            " 30  U20_Pred_ass   150 non-null    object \n",
            " 31  U10_Pred2_ass  150 non-null    object \n",
            " 32  U11_Pred2      150 non-null    object \n",
            " 33  U30_Pred2_ass  150 non-null    object \n",
            " 34  U41_Pred2_ass  150 non-null    object \n",
            " 35  U31_Pred2      150 non-null    object \n",
            " 36  U40_Pred2      150 non-null    object \n",
            " 37  U20_Pred2      150 non-null    object \n",
            " 38  U21_Pred2_ass  150 non-null    object \n",
            " 39  B10_Pred1      150 non-null    object \n",
            " 40  B11_Pred1_ass  150 non-null    object \n",
            " 41  B12_Pred1_ass  150 non-null    object \n",
            " 42  B10_Pred2_ass  150 non-null    object \n",
            " 43  B11_Pred2      150 non-null    object \n",
            " 44  B12_Pred2      150 non-null    object \n",
            "dtypes: float64(1), int64(4), object(40)\n",
            "memory usage: 52.9+ KB\n"
          ],
          "name": "stdout"
        }
      ]
    },
    {
      "cell_type": "markdown",
      "metadata": {
        "id": "4UkCUxKoihVk"
      },
      "source": [
        "## สร้างกราฟของ confusion matrix เเยกตามกลุ่มคุณหมอ \n",
        "(ข้อมูลทั้งหมด)"
      ]
    },
    {
      "cell_type": "code",
      "metadata": {
        "id": "pwmpGHNAjLEg"
      },
      "source": [
        "AssistGP5 =['B10_Pred2_ass','B11_Pred1_ass','B12_Pred1_ass','U10_Pred2_ass','U11_Pred2_ass','U20_Pred_ass','U21_Pred2_ass','U30_Pred2_ass','U31_Pred_ass','U40_Pred_ass','U41_Pred2_ass']"
      ],
      "execution_count": null,
      "outputs": []
    },
    {
      "cell_type": "code",
      "metadata": {
        "id": "mc7_UhIdjLN8"
      },
      "source": [
        ""
      ],
      "execution_count": null,
      "outputs": []
    },
    {
      "cell_type": "markdown",
      "metadata": {
        "id": "f2HpflVyi-74"
      },
      "source": [
        "## สร้าง confusion matrix เเยกตามกลุ่มคุณหมอ \n",
        "(ข้อมูลเเยกตามเเต่ล่ะกลุ่มของคุณหมอ)"
      ]
    },
    {
      "cell_type": "code",
      "metadata": {
        "id": "cvimEj4bicja"
      },
      "source": [
        ""
      ],
      "execution_count": null,
      "outputs": []
    },
    {
      "cell_type": "markdown",
      "metadata": {
        "id": "9Dr1zl39yTZ0"
      },
      "source": [
        "## กราฟเเยกตามความยากง่ายของคุณหมอ\n"
      ]
    },
    {
      "cell_type": "code",
      "metadata": {
        "colab": {
          "base_uri": "https://localhost:8080/",
          "height": 280
        },
        "id": "_-PXiGvryaRJ",
        "outputId": "f57ca485-da43-4cb2-e647-3ee6f627eb80"
      },
      "source": [
        "import pandas as pd\n",
        "Exdf = pd.read_csv( '/content/drive/MyDrive/CCA_Project/result_csv/Experiment2_AI.csv')\n",
        "Exdf.head(3)"
      ],
      "execution_count": 6,
      "outputs": [
        {
          "output_type": "execute_result",
          "data": {
            "text/html": [
              "<div>\n",
              "<style scoped>\n",
              "    .dataframe tbody tr th:only-of-type {\n",
              "        vertical-align: middle;\n",
              "    }\n",
              "\n",
              "    .dataframe tbody tr th {\n",
              "        vertical-align: top;\n",
              "    }\n",
              "\n",
              "    .dataframe thead th {\n",
              "        text-align: right;\n",
              "    }\n",
              "</style>\n",
              "<table border=\"1\" class=\"dataframe\">\n",
              "  <thead>\n",
              "    <tr style=\"text-align: right;\">\n",
              "      <th></th>\n",
              "      <th>Unnamed: 0</th>\n",
              "      <th>num</th>\n",
              "      <th>FileName</th>\n",
              "      <th>sub_class</th>\n",
              "      <th>views</th>\n",
              "      <th>Path Crop</th>\n",
              "      <th>originalImage</th>\n",
              "      <th>tagName1</th>\n",
              "      <th>tagName2</th>\n",
              "      <th>Class</th>\n",
              "      <th>Case</th>\n",
              "      <th>Abs Position</th>\n",
              "      <th>Sub_class</th>\n",
              "      <th>Path Full</th>\n",
              "      <th>fold</th>\n",
              "      <th>AI_Pred</th>\n",
              "      <th>U10_Pred</th>\n",
              "      <th>U11_Pred</th>\n",
              "      <th>tagName0</th>\n",
              "      <th>Sub_class_New</th>\n",
              "      <th>Top3_category</th>\n",
              "      <th>Top3_Prob</th>\n",
              "      <th>category</th>\n",
              "      <th>Prob</th>\n",
              "      <th>FP_category</th>\n",
              "      <th>U31_Pred_ass</th>\n",
              "      <th>U30_Pred</th>\n",
              "      <th>U41_Pred</th>\n",
              "      <th>U21_Pred</th>\n",
              "      <th>U40_Pred_ass</th>\n",
              "      <th>U20_Pred_ass</th>\n",
              "      <th>U10_Pred2_ass</th>\n",
              "      <th>U11_Pred2</th>\n",
              "      <th>U30_Pred2_ass</th>\n",
              "      <th>U41_Pred2_ass</th>\n",
              "      <th>U31_Pred2</th>\n",
              "      <th>U40_Pred2</th>\n",
              "      <th>U20_Pred2</th>\n",
              "      <th>U21_Pred2_ass</th>\n",
              "      <th>B10_Pred1</th>\n",
              "      <th>B11_Pred1_ass</th>\n",
              "      <th>B12_Pred1_ass</th>\n",
              "      <th>B10_Pred2_ass</th>\n",
              "      <th>B11_Pred2</th>\n",
              "      <th>B12_Pred2</th>\n",
              "    </tr>\n",
              "  </thead>\n",
              "  <tbody>\n",
              "    <tr>\n",
              "      <th>0</th>\n",
              "      <td>0</td>\n",
              "      <td>1</td>\n",
              "      <td>AB01 P1 C100.JPG</td>\n",
              "      <td>AB01</td>\n",
              "      <td>FP-A</td>\n",
              "      <td>/media/tohn/HDD/VISION_dataset/USAI/ABnormal01...</td>\n",
              "      <td>https://irisprodseatraining.blob.core.windows....</td>\n",
              "      <td>Easy</td>\n",
              "      <td>Easy</td>\n",
              "      <td>Abnormal</td>\n",
              "      <td>100</td>\n",
              "      <td>P1</td>\n",
              "      <td>P1</td>\n",
              "      <td>/media/tohn/HDD/VISION_dataset/USAI/ABnormal01...</td>\n",
              "      <td>2</td>\n",
              "      <td>AB02</td>\n",
              "      <td>Normal</td>\n",
              "      <td>AB02</td>\n",
              "      <td>Easy</td>\n",
              "      <td>AB01</td>\n",
              "      <td>['AB02', 'AB01', 'AB082']</td>\n",
              "      <td>[0.5297411700821869, 0.20299334374021513, 0.07...</td>\n",
              "      <td>AB02</td>\n",
              "      <td>0.529741</td>\n",
              "      <td>FP-A</td>\n",
              "      <td>AB02</td>\n",
              "      <td>AB02</td>\n",
              "      <td>AB02</td>\n",
              "      <td>AB02</td>\n",
              "      <td>AB02</td>\n",
              "      <td>AB02</td>\n",
              "      <td>AB02</td>\n",
              "      <td>AB02</td>\n",
              "      <td>AB02</td>\n",
              "      <td>AB01</td>\n",
              "      <td>AB03</td>\n",
              "      <td>AB02</td>\n",
              "      <td>AB02</td>\n",
              "      <td>AB02</td>\n",
              "      <td>AB02</td>\n",
              "      <td>AB02</td>\n",
              "      <td>AB02</td>\n",
              "      <td>AB02</td>\n",
              "      <td>AB02</td>\n",
              "      <td>AB01</td>\n",
              "    </tr>\n",
              "    <tr>\n",
              "      <th>1</th>\n",
              "      <td>1</td>\n",
              "      <td>2</td>\n",
              "      <td>AB01 P4-2 C050.JPG</td>\n",
              "      <td>AB01</td>\n",
              "      <td>FP-B</td>\n",
              "      <td>/media/tohn/HDD/VISION_dataset/USAI/ABnormal01...</td>\n",
              "      <td>https://irisprodseatraining.blob.core.windows....</td>\n",
              "      <td>Easy</td>\n",
              "      <td>Easy</td>\n",
              "      <td>Abnormal</td>\n",
              "      <td>50</td>\n",
              "      <td>P4</td>\n",
              "      <td>P42</td>\n",
              "      <td>/media/tohn/HDD/VISION_dataset/USAI/ABnormal01...</td>\n",
              "      <td>1</td>\n",
              "      <td>AB02</td>\n",
              "      <td>Normal</td>\n",
              "      <td>AB02</td>\n",
              "      <td>Easy</td>\n",
              "      <td>AB01</td>\n",
              "      <td>['AB02', 'AB01', 'Normal']</td>\n",
              "      <td>[0.5384400113893146, 0.23439530764208472, 0.03...</td>\n",
              "      <td>AB02</td>\n",
              "      <td>0.538440</td>\n",
              "      <td>FP-B</td>\n",
              "      <td>AB02</td>\n",
              "      <td>AB02</td>\n",
              "      <td>AB02</td>\n",
              "      <td>AB02</td>\n",
              "      <td>AB02</td>\n",
              "      <td>AB02</td>\n",
              "      <td>AB02</td>\n",
              "      <td>AB01</td>\n",
              "      <td>AB02</td>\n",
              "      <td>AB02</td>\n",
              "      <td>AB02</td>\n",
              "      <td>AB02</td>\n",
              "      <td>AB01</td>\n",
              "      <td>AB02</td>\n",
              "      <td>AB01</td>\n",
              "      <td>AB01</td>\n",
              "      <td>AB02</td>\n",
              "      <td>AB02</td>\n",
              "      <td>AB01</td>\n",
              "      <td>Normal</td>\n",
              "    </tr>\n",
              "    <tr>\n",
              "      <th>2</th>\n",
              "      <td>2</td>\n",
              "      <td>3</td>\n",
              "      <td>AB01 P5-2 C004.JPG</td>\n",
              "      <td>AB01</td>\n",
              "      <td>FP-C</td>\n",
              "      <td>/media/tohn/HDD/VISION_dataset/USAI/ABnormal01...</td>\n",
              "      <td>https://irisprodseatraining.blob.core.windows....</td>\n",
              "      <td>Easy</td>\n",
              "      <td>Easy</td>\n",
              "      <td>Abnormal</td>\n",
              "      <td>4</td>\n",
              "      <td>P5</td>\n",
              "      <td>P52</td>\n",
              "      <td>/media/tohn/HDD/VISION_dataset/USAI/ABnormal01...</td>\n",
              "      <td>1</td>\n",
              "      <td>AB01</td>\n",
              "      <td>AB03</td>\n",
              "      <td>AB02</td>\n",
              "      <td>Easy</td>\n",
              "      <td>AB01</td>\n",
              "      <td>['AB01', 'Normal', 'AB082']</td>\n",
              "      <td>[0.8420314338368775, 0.03463969852508276, 0.02...</td>\n",
              "      <td>AB01</td>\n",
              "      <td>0.842031</td>\n",
              "      <td>FP-C</td>\n",
              "      <td>AB01</td>\n",
              "      <td>AB02</td>\n",
              "      <td>AB02</td>\n",
              "      <td>AB02</td>\n",
              "      <td>AB01</td>\n",
              "      <td>AB01</td>\n",
              "      <td>AB01</td>\n",
              "      <td>AB02</td>\n",
              "      <td>AB01</td>\n",
              "      <td>AB02</td>\n",
              "      <td>AB02</td>\n",
              "      <td>AB02</td>\n",
              "      <td>AB01</td>\n",
              "      <td>AB01</td>\n",
              "      <td>AB11</td>\n",
              "      <td>AB02</td>\n",
              "      <td>AB01</td>\n",
              "      <td>AB01</td>\n",
              "      <td>AB02</td>\n",
              "      <td>Normal</td>\n",
              "    </tr>\n",
              "  </tbody>\n",
              "</table>\n",
              "</div>"
            ],
            "text/plain": [
              "   Unnamed: 0  num            FileName  ... B10_Pred2_ass B11_Pred2 B12_Pred2\n",
              "0           0    1    AB01 P1 C100.JPG  ...          AB02      AB02      AB01\n",
              "1           1    2  AB01 P4-2 C050.JPG  ...          AB02      AB01    Normal\n",
              "2           2    3  AB01 P5-2 C004.JPG  ...          AB01      AB02    Normal\n",
              "\n",
              "[3 rows x 45 columns]"
            ]
          },
          "metadata": {
            "tags": []
          },
          "execution_count": 6
        }
      ]
    },
    {
      "cell_type": "code",
      "metadata": {
        "id": "KUD-Jv2LyZJK"
      },
      "source": [
        "Easy = Exdf[Exdf['tagName0'] == 'Easy']\n",
        "Hard = Exdf[Exdf['tagName0'] == 'Hard']\n",
        "diff = Exdf[Exdf['tagName0'] == 'different']"
      ],
      "execution_count": 7,
      "outputs": []
    },
    {
      "cell_type": "code",
      "metadata": {
        "id": "WIrIq0IpykR_"
      },
      "source": [
        "from sklearn.metrics import classification_report,confusion_matrix"
      ],
      "execution_count": 8,
      "outputs": []
    },
    {
      "cell_type": "code",
      "metadata": {
        "id": "X2NmUf-Dymjy"
      },
      "source": [
        "AssistGP5 =['B10_Pred2_ass','B11_Pred1_ass','B12_Pred1_ass','U10_Pred2_ass','U11_Pred','U20_Pred_ass','U21_Pred2_ass','U30_Pred2_ass','U31_Pred_ass','U40_Pred_ass','U41_Pred2_ass']"
      ],
      "execution_count": 9,
      "outputs": []
    },
    {
      "cell_type": "code",
      "metadata": {
        "colab": {
          "base_uri": "https://localhost:8080/"
        },
        "id": "mBDL36qQypgG",
        "outputId": "83a07117-0d84-4c47-f4fd-133c0149d07f"
      },
      "source": [
        "per = AssistGP5\n",
        "aa = list()\n",
        "probmore=Easy\n",
        "for j in per:\n",
        "    import numpy as np\n",
        "    from sklearn.metrics import confusion_matrix\n",
        "    from sklearn.metrics import classification_report,confusion_matrix\n",
        "    act = probmore['Sub_class_New'].array\n",
        "    pred = probmore[j].array\n",
        "    cmat = confusion_matrix(act, pred)\n",
        "    acc = (np.trace(cmat))/(np.sum(cmat))\n",
        "    Recall = classification_report(act, pred).split()[-9]\n",
        "    Prec = classification_report(act, pred).split()[-10] \n",
        "    aa.append({'per':j,'tagName':'Easy','acc':acc,'Prec':Prec,'Recall':Recall,'count':len(act)})\n",
        "df1 = pd.DataFrame(aa)\n",
        "\n",
        "aa = list()\n",
        "probmore=Hard\n",
        "for j in per:\n",
        "    import numpy as np\n",
        "    from sklearn.metrics import confusion_matrix\n",
        "    act = probmore['Sub_class_New'].array\n",
        "    pred = probmore[j].array\n",
        "    cmat = confusion_matrix(act, pred)\n",
        "    acc = (np.trace(cmat))/(np.sum(cmat))\n",
        "    Recall = classification_report(act, pred).split()[-9]\n",
        "    Prec = classification_report(act, pred).split()[-10] \n",
        "    aa.append({'per':j,'tagName':'Hard','acc':acc,'Prec':Prec,'Recall':Recall,'count':len(act)})\n",
        "df2 = pd.DataFrame(aa)\n",
        "\n",
        "aa = list()\n",
        "probmore=diff\n",
        "for j in per:\n",
        "    import numpy as np\n",
        "    from sklearn.metrics import confusion_matrix\n",
        "    act = probmore['Sub_class_New'].array\n",
        "    pred = probmore[j].array\n",
        "    cmat = confusion_matrix(act, pred)\n",
        "    acc = (np.trace(cmat))/(np.sum(cmat))\n",
        "    Recall = classification_report(act, pred).split()[-9]\n",
        "    Prec = classification_report(act, pred).split()[-10] \n",
        "    aa.append({'per':j,'tagName':'Different','acc':acc,'Prec':Prec,'Recall':Recall,'count':len(act)})\n",
        "df3 = pd.DataFrame(aa)"
      ],
      "execution_count": 10,
      "outputs": [
        {
          "output_type": "stream",
          "text": [
            "/usr/local/lib/python3.7/dist-packages/sklearn/metrics/_classification.py:1272: UndefinedMetricWarning: Precision and F-score are ill-defined and being set to 0.0 in labels with no predicted samples. Use `zero_division` parameter to control this behavior.\n",
            "  _warn_prf(average, modifier, msg_start, len(result))\n",
            "/usr/local/lib/python3.7/dist-packages/sklearn/metrics/_classification.py:1272: UndefinedMetricWarning: Recall and F-score are ill-defined and being set to 0.0 in labels with no true samples. Use `zero_division` parameter to control this behavior.\n",
            "  _warn_prf(average, modifier, msg_start, len(result))\n"
          ],
          "name": "stderr"
        }
      ]
    },
    {
      "cell_type": "code",
      "metadata": {
        "colab": {
          "base_uri": "https://localhost:8080/",
          "height": 1000
        },
        "id": "86YKlczxy5je",
        "outputId": "7c3e244c-7357-4fb7-d4ff-aea0ec87cbeb"
      },
      "source": [
        "result= pd.concat([df1, df2,df3], ignore_index=True)\n",
        "result"
      ],
      "execution_count": 11,
      "outputs": [
        {
          "output_type": "execute_result",
          "data": {
            "text/html": [
              "<div>\n",
              "<style scoped>\n",
              "    .dataframe tbody tr th:only-of-type {\n",
              "        vertical-align: middle;\n",
              "    }\n",
              "\n",
              "    .dataframe tbody tr th {\n",
              "        vertical-align: top;\n",
              "    }\n",
              "\n",
              "    .dataframe thead th {\n",
              "        text-align: right;\n",
              "    }\n",
              "</style>\n",
              "<table border=\"1\" class=\"dataframe\">\n",
              "  <thead>\n",
              "    <tr style=\"text-align: right;\">\n",
              "      <th></th>\n",
              "      <th>per</th>\n",
              "      <th>tagName</th>\n",
              "      <th>acc</th>\n",
              "      <th>Prec</th>\n",
              "      <th>Recall</th>\n",
              "      <th>count</th>\n",
              "    </tr>\n",
              "  </thead>\n",
              "  <tbody>\n",
              "    <tr>\n",
              "      <th>0</th>\n",
              "      <td>B10_Pred2_ass</td>\n",
              "      <td>Easy</td>\n",
              "      <td>0.642857</td>\n",
              "      <td>0.44</td>\n",
              "      <td>0.47</td>\n",
              "      <td>56</td>\n",
              "    </tr>\n",
              "    <tr>\n",
              "      <th>1</th>\n",
              "      <td>B11_Pred1_ass</td>\n",
              "      <td>Easy</td>\n",
              "      <td>0.500000</td>\n",
              "      <td>0.25</td>\n",
              "      <td>0.36</td>\n",
              "      <td>56</td>\n",
              "    </tr>\n",
              "    <tr>\n",
              "      <th>2</th>\n",
              "      <td>B12_Pred1_ass</td>\n",
              "      <td>Easy</td>\n",
              "      <td>0.535714</td>\n",
              "      <td>0.46</td>\n",
              "      <td>0.49</td>\n",
              "      <td>56</td>\n",
              "    </tr>\n",
              "    <tr>\n",
              "      <th>3</th>\n",
              "      <td>U10_Pred2_ass</td>\n",
              "      <td>Easy</td>\n",
              "      <td>0.660714</td>\n",
              "      <td>0.47</td>\n",
              "      <td>0.54</td>\n",
              "      <td>56</td>\n",
              "    </tr>\n",
              "    <tr>\n",
              "      <th>4</th>\n",
              "      <td>U11_Pred</td>\n",
              "      <td>Easy</td>\n",
              "      <td>0.767857</td>\n",
              "      <td>0.59</td>\n",
              "      <td>0.70</td>\n",
              "      <td>56</td>\n",
              "    </tr>\n",
              "    <tr>\n",
              "      <th>5</th>\n",
              "      <td>U20_Pred_ass</td>\n",
              "      <td>Easy</td>\n",
              "      <td>0.696429</td>\n",
              "      <td>0.69</td>\n",
              "      <td>0.78</td>\n",
              "      <td>56</td>\n",
              "    </tr>\n",
              "    <tr>\n",
              "      <th>6</th>\n",
              "      <td>U21_Pred2_ass</td>\n",
              "      <td>Easy</td>\n",
              "      <td>0.750000</td>\n",
              "      <td>0.51</td>\n",
              "      <td>0.59</td>\n",
              "      <td>56</td>\n",
              "    </tr>\n",
              "    <tr>\n",
              "      <th>7</th>\n",
              "      <td>U30_Pred2_ass</td>\n",
              "      <td>Easy</td>\n",
              "      <td>0.821429</td>\n",
              "      <td>0.67</td>\n",
              "      <td>0.73</td>\n",
              "      <td>56</td>\n",
              "    </tr>\n",
              "    <tr>\n",
              "      <th>8</th>\n",
              "      <td>U31_Pred_ass</td>\n",
              "      <td>Easy</td>\n",
              "      <td>0.857143</td>\n",
              "      <td>0.71</td>\n",
              "      <td>0.72</td>\n",
              "      <td>56</td>\n",
              "    </tr>\n",
              "    <tr>\n",
              "      <th>9</th>\n",
              "      <td>U40_Pred_ass</td>\n",
              "      <td>Easy</td>\n",
              "      <td>0.857143</td>\n",
              "      <td>0.70</td>\n",
              "      <td>0.72</td>\n",
              "      <td>56</td>\n",
              "    </tr>\n",
              "    <tr>\n",
              "      <th>10</th>\n",
              "      <td>U41_Pred2_ass</td>\n",
              "      <td>Easy</td>\n",
              "      <td>0.839286</td>\n",
              "      <td>0.72</td>\n",
              "      <td>0.68</td>\n",
              "      <td>56</td>\n",
              "    </tr>\n",
              "    <tr>\n",
              "      <th>11</th>\n",
              "      <td>B10_Pred2_ass</td>\n",
              "      <td>Hard</td>\n",
              "      <td>0.613636</td>\n",
              "      <td>0.38</td>\n",
              "      <td>0.48</td>\n",
              "      <td>44</td>\n",
              "    </tr>\n",
              "    <tr>\n",
              "      <th>12</th>\n",
              "      <td>B11_Pred1_ass</td>\n",
              "      <td>Hard</td>\n",
              "      <td>0.318182</td>\n",
              "      <td>0.15</td>\n",
              "      <td>0.13</td>\n",
              "      <td>44</td>\n",
              "    </tr>\n",
              "    <tr>\n",
              "      <th>13</th>\n",
              "      <td>B12_Pred1_ass</td>\n",
              "      <td>Hard</td>\n",
              "      <td>0.454545</td>\n",
              "      <td>0.23</td>\n",
              "      <td>0.33</td>\n",
              "      <td>44</td>\n",
              "    </tr>\n",
              "    <tr>\n",
              "      <th>14</th>\n",
              "      <td>U10_Pred2_ass</td>\n",
              "      <td>Hard</td>\n",
              "      <td>0.454545</td>\n",
              "      <td>0.27</td>\n",
              "      <td>0.30</td>\n",
              "      <td>44</td>\n",
              "    </tr>\n",
              "    <tr>\n",
              "      <th>15</th>\n",
              "      <td>U11_Pred</td>\n",
              "      <td>Hard</td>\n",
              "      <td>0.750000</td>\n",
              "      <td>0.54</td>\n",
              "      <td>0.65</td>\n",
              "      <td>44</td>\n",
              "    </tr>\n",
              "    <tr>\n",
              "      <th>16</th>\n",
              "      <td>U20_Pred_ass</td>\n",
              "      <td>Hard</td>\n",
              "      <td>0.568182</td>\n",
              "      <td>0.48</td>\n",
              "      <td>0.60</td>\n",
              "      <td>44</td>\n",
              "    </tr>\n",
              "    <tr>\n",
              "      <th>17</th>\n",
              "      <td>U21_Pred2_ass</td>\n",
              "      <td>Hard</td>\n",
              "      <td>0.613636</td>\n",
              "      <td>0.38</td>\n",
              "      <td>0.48</td>\n",
              "      <td>44</td>\n",
              "    </tr>\n",
              "    <tr>\n",
              "      <th>18</th>\n",
              "      <td>U30_Pred2_ass</td>\n",
              "      <td>Hard</td>\n",
              "      <td>0.772727</td>\n",
              "      <td>0.56</td>\n",
              "      <td>0.59</td>\n",
              "      <td>44</td>\n",
              "    </tr>\n",
              "    <tr>\n",
              "      <th>19</th>\n",
              "      <td>U31_Pred_ass</td>\n",
              "      <td>Hard</td>\n",
              "      <td>0.727273</td>\n",
              "      <td>0.61</td>\n",
              "      <td>0.73</td>\n",
              "      <td>44</td>\n",
              "    </tr>\n",
              "    <tr>\n",
              "      <th>20</th>\n",
              "      <td>U40_Pred_ass</td>\n",
              "      <td>Hard</td>\n",
              "      <td>0.727273</td>\n",
              "      <td>0.57</td>\n",
              "      <td>0.63</td>\n",
              "      <td>44</td>\n",
              "    </tr>\n",
              "    <tr>\n",
              "      <th>21</th>\n",
              "      <td>U41_Pred2_ass</td>\n",
              "      <td>Hard</td>\n",
              "      <td>0.659091</td>\n",
              "      <td>0.35</td>\n",
              "      <td>0.42</td>\n",
              "      <td>44</td>\n",
              "    </tr>\n",
              "    <tr>\n",
              "      <th>22</th>\n",
              "      <td>B10_Pred2_ass</td>\n",
              "      <td>Different</td>\n",
              "      <td>0.660000</td>\n",
              "      <td>0.15</td>\n",
              "      <td>0.17</td>\n",
              "      <td>50</td>\n",
              "    </tr>\n",
              "    <tr>\n",
              "      <th>23</th>\n",
              "      <td>B11_Pred1_ass</td>\n",
              "      <td>Different</td>\n",
              "      <td>0.460000</td>\n",
              "      <td>0.11</td>\n",
              "      <td>0.13</td>\n",
              "      <td>50</td>\n",
              "    </tr>\n",
              "    <tr>\n",
              "      <th>24</th>\n",
              "      <td>B12_Pred1_ass</td>\n",
              "      <td>Different</td>\n",
              "      <td>0.580000</td>\n",
              "      <td>0.12</td>\n",
              "      <td>0.16</td>\n",
              "      <td>50</td>\n",
              "    </tr>\n",
              "    <tr>\n",
              "      <th>25</th>\n",
              "      <td>U10_Pred2_ass</td>\n",
              "      <td>Different</td>\n",
              "      <td>0.760000</td>\n",
              "      <td>0.12</td>\n",
              "      <td>0.10</td>\n",
              "      <td>50</td>\n",
              "    </tr>\n",
              "    <tr>\n",
              "      <th>26</th>\n",
              "      <td>U11_Pred</td>\n",
              "      <td>Different</td>\n",
              "      <td>0.940000</td>\n",
              "      <td>0.24</td>\n",
              "      <td>0.24</td>\n",
              "      <td>50</td>\n",
              "    </tr>\n",
              "    <tr>\n",
              "      <th>27</th>\n",
              "      <td>U20_Pred_ass</td>\n",
              "      <td>Different</td>\n",
              "      <td>0.760000</td>\n",
              "      <td>0.29</td>\n",
              "      <td>0.25</td>\n",
              "      <td>50</td>\n",
              "    </tr>\n",
              "    <tr>\n",
              "      <th>28</th>\n",
              "      <td>U21_Pred2_ass</td>\n",
              "      <td>Different</td>\n",
              "      <td>0.680000</td>\n",
              "      <td>0.09</td>\n",
              "      <td>0.06</td>\n",
              "      <td>50</td>\n",
              "    </tr>\n",
              "    <tr>\n",
              "      <th>29</th>\n",
              "      <td>U30_Pred2_ass</td>\n",
              "      <td>Different</td>\n",
              "      <td>0.880000</td>\n",
              "      <td>0.20</td>\n",
              "      <td>0.18</td>\n",
              "      <td>50</td>\n",
              "    </tr>\n",
              "    <tr>\n",
              "      <th>30</th>\n",
              "      <td>U31_Pred_ass</td>\n",
              "      <td>Different</td>\n",
              "      <td>0.760000</td>\n",
              "      <td>0.12</td>\n",
              "      <td>0.10</td>\n",
              "      <td>50</td>\n",
              "    </tr>\n",
              "    <tr>\n",
              "      <th>31</th>\n",
              "      <td>U40_Pred_ass</td>\n",
              "      <td>Different</td>\n",
              "      <td>1.000000</td>\n",
              "      <td>1.00</td>\n",
              "      <td>1.00</td>\n",
              "      <td>50</td>\n",
              "    </tr>\n",
              "    <tr>\n",
              "      <th>32</th>\n",
              "      <td>U41_Pred2_ass</td>\n",
              "      <td>Different</td>\n",
              "      <td>0.880000</td>\n",
              "      <td>0.16</td>\n",
              "      <td>0.15</td>\n",
              "      <td>50</td>\n",
              "    </tr>\n",
              "  </tbody>\n",
              "</table>\n",
              "</div>"
            ],
            "text/plain": [
              "              per    tagName       acc  Prec Recall  count\n",
              "0   B10_Pred2_ass       Easy  0.642857  0.44   0.47     56\n",
              "1   B11_Pred1_ass       Easy  0.500000  0.25   0.36     56\n",
              "2   B12_Pred1_ass       Easy  0.535714  0.46   0.49     56\n",
              "3   U10_Pred2_ass       Easy  0.660714  0.47   0.54     56\n",
              "4        U11_Pred       Easy  0.767857  0.59   0.70     56\n",
              "5    U20_Pred_ass       Easy  0.696429  0.69   0.78     56\n",
              "6   U21_Pred2_ass       Easy  0.750000  0.51   0.59     56\n",
              "7   U30_Pred2_ass       Easy  0.821429  0.67   0.73     56\n",
              "8    U31_Pred_ass       Easy  0.857143  0.71   0.72     56\n",
              "9    U40_Pred_ass       Easy  0.857143  0.70   0.72     56\n",
              "10  U41_Pred2_ass       Easy  0.839286  0.72   0.68     56\n",
              "11  B10_Pred2_ass       Hard  0.613636  0.38   0.48     44\n",
              "12  B11_Pred1_ass       Hard  0.318182  0.15   0.13     44\n",
              "13  B12_Pred1_ass       Hard  0.454545  0.23   0.33     44\n",
              "14  U10_Pred2_ass       Hard  0.454545  0.27   0.30     44\n",
              "15       U11_Pred       Hard  0.750000  0.54   0.65     44\n",
              "16   U20_Pred_ass       Hard  0.568182  0.48   0.60     44\n",
              "17  U21_Pred2_ass       Hard  0.613636  0.38   0.48     44\n",
              "18  U30_Pred2_ass       Hard  0.772727  0.56   0.59     44\n",
              "19   U31_Pred_ass       Hard  0.727273  0.61   0.73     44\n",
              "20   U40_Pred_ass       Hard  0.727273  0.57   0.63     44\n",
              "21  U41_Pred2_ass       Hard  0.659091  0.35   0.42     44\n",
              "22  B10_Pred2_ass  Different  0.660000  0.15   0.17     50\n",
              "23  B11_Pred1_ass  Different  0.460000  0.11   0.13     50\n",
              "24  B12_Pred1_ass  Different  0.580000  0.12   0.16     50\n",
              "25  U10_Pred2_ass  Different  0.760000  0.12   0.10     50\n",
              "26       U11_Pred  Different  0.940000  0.24   0.24     50\n",
              "27   U20_Pred_ass  Different  0.760000  0.29   0.25     50\n",
              "28  U21_Pred2_ass  Different  0.680000  0.09   0.06     50\n",
              "29  U30_Pred2_ass  Different  0.880000  0.20   0.18     50\n",
              "30   U31_Pred_ass  Different  0.760000  0.12   0.10     50\n",
              "31   U40_Pred_ass  Different  1.000000  1.00   1.00     50\n",
              "32  U41_Pred2_ass  Different  0.880000  0.16   0.15     50"
            ]
          },
          "metadata": {
            "tags": []
          },
          "execution_count": 11
        }
      ]
    },
    {
      "cell_type": "code",
      "metadata": {
        "id": "M_mPXsP4y9Bt"
      },
      "source": [
        "result[\"Prec\"] = pd.to_numeric(result[\"Prec\"])\n",
        "result[\"Recall\"] = pd.to_numeric(result[\"Recall\"])"
      ],
      "execution_count": 12,
      "outputs": []
    },
    {
      "cell_type": "code",
      "metadata": {
        "colab": {
          "base_uri": "https://localhost:8080/"
        },
        "id": "kKdo-p2AzBPb",
        "outputId": "1c1db352-a8b5-42aa-be1b-9e0004cb7592"
      },
      "source": [
        "AssistGP5"
      ],
      "execution_count": 13,
      "outputs": [
        {
          "output_type": "execute_result",
          "data": {
            "text/plain": [
              "['B10_Pred2_ass',\n",
              " 'B11_Pred1_ass',\n",
              " 'B12_Pred1_ass',\n",
              " 'U10_Pred2_ass',\n",
              " 'U11_Pred',\n",
              " 'U20_Pred_ass',\n",
              " 'U21_Pred2_ass',\n",
              " 'U30_Pred2_ass',\n",
              " 'U31_Pred_ass',\n",
              " 'U40_Pred_ass',\n",
              " 'U41_Pred2_ass']"
            ]
          },
          "metadata": {
            "tags": []
          },
          "execution_count": 13
        }
      ]
    },
    {
      "cell_type": "code",
      "metadata": {
        "colab": {
          "base_uri": "https://localhost:8080/",
          "height": 172
        },
        "id": "fg3c7KgWzBib",
        "outputId": "f3316c5b-0f56-4791-f372-96f7d3ac1cde"
      },
      "source": [
        "GP = result[(result['per']=='B10_Pred2_ass' )|(result['per']=='B11_Pred1_ass')|(result['per']=='B12_Pred1_ass')|(result['per']=='U10_Pred2_ass')|(result['per']=='U11_Pred')]\n",
        "GP.groupby('tagName').mean()"
      ],
      "execution_count": 14,
      "outputs": [
        {
          "output_type": "execute_result",
          "data": {
            "text/html": [
              "<div>\n",
              "<style scoped>\n",
              "    .dataframe tbody tr th:only-of-type {\n",
              "        vertical-align: middle;\n",
              "    }\n",
              "\n",
              "    .dataframe tbody tr th {\n",
              "        vertical-align: top;\n",
              "    }\n",
              "\n",
              "    .dataframe thead th {\n",
              "        text-align: right;\n",
              "    }\n",
              "</style>\n",
              "<table border=\"1\" class=\"dataframe\">\n",
              "  <thead>\n",
              "    <tr style=\"text-align: right;\">\n",
              "      <th></th>\n",
              "      <th>acc</th>\n",
              "      <th>Prec</th>\n",
              "      <th>Recall</th>\n",
              "      <th>count</th>\n",
              "    </tr>\n",
              "    <tr>\n",
              "      <th>tagName</th>\n",
              "      <th></th>\n",
              "      <th></th>\n",
              "      <th></th>\n",
              "      <th></th>\n",
              "    </tr>\n",
              "  </thead>\n",
              "  <tbody>\n",
              "    <tr>\n",
              "      <th>Different</th>\n",
              "      <td>0.680000</td>\n",
              "      <td>0.148</td>\n",
              "      <td>0.160</td>\n",
              "      <td>50</td>\n",
              "    </tr>\n",
              "    <tr>\n",
              "      <th>Easy</th>\n",
              "      <td>0.621429</td>\n",
              "      <td>0.442</td>\n",
              "      <td>0.512</td>\n",
              "      <td>56</td>\n",
              "    </tr>\n",
              "    <tr>\n",
              "      <th>Hard</th>\n",
              "      <td>0.518182</td>\n",
              "      <td>0.314</td>\n",
              "      <td>0.378</td>\n",
              "      <td>44</td>\n",
              "    </tr>\n",
              "  </tbody>\n",
              "</table>\n",
              "</div>"
            ],
            "text/plain": [
              "                acc   Prec  Recall  count\n",
              "tagName                                  \n",
              "Different  0.680000  0.148   0.160     50\n",
              "Easy       0.621429  0.442   0.512     56\n",
              "Hard       0.518182  0.314   0.378     44"
            ]
          },
          "metadata": {
            "tags": []
          },
          "execution_count": 14
        }
      ]
    },
    {
      "cell_type": "code",
      "metadata": {
        "colab": {
          "base_uri": "https://localhost:8080/",
          "height": 172
        },
        "id": "kxMaKp4TzD1P",
        "outputId": "8d04d937-aaeb-48bd-88df-40dcbe5e6de2"
      },
      "source": [
        "\n",
        "res = result[(result['per']=='U20_Pred_ass' )|(result['per']=='U21_Pred2_ass')]\n",
        "res.groupby('tagName').mean()"
      ],
      "execution_count": 15,
      "outputs": [
        {
          "output_type": "execute_result",
          "data": {
            "text/html": [
              "<div>\n",
              "<style scoped>\n",
              "    .dataframe tbody tr th:only-of-type {\n",
              "        vertical-align: middle;\n",
              "    }\n",
              "\n",
              "    .dataframe tbody tr th {\n",
              "        vertical-align: top;\n",
              "    }\n",
              "\n",
              "    .dataframe thead th {\n",
              "        text-align: right;\n",
              "    }\n",
              "</style>\n",
              "<table border=\"1\" class=\"dataframe\">\n",
              "  <thead>\n",
              "    <tr style=\"text-align: right;\">\n",
              "      <th></th>\n",
              "      <th>acc</th>\n",
              "      <th>Prec</th>\n",
              "      <th>Recall</th>\n",
              "      <th>count</th>\n",
              "    </tr>\n",
              "    <tr>\n",
              "      <th>tagName</th>\n",
              "      <th></th>\n",
              "      <th></th>\n",
              "      <th></th>\n",
              "      <th></th>\n",
              "    </tr>\n",
              "  </thead>\n",
              "  <tbody>\n",
              "    <tr>\n",
              "      <th>Different</th>\n",
              "      <td>0.720000</td>\n",
              "      <td>0.19</td>\n",
              "      <td>0.155</td>\n",
              "      <td>50</td>\n",
              "    </tr>\n",
              "    <tr>\n",
              "      <th>Easy</th>\n",
              "      <td>0.723214</td>\n",
              "      <td>0.60</td>\n",
              "      <td>0.685</td>\n",
              "      <td>56</td>\n",
              "    </tr>\n",
              "    <tr>\n",
              "      <th>Hard</th>\n",
              "      <td>0.590909</td>\n",
              "      <td>0.43</td>\n",
              "      <td>0.540</td>\n",
              "      <td>44</td>\n",
              "    </tr>\n",
              "  </tbody>\n",
              "</table>\n",
              "</div>"
            ],
            "text/plain": [
              "                acc  Prec  Recall  count\n",
              "tagName                                 \n",
              "Different  0.720000  0.19   0.155     50\n",
              "Easy       0.723214  0.60   0.685     56\n",
              "Hard       0.590909  0.43   0.540     44"
            ]
          },
          "metadata": {
            "tags": []
          },
          "execution_count": 15
        }
      ]
    },
    {
      "cell_type": "code",
      "metadata": {
        "colab": {
          "base_uri": "https://localhost:8080/",
          "height": 172
        },
        "id": "ft9RWQ1hzGOe",
        "outputId": "60700fa4-36be-44a0-92c6-513085440566"
      },
      "source": [
        "nonHB = result[(result['per']=='U30_Pred2_ass' )|(result['per']=='U31_Pred_ass')]\n",
        "nonHB.groupby('tagName').mean()"
      ],
      "execution_count": 16,
      "outputs": [
        {
          "output_type": "execute_result",
          "data": {
            "text/html": [
              "<div>\n",
              "<style scoped>\n",
              "    .dataframe tbody tr th:only-of-type {\n",
              "        vertical-align: middle;\n",
              "    }\n",
              "\n",
              "    .dataframe tbody tr th {\n",
              "        vertical-align: top;\n",
              "    }\n",
              "\n",
              "    .dataframe thead th {\n",
              "        text-align: right;\n",
              "    }\n",
              "</style>\n",
              "<table border=\"1\" class=\"dataframe\">\n",
              "  <thead>\n",
              "    <tr style=\"text-align: right;\">\n",
              "      <th></th>\n",
              "      <th>acc</th>\n",
              "      <th>Prec</th>\n",
              "      <th>Recall</th>\n",
              "      <th>count</th>\n",
              "    </tr>\n",
              "    <tr>\n",
              "      <th>tagName</th>\n",
              "      <th></th>\n",
              "      <th></th>\n",
              "      <th></th>\n",
              "      <th></th>\n",
              "    </tr>\n",
              "  </thead>\n",
              "  <tbody>\n",
              "    <tr>\n",
              "      <th>Different</th>\n",
              "      <td>0.820000</td>\n",
              "      <td>0.160</td>\n",
              "      <td>0.140</td>\n",
              "      <td>50</td>\n",
              "    </tr>\n",
              "    <tr>\n",
              "      <th>Easy</th>\n",
              "      <td>0.839286</td>\n",
              "      <td>0.690</td>\n",
              "      <td>0.725</td>\n",
              "      <td>56</td>\n",
              "    </tr>\n",
              "    <tr>\n",
              "      <th>Hard</th>\n",
              "      <td>0.750000</td>\n",
              "      <td>0.585</td>\n",
              "      <td>0.660</td>\n",
              "      <td>44</td>\n",
              "    </tr>\n",
              "  </tbody>\n",
              "</table>\n",
              "</div>"
            ],
            "text/plain": [
              "                acc   Prec  Recall  count\n",
              "tagName                                  \n",
              "Different  0.820000  0.160   0.140     50\n",
              "Easy       0.839286  0.690   0.725     56\n",
              "Hard       0.750000  0.585   0.660     44"
            ]
          },
          "metadata": {
            "tags": []
          },
          "execution_count": 16
        }
      ]
    },
    {
      "cell_type": "code",
      "metadata": {
        "colab": {
          "base_uri": "https://localhost:8080/",
          "height": 172
        },
        "id": "2JI_4R3uzHq-",
        "outputId": "de672161-ef30-4093-be80-4749a8bbb901"
      },
      "source": [
        "HB = result[(result['per']=='U40_Pred_ass' )|(result['per']=='U41_Pred2_ass')]\n",
        "HB.groupby('tagName').mean()"
      ],
      "execution_count": 17,
      "outputs": [
        {
          "output_type": "execute_result",
          "data": {
            "text/html": [
              "<div>\n",
              "<style scoped>\n",
              "    .dataframe tbody tr th:only-of-type {\n",
              "        vertical-align: middle;\n",
              "    }\n",
              "\n",
              "    .dataframe tbody tr th {\n",
              "        vertical-align: top;\n",
              "    }\n",
              "\n",
              "    .dataframe thead th {\n",
              "        text-align: right;\n",
              "    }\n",
              "</style>\n",
              "<table border=\"1\" class=\"dataframe\">\n",
              "  <thead>\n",
              "    <tr style=\"text-align: right;\">\n",
              "      <th></th>\n",
              "      <th>acc</th>\n",
              "      <th>Prec</th>\n",
              "      <th>Recall</th>\n",
              "      <th>count</th>\n",
              "    </tr>\n",
              "    <tr>\n",
              "      <th>tagName</th>\n",
              "      <th></th>\n",
              "      <th></th>\n",
              "      <th></th>\n",
              "      <th></th>\n",
              "    </tr>\n",
              "  </thead>\n",
              "  <tbody>\n",
              "    <tr>\n",
              "      <th>Different</th>\n",
              "      <td>0.940000</td>\n",
              "      <td>0.58</td>\n",
              "      <td>0.575</td>\n",
              "      <td>50</td>\n",
              "    </tr>\n",
              "    <tr>\n",
              "      <th>Easy</th>\n",
              "      <td>0.848214</td>\n",
              "      <td>0.71</td>\n",
              "      <td>0.700</td>\n",
              "      <td>56</td>\n",
              "    </tr>\n",
              "    <tr>\n",
              "      <th>Hard</th>\n",
              "      <td>0.693182</td>\n",
              "      <td>0.46</td>\n",
              "      <td>0.525</td>\n",
              "      <td>44</td>\n",
              "    </tr>\n",
              "  </tbody>\n",
              "</table>\n",
              "</div>"
            ],
            "text/plain": [
              "                acc  Prec  Recall  count\n",
              "tagName                                 \n",
              "Different  0.940000  0.58   0.575     50\n",
              "Easy       0.848214  0.71   0.700     56\n",
              "Hard       0.693182  0.46   0.525     44"
            ]
          },
          "metadata": {
            "tags": []
          },
          "execution_count": 17
        }
      ]
    },
    {
      "cell_type": "code",
      "metadata": {
        "id": "yoZbtXjFz6sa"
      },
      "source": [
        "import matplotlib.pyplot as plt\n",
        "import numpy as np\n",
        "from pylab import plot, show, title, xlabel, ylabel\n",
        "from pylab import legend\n",
        "from pylab import axis"
      ],
      "execution_count": 18,
      "outputs": []
    },
    {
      "cell_type": "markdown",
      "metadata": {
        "id": "qWCuBWQN054K"
      },
      "source": [
        "### - Acc."
      ]
    },
    {
      "cell_type": "code",
      "metadata": {
        "colab": {
          "base_uri": "https://localhost:8080/",
          "height": 361
        },
        "id": "d8lMtZIAzJWM",
        "outputId": "2ef36b8b-cffa-4f30-9ce4-4fe90371b138"
      },
      "source": [
        "fig, ax = plt.subplots(figsize=(10, 5))\n",
        "\n",
        "H = [0.518182,0.590909,0.750000,0.693182]\n",
        "E = [0.621429,0.723214,0.839286,0.848214]\n",
        "D = [0.68,0.720000,0.820000,0.940000]\n",
        "\n",
        "plt.ylim(0.,1) \n",
        "x = np.arange(0,2,0.5)  # the label locations\n",
        "\n",
        "# plt.plot(x, y, 'g-', label='Assist')\n",
        "plt.plot(x, E, color='#02ab2e', linestyle='-', linewidth = 2, marker='o', markeredgecolor='black', markersize=8, label = 'Easy')\n",
        "plt.plot(x, H, color='#e50000', linestyle='-', linewidth = 2, marker='^', markeredgecolor='black', markersize=8, label = 'Hard')\n",
        "plt.plot(x, D, color='#fac205', linestyle='-', linewidth = 2, marker='X', markeredgecolor='black', markersize=8, label = 'Difference')\n",
        "\n",
        "# plt.title('The difference of Before and After(Abn&Nor)',fontsize=20) \n",
        "plt.title('Ultrasound image level of 15 abnormalities',fontsize=18) \n",
        "plt.xlabel('Groups of participants based on experience',fontsize=14)\n",
        "plt.ylabel('Average Accuracy',fontsize=14)\n",
        "ax.set_xticks(x)\n",
        "labels = ['GP', 'Resident Radiologist','Non-HB Radiologist','HB Radiologist']\n",
        "ax.set_xticklabels(labels,fontsize=12)\n",
        "plt.legend(loc='lower right')\n",
        "\n",
        "show()"
      ],
      "execution_count": 19,
      "outputs": [
        {
          "output_type": "display_data",
          "data": {
            "image/png": "[encoded data removed]",
            "text/plain": [
              "<Figure size 720x360 with 1 Axes>"
            ]
          },
          "metadata": {
            "tags": [],
            "needs_background": "light"
          }
        }
      ]
    },
    {
      "cell_type": "markdown",
      "metadata": {
        "id": "aEZZ8GaJ1ALN"
      },
      "source": [
        "### - Prec."
      ]
    },
    {
      "cell_type": "code",
      "metadata": {
        "colab": {
          "base_uri": "https://localhost:8080/",
          "height": 361
        },
        "id": "uw0GIDXdzyUy",
        "outputId": "9db7a56f-c871-4bca-9ddf-e6879e22d5e0"
      },
      "source": [
        "fig, ax = plt.subplots(figsize=(10, 5))\n",
        "\n",
        "H = [0.314,0.43,0.585,0.46]\n",
        "E = [0.442,0.60,0.690,0.71]\n",
        "D = [0.148,0.19,0.160,0.58]\n",
        "\n",
        "plt.ylim(0.,1) \n",
        "x = np.arange(0,2,0.5)  # the label locations\n",
        "\n",
        "# plt.plot(x, y, 'g-', label='Assist')\n",
        "plt.plot(x, E, color='#02ab2e', linestyle='-', linewidth = 2, marker='o', markeredgecolor='black', markersize=8, label = 'Easy')\n",
        "plt.plot(x, H, color='#e50000', linestyle='-', linewidth = 2, marker='^', markeredgecolor='black', markersize=8, label = 'Hard')\n",
        "plt.plot(x, D, color='#fac205', linestyle='-', linewidth = 2, marker='X', markeredgecolor='black', markersize=8, label = 'Difference')\n",
        "\n",
        "# plt.title('The difference of Before and After(Abn&Nor)',fontsize=20) \n",
        "plt.title('Ultrasound image level of 15 abnormalities',fontsize=18) \n",
        "plt.xlabel('Groups of participants based on experience',fontsize=14)\n",
        "plt.ylabel('Average Precision',fontsize=14)\n",
        "ax.set_xticks(x)\n",
        "labels = ['GP', 'Resident Radiologist','Non-HB Radiologist','HB Radiologist']\n",
        "ax.set_xticklabels(labels,fontsize=12)\n",
        "plt.legend(loc='lower right')\n",
        "\n",
        "show()"
      ],
      "execution_count": 20,
      "outputs": [
        {
          "output_type": "display_data",
          "data": {
            "image/png": "[encoded data removed]",
            "text/plain": [
              "<Figure size 720x360 with 1 Axes>"
            ]
          },
          "metadata": {
            "tags": [],
            "needs_background": "light"
          }
        }
      ]
    },
    {
      "cell_type": "markdown",
      "metadata": {
        "id": "L2VlWiCo1Cu3"
      },
      "source": [
        "### - Recall."
      ]
    },
    {
      "cell_type": "code",
      "metadata": {
        "colab": {
          "base_uri": "https://localhost:8080/",
          "height": 361
        },
        "id": "0dHkjlaY1E9j",
        "outputId": "d7ad457f-1879-43af-fdca-c129fa4b4f12"
      },
      "source": [
        "fig, ax = plt.subplots(figsize=(10, 5))\n",
        "\n",
        "H = [0.378,0.540,0.660,0.525]\n",
        "E = [0.512,0.685,0.725,0.700]\n",
        "D = [0.160,0.155,0.140,0.575]\n",
        "\n",
        "plt.ylim(0.,1) \n",
        "x = np.arange(0,2,0.5)  # the label locations\n",
        "\n",
        "# plt.plot(x, y, 'g-', label='Assist')\n",
        "plt.plot(x, E, color='#02ab2e', linestyle='-', linewidth = 2, marker='o', markeredgecolor='black', markersize=8, label = 'Easy')\n",
        "plt.plot(x, H, color='#e50000', linestyle='-', linewidth = 2, marker='^', markeredgecolor='black', markersize=8, label = 'Hard')\n",
        "plt.plot(x, D, color='#fac205', linestyle='-', linewidth = 2, marker='X', markeredgecolor='black', markersize=8, label = 'Difference')\n",
        "\n",
        "# plt.title('The difference of Before and After(Abn&Nor)',fontsize=20) \n",
        "plt.title('Ultrasound image level of 15 abnormalities',fontsize=18) \n",
        "plt.xlabel('Groups of participants based on experience',fontsize=14)\n",
        "plt.ylabel('Average Recall',fontsize=14)\n",
        "ax.set_xticks(x)\n",
        "labels = ['GP', 'Resident Radiologist','Non-HB Radiologist','HB Radiologist']\n",
        "ax.set_xticklabels(labels,fontsize=12)\n",
        "plt.legend(loc='lower right')\n",
        "\n",
        "show()"
      ],
      "execution_count": 21,
      "outputs": [
        {
          "output_type": "display_data",
          "data": {
            "image/png": "[encoded data removed]",
            "text/plain": [
              "<Figure size 720x360 with 1 Axes>"
            ]
          },
          "metadata": {
            "tags": [],
            "needs_background": "light"
          }
        }
      ]
    },
    {
      "cell_type": "code",
      "metadata": {
        "id": "D3JtSEU123nT"
      },
      "source": [
        ""
      ],
      "execution_count": null,
      "outputs": []
    }
  ]
}